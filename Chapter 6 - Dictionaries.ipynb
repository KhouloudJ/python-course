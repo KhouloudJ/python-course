{
 "cells": [
  {
   "cell_type": "markdown",
   "metadata": {},
   "source": [
    "# Dictionaries"
   ]
  },
  {
   "cell_type": "markdown",
   "metadata": {},
   "source": [
    "## Introduction"
   ]
  },
  {
   "cell_type": "markdown",
   "metadata": {},
   "source": [
    "There are different types of data structures available in Python, while some of these might come across as very similar, they all have different pros and cons. Previously you have seen two such data structures: lists and tuples. In this chapter you will learn about a third one: Dictionaries. A dictionary is a type of \"associative memory\" or key:value storage, it allows you to describe two pieces of data and their relationship. This might seem very abstract, but lets break it down.\n",
    "\n",
    "We would sometimes like to describe several pieces of information in a way that it is clear that they belong together.  For example if I want to keep track of the grade of a student I can store their u-number and their grade in a tuple as such:"
   ]
  },
  {
   "cell_type": "code",
   "execution_count": 1,
   "metadata": {
    "collapsed": true
   },
   "outputs": [],
   "source": [
    "student = ('u123456', 8.5)"
   ]
  },
  {
   "cell_type": "markdown",
   "metadata": {},
   "source": [
    "However, if there are multiple students then we cannot suffice with a single tuple. Previously we have worked with lists, and a first straightforward solution seems to be to store this information in two lists:"
   ]
  },
  {
   "cell_type": "code",
   "execution_count": 2,
   "metadata": {
    "collapsed": false
   },
   "outputs": [
    {
     "name": "stdout",
     "output_type": "stream",
     "text": [
      "7.5\n"
     ]
    }
   ],
   "source": [
    "unumbers = ['u123456', 'u223416', 'u383213', 'u234178']\n",
    "grades = [8.5, 7, 8, 6.5]\n",
    "print(sum(grades) / len(grades)) # Calculate the average grade"
   ]
  },
  {
   "cell_type": "markdown",
   "metadata": {},
   "source": [
    "This solution allows us to store the information of multiple students, and makes it very easy to analyse the grades. However, the relationship between the grade and the u-number is not modeled in an explicit way, which means we have to remember that the order of the students list and the grades list are the same. If the order of one of these ever changes we will be in big trouble.\n",
    "\n",
    "Another solution is to store a list of tuples, like so:"
   ]
  },
  {
   "cell_type": "code",
   "execution_count": 3,
   "metadata": {
    "collapsed": false
   },
   "outputs": [
    {
     "name": "stdout",
     "output_type": "stream",
     "text": [
      "7.5\n"
     ]
    }
   ],
   "source": [
    "students = [('u123456', 8.5), ('u223416', 7), ('u383213', 8), ('u234178', 6.5)]\n",
    "# Calculating the average grade:\n",
    "sum_of_grades = 0\n",
    "for (unumber, grade) in students: \n",
    "    sum_of_grades = sum_of_grades + grade\n",
    "print(sum_of_grades / len(students)) # The average grade"
   ]
  },
  {
   "cell_type": "markdown",
   "metadata": {},
   "source": [
    "Using a list of tuples we can store multiple students while clearly modeling the relationship between the student and their grade. Calculating the average grade is also not that complicated as we just have to loop over the list and extract the grade from the tuple in order to calculate the sum of all the grades. However, what if we would like to look up the grade of a particular student? "
   ]
  },
  {
   "cell_type": "code",
   "execution_count": 4,
   "metadata": {
    "collapsed": false
   },
   "outputs": [
    {
     "name": "stdout",
     "output_type": "stream",
     "text": [
      "6.5\n"
     ]
    }
   ],
   "source": [
    "students = [('u123456', 8.5), ('u223416', 7), ('u383213', 8), ('u234178', 6.5)]\n",
    "query = 'u234178'\n",
    "for student in students:\n",
    "    if student[0] == query:\n",
    "        print student[1]"
   ]
  },
  {
   "cell_type": "markdown",
   "metadata": {},
   "source": [
    "We needed to go through the first 3 students and then find out the grade of the student in question. But imagine if this list was way longer containing all the archive data as well e.g.: for 5000 students per year the list would be 50,000 element long for 10 years of data. "
   ]
  },
  {
   "cell_type": "markdown",
   "metadata": {},
   "source": [
    "Now let's imagine that we cant't reuse the u-numbers and every time we have a new student we have to make sure that the newly generated number is not among the old ones. So what do we do?"
   ]
  },
  {
   "cell_type": "code",
   "execution_count": 5,
   "metadata": {
    "collapsed": false
   },
   "outputs": [
    {
     "name": "stdout",
     "output_type": "stream",
     "text": [
      "False\n",
      "No\n",
      "No\n",
      "No\n",
      "No\n"
     ]
    }
   ],
   "source": [
    "students = [('u123456', 8.5), ('u223416', 7), ('u383213', 8), ('u234178', 6.5)]\n",
    "candidate = 'u234179'\n",
    "print candidate in students # checking membership\n",
    "# which is the same as\n",
    "for student in students:\n",
    "    if student[0] == candidate:\n",
    "        print \"Yes\"\n",
    "    else:\n",
    "        print \"No\""
   ]
  },
  {
   "cell_type": "markdown",
   "metadata": {},
   "source": [
    "We went through the whole list just to check out if we have an element in it or not! Thats pretty inefficient. The take home message here is that lists are not really good if we want to look things up in it or for checking the membership of an element. Dictionaries for the rescue!"
   ]
  },
  {
   "cell_type": "markdown",
   "metadata": {},
   "source": [
    "## Using dictionaries"
   ]
  },
  {
   "cell_type": "markdown",
   "metadata": {},
   "source": [
    "At first glance the Python code for using a dictionary looks very similar to to that for lists, with the difference being that for lists we use [] to create them and for dictionaries we use {}:"
   ]
  },
  {
   "cell_type": "code",
   "execution_count": 6,
   "metadata": {
    "collapsed": true
   },
   "outputs": [],
   "source": [
    "empty_list = [] # Create an empty list\n",
    "empty_dict = {} # Create an empty dictionary"
   ]
  },
  {
   "cell_type": "markdown",
   "metadata": {},
   "source": [
    "A dictionary consists of one or more key:value pairs, the key is the 'identifier' or \"name\" that is used to describe the value. If we would want to store the ordinal values for a list of characters we could for example do the following: "
   ]
  },
  {
   "cell_type": "code",
   "execution_count": 8,
   "metadata": {
    "collapsed": false
   },
   "outputs": [
    {
     "name": "stdout",
     "output_type": "stream",
     "text": [
      "{'Emily Everett': 6784346, 'Andrew Parson': 8806336, 'Lewis Lame': 1122345, 'Peter Power': 7658344} \n",
      "\n",
      "['Emily Everett', 'Andrew Parson', 'Lewis Lame', 'Peter Power'] \n",
      "\n",
      "[6784346, 8806336, 1122345, 7658344]\n"
     ]
    }
   ],
   "source": [
    "phonebook = {'Lewis Lame':1122345,'Andrew Parson':8806336,'Peter Power':7658344,'Emily Everett':6784346}\n",
    "\n",
    "print phonebook, '\\n'        # printing the phonebook\n",
    "print phonebook.keys(), '\\n' # method to retrieve the keys\n",
    "print phonebook.values()     # method to retrieve the values"
   ]
  },
  {
   "cell_type": "markdown",
   "metadata": {},
   "source": [
    "Let us examine what just happened a bit. We created a phonebook a dictionary of the form {'name': phonenumber}, where the **keys** are strings of the names of people and the **values** are integers representing phone numbers. Note that when we print out the dictionary the key:value pairs are in a different order. This is very important difference between **lists** and **dictionaries**: lists are odereder, while dictionaries are undordered collections.\n",
    "\n",
    "For another example let's create a dictionary containing the u-numbers and the grades. We can directly create a dictionary from scratch as we did before or we can convert our list of tuples to a dictionary."
   ]
  },
  {
   "cell_type": "code",
   "execution_count": 13,
   "metadata": {
    "collapsed": false
   },
   "outputs": [
    {
     "name": "stdout",
     "output_type": "stream",
     "text": [
      "{'u383213': 8, 'u223416': 7, 'u234178': 6.5, 'u123456': 8.5}\n",
      "{'u383213': 8, 'u223416': 7, 'u234178': 6.5, 'u123456': 8.5}\n"
     ]
    }
   ],
   "source": [
    "# From scratch:\n",
    "dict_students = {'u123456': 8.5, 'u223416' : 7, 'u383213' : 8, 'u234178' : 6.5}\n",
    " # Convert the list of tuples to a dictionary using the dict() function:\n",
    "students = [('u123456', 8.5), ('u223416', 7), ('u383213', 8), ('u234178', 6.5)]\n",
    "alternative_dict = dict(students)\n",
    "\n",
    "print(dict_students)\n",
    "print(alternative_dict)\n",
    "# From the print statements we can see that the two dictionaries are identical.\n",
    "# Note: the order of the dictionary as printed below might not be identica to how we created it,\n",
    "# a dictionary is unordered, as such the order of the elements is random."
   ]
  },
  {
   "cell_type": "markdown",
   "metadata": {},
   "source": [
    "One of the nicest attributes of dictionaries is the manner in which we can access the elements. We can use the key to get the corresponding value, so if we want to retrieve the grade of the student with u-number u223416 we can do:"
   ]
  },
  {
   "cell_type": "code",
   "execution_count": 14,
   "metadata": {
    "collapsed": false
   },
   "outputs": [
    {
     "name": "stdout",
     "output_type": "stream",
     "text": [
      "7\n"
     ]
    }
   ],
   "source": [
    "print(dict_students['u223416'])"
   ]
  },
  {
   "cell_type": "markdown",
   "metadata": {},
   "source": [
    "For a list we can only do this in the same way if we know the position in the list that the student is at, and if the position is unknown we have to check all elements of the list (which can be slow for big lists):"
   ]
  },
  {
   "cell_type": "code",
   "execution_count": 15,
   "metadata": {
    "collapsed": false
   },
   "outputs": [
    {
     "name": "stdout",
     "output_type": "stream",
     "text": [
      "7\n",
      "('u223416', 7)\n"
     ]
    }
   ],
   "source": [
    "# If you don't know the position in the lists of tuples:\n",
    "students = [('u123456', 8.5), ('u223416', 7), ('u383213', 8), ('u234178', 6.5)]\n",
    "for (unumber, grade) in students:\n",
    "    if unumber == 'u223416':\n",
    "        print(grade)\n",
    "\n",
    "# If we do know the position:\n",
    "print(students[1]) # When we created our list this student was added second, so it is at position 1"
   ]
  },
  {
   "cell_type": "markdown",
   "metadata": {},
   "source": [
    "Back to dictionaries. If we want to modify the content of a dictionary we can use the key to access the element we want to change:"
   ]
  },
  {
   "cell_type": "code",
   "execution_count": null,
   "metadata": {
    "collapsed": false
   },
   "outputs": [],
   "source": [
    "dict_students['u223416'] = 8 # Change the grade of student u223416 to an 8\n",
    "dict_students['u223416'] -= 1 # and back to a 7\n",
    "\n",
    "dict_students['mistake'] = 0 # 'Accidently' add a mistake to our dict, notice that this adds a new element to the dict!\n",
    "print(dict_students)\n",
    "\n",
    "del dict_students['mistake'] # Remove the mistake\n",
    "print(dict_students)"
   ]
  },
  {
   "cell_type": "markdown",
   "metadata": {},
   "source": [
    "## Iterating over dictionaries"
   ]
  },
  {
   "cell_type": "markdown",
   "metadata": {},
   "source": [
    "Another nice attribute of dictionaries is that we can iterate over the content of a dictionary. While the order of the dictionary is essentially random, this can be useful in cases where the order is not important. For example when we want to calculate the average grade:"
   ]
  },
  {
   "cell_type": "code",
   "execution_count": null,
   "metadata": {
    "collapsed": false
   },
   "outputs": [],
   "source": [
    "dict_sum = 0\n",
    "for unumber in dict_students:\n",
    "    grade = dict_students[unumber] # Retrieve the grade from the dictionary\n",
    "    dict_sum = dict_sum + grade\n",
    "print(dict_sum / len(dict_students))"
   ]
  },
  {
   "cell_type": "markdown",
   "metadata": {},
   "source": [
    "However, this is even more complicated than our list of tuples example, so you might now be wondering how dictionaries are better for this example. Dictionaries are very useful because we can iterate over them in different ways, and there are several functions that help you with this:\n",
    "\n",
    "* dict.keys(), to return a list of all the keys in our dict\n",
    "* dict.items(), to return a list of tuples of all the (key, value) pairs in our dict\n",
    "* dict.values(), to return a list of all the values in our dict\n",
    "\n",
    "As you saw in the above for loop, by default Python will choose the dict.keys() function and loop over all the keys in the dict. So the same example, but more explicit would be:"
   ]
  },
  {
   "cell_type": "code",
   "execution_count": null,
   "metadata": {
    "collapsed": false
   },
   "outputs": [],
   "source": [
    "dict_sum = 0\n",
    "for unumber in dict_students.keys():\n",
    "    grade = dict_students[unumber] # Retrieve the grade from the dictionary\n",
    "    dict_sum = dict_sum + grade\n",
    "print(dict_sum / len(dict_students))"
   ]
  },
  {
   "cell_type": "markdown",
   "metadata": {},
   "source": [
    "We can also use the dict.items() function for this example: "
   ]
  },
  {
   "cell_type": "code",
   "execution_count": null,
   "metadata": {
    "collapsed": false
   },
   "outputs": [],
   "source": [
    "dict_sum = 0\n",
    "for (unumber, grade) in dict_students.items():\n",
    "    # Now we no longer need to retrieve the grade from the dictionary\n",
    "    dict_sum = dict_sum + grade\n",
    "print(dict_sum / len(dict_students))"
   ]
  },
  {
   "cell_type": "markdown",
   "metadata": {},
   "source": [
    "However, because we can also return a list of all the values we can simplify the code to calculate the average grade significantly, by taking the sum of the dict.values() and dividing this by the number of elements in our dictionary:"
   ]
  },
  {
   "cell_type": "code",
   "execution_count": null,
   "metadata": {
    "collapsed": false
   },
   "outputs": [],
   "source": [
    "print(sum(dict_students.values()) / len(dict_students)) # Calculate the average grade"
   ]
  },
  {
   "cell_type": "markdown",
   "metadata": {},
   "source": [
    "Because dictionaries are a very clever, it is possible to use them as lists of tuples, and as multiple lists. Which is something we can verify using some print statements:"
   ]
  },
  {
   "cell_type": "code",
   "execution_count": null,
   "metadata": {
    "collapsed": false
   },
   "outputs": [],
   "source": [
    "# The unumbers list from our multiple lists example\n",
    "unumbers = ['u123456', 'u223416', 'u383213', 'u234178']\n",
    "print('unumbers:', unumbers)\n",
    "# contains the same unumbers as dict_students.keys() (but in a different order, because dictionaries are unodered)\n",
    "dict_students = {'u123456': 8.5, 'u223416' : 7, 'u383213' : 8, 'u234178' : 6.5}\n",
    "print('dict_students.keys():', dict_students.keys())\n",
    "\n",
    "print()\n",
    "\n",
    "# And the same for the grades\n",
    "grades = [8.5, 7, 8, 6.5]\n",
    "print('grades:', grades)\n",
    "# and dict_student.values()\n",
    "print('dict_students.values():', dict_students.values())\n",
    "\n",
    "print()\n",
    "\n",
    "# Similar the list of tuples\n",
    "students = [('u123456', 8.5), ('u223416', 7), ('u383213', 8), ('u234178', 6.5)]\n",
    "print(students)\n",
    "# Contains the same tuples as dict_students.items()\n",
    "print(dict_students.items())"
   ]
  },
  {
   "cell_type": "markdown",
   "metadata": {},
   "source": [
    "Thanks to these possibilities of dictionaries we have all the benefits of both lists of tuples and multiples lists, and none of the downsides."
   ]
  },
  {
   "cell_type": "markdown",
   "metadata": {},
   "source": [
    "##### Testing if a key is in a dictionary\n",
    "\n",
    "When using dictionaries it can be important to know whether an entry with a certain key already exists. This can be checked using the 'in' keyword and the list of keys that can be retrieved using the .keys() method."
   ]
  },
  {
   "cell_type": "code",
   "execution_count": null,
   "metadata": {
    "collapsed": false
   },
   "outputs": [],
   "source": [
    "dict_students = {'u123456': 8.5, 'u223416' : 7, 'u383213' : 8, 'u234178' : 6.5}\n",
    "\n",
    "for unum in ['u123456', 'u223416', 'u000000']: # List of students we want to check\n",
    "    if unum in dict_students.keys():\n",
    "        print(unum, 'is in our dictionary')\n",
    "    else:\n",
    "        print(unum, 'is NOT in our dictionary')   \n",
    "print()\n",
    "\n",
    "# because the .keys() method returns a list the following simply prints the outcome of the boolean expression.\n",
    "print('u123456' in dict_students.keys())"
   ]
  },
  {
   "cell_type": "markdown",
   "metadata": {},
   "source": [
    "## Storing more complex values"
   ]
  },
  {
   "cell_type": "markdown",
   "metadata": {},
   "source": [
    "Until now we have only considered the case in which the key:value pairs that we want to store consist of a single value. However, it is possible to store much more complex values in dictionaries. We could for example store an entire  list:"
   ]
  },
  {
   "cell_type": "code",
   "execution_count": null,
   "metadata": {
    "collapsed": false
   },
   "outputs": [],
   "source": [
    "courses = {'Data processing': ['u123456', 'u383213', 'u234178'], \n",
    "           'Statistics' : ['u123456', 'u223416', 'u234178'], \n",
    "           'Introduction HAIT' : ['u123456', 'u223416', 'u383213']}\n",
    "\n",
    "print(courses)"
   ]
  },
  {
   "cell_type": "markdown",
   "metadata": {},
   "source": [
    "Which allows us to store which students are taking which courses. But because we have shown in the previous examples that we would like to store the students grades, we can actually also store another dictionary as the value:"
   ]
  },
  {
   "cell_type": "code",
   "execution_count": null,
   "metadata": {
    "collapsed": false
   },
   "outputs": [],
   "source": [
    "courses_grades = {'Data processing': {'u123456': 8, 'u383213' : 8, 'u234178' : 6.5}, \n",
    "           'Statistics' : {'u123456': 5.2, 'u223416' : 7.2, 'u234178' : 8}, \n",
    "           'Introduction HAIT' : {'u123456': 8, 'u223416' : 6.6, 'u383213' : 7}}\n",
    "\n",
    "print(courses_grades)\n",
    "\n",
    "print()\n",
    "\n",
    "# Calculating the average grade per course:\n",
    "for (course, results) in courses_grades.items():\n",
    "    avg = sum(results.values()) / len(results)\n",
    "    print(course, avg)"
   ]
  },
  {
   "cell_type": "markdown",
   "metadata": {},
   "source": [
    "Additionally, we could repeat this pattern indefinitely, or we can choose to store a list of multiple grades rather than a single grade per course. However, it depends on your use case and how complex your data structure needs to be. Often simpler is better.\n",
    "\n",
    "Repeatedly placing data structures inside similar other data structures is commonly referred to as nesting, which allows to create an hierarchy of (nested) data structures."
   ]
  },
  {
   "cell_type": "markdown",
   "metadata": {},
   "source": [
    "## More complex keys"
   ]
  },
  {
   "cell_type": "markdown",
   "metadata": {},
   "source": [
    "So far all the keys we've used were strings, but they don't have to be. In fact, Python is happy with a great variety of key types (except for lists). In this section we'll consider two additional key types: integers, and tuples.\n",
    "\n",
    "When using an integer as the key a dictionary can look a lot like a list, as we can see from the following example:"
   ]
  },
  {
   "cell_type": "code",
   "execution_count": null,
   "metadata": {
    "collapsed": false
   },
   "outputs": [],
   "source": [
    "# Create a dictionary and a list of our 8 digit number.\n",
    "integer_dict = {0: 4, 1: 0, 2: 6, 3: 3, 4: 1, 5: 7, 6: 8, 7: 5} \n",
    "integer_list = [4, 0, 6, 3, 1, 7, 8, 5]\n",
    "\n",
    "# Go over the numbers one by one and compare them\n",
    "for i in range(0, 8):\n",
    "    print(\"Entry\", i, \"has the value\", integer_dict[i], \"in the dictionary, and\", integer_list[i], \"in the list.\")\n",
    "    "
   ]
  },
  {
   "cell_type": "markdown",
   "metadata": {},
   "source": [
    "As you can see we can use the same syntax to access the values in both the dictionary and the list, and because we assigned them similarly all the values are the same. Yet, on closer inspection you will notice that a dictionary and a list behave very differently:"
   ]
  },
  {
   "cell_type": "code",
   "execution_count": null,
   "metadata": {
    "collapsed": false
   },
   "outputs": [],
   "source": [
    "# Create another dict and list \n",
    "another_dict = {0: 4, 1: 0, 2: 6, 3: 3, 4: 1, 5: 7, 6: 8, 7: 5} \n",
    "another_list = [4, 0, 6, 3, 1, 7, 8, 5]\n",
    "# Print their values\n",
    "print(another_dict.values())\n",
    "print(another_list)\n",
    "print()\n",
    "# Remove the 4th element from both the list and the dict\n",
    "del another_dict[4]\n",
    "del another_list[4]\n",
    "# Print their values again\n",
    "print(another_dict.values())\n",
    "print(another_list)\n",
    "print()\n",
    "# They look similar enough right?\n",
    "# But what if we print the keys for the dictionary\n",
    "print(another_dict.keys())\n",
    "# The 4 is gone, but it still goes to 7\n",
    "print(range(0, len(another_list)))\n",
    "# Yet the list goes from 0 to 6\n",
    "print()\n",
    "# and if we try to print the 4th element from the list\n",
    "print(another_list[4])\n",
    "# It works well, but the dict will give an error\n",
    "print(another_dict[4])"
   ]
  },
  {
   "cell_type": "markdown",
   "metadata": {},
   "source": [
    "Hopefully this example makes it clear that it can be tempting to think of a dictionary as a list, but that their behaviour is very different and it can lead to problems if we treat a dictionary as a list.\n",
    "\n",
    "A more useful application for dictionaries with integers as keys is found when the keys have more importance, and we don't want to start at 0, for example when we want to keep track in which year a group of students were born:"
   ]
  },
  {
   "cell_type": "code",
   "execution_count": null,
   "metadata": {
    "collapsed": false
   },
   "outputs": [],
   "source": [
    "birthyears = {1989: ['u123456'], 1991: ['u223416', 'u234178'], 1992: ['u383213']}\n",
    "print(birthyears)"
   ]
  },
  {
   "cell_type": "markdown",
   "metadata": {},
   "source": [
    "In the case of birthyears it is useful that we can use a dictionary instead of a list as we do not want to create a list that starts at 0, because of the severe lack of students that were born before the year 1900. \n",
    "\n",
    "It is also possible to create a dictionary with a tuple as the key, this can be useful when we want to use two distinct pieces of information to create the key. An example of this is when we have a list of courses and grades for multiple years, as the courses are taught every year."
   ]
  },
  {
   "cell_type": "code",
   "execution_count": null,
   "metadata": {
    "collapsed": false
   },
   "outputs": [],
   "source": [
    "yearly_courses_grades = {('Data processing', '2013/2014'): {'u123456': 8, 'u383213' : 8, 'u234178' : 6.5}, \n",
    "                         ('Data processing', '2014/2015'): {'u423486': 7, 'u213242' : 9, 'u265421' : 7.5},\n",
    "                         ('Statistics', '2013/2014') : {'u123456': 5.2, 'u223416' : 7.2, 'u234178' : 8},\n",
    "                         ('Statistics', '2014/2015') : {'u423486': 6.5, 'u213242' : 8, 'u265421' : 7}}\n",
    "\n",
    "# And we can retrieve the information using the same tuples\n",
    "print('The grade for u123456 for Data Processing 2013/2014 was:', \n",
    "      yearly_courses_grades[('Data processing', '2013/2014')]['u123456'])\n",
    "\n",
    "print('The grade for u123456 for Data Statistics 2013/2014 was:', \n",
    "      yearly_courses_grades[('Statistics', '2013/2014')]['u123456'])"
   ]
  },
  {
   "cell_type": "markdown",
   "metadata": {},
   "source": [
    "Similarly to the values, the keys can be made very complex (any immutable object can be a key), but often you don't need such complexity. Try to keep it simple and appropriate for your purpose."
   ]
  },
  {
   "cell_type": "markdown",
   "metadata": {},
   "source": [
    "## Excercises"
   ]
  },
  {
   "cell_type": "markdown",
   "metadata": {},
   "source": [
    "* Ex 1. Write a function that given two lists returns a dictionary whose keys are the first list, and the values the second list. Then call your function with the two lists below and print the title and IMDB rating for each movie."
   ]
  },
  {
   "cell_type": "code",
   "execution_count": null,
   "metadata": {
    "collapsed": false
   },
   "outputs": [],
   "source": [
    "keyList = ['The Shawshank Redemption', 'The Godfather', 'The Godfather: Part II', 'The Dark Knight', '12 Angry Men', 'Schindler\\'s List', 'Pulp Fiction']\n",
    "valueList = [9.2, 9.2, 9.0, 8.9, 8.9, 8.9, 8.9]\n",
    "\n",
    "# Your code here"
   ]
  },
  {
   "cell_type": "markdown",
   "metadata": {},
   "source": [
    "* Ex 2. Add the movies from the newEntries list of tuples to the dictionary you created in excercise 1. If the movie is already in your dictionary you shouldn't try and add it again."
   ]
  },
  {
   "cell_type": "code",
   "execution_count": null,
   "metadata": {
    "collapsed": true
   },
   "outputs": [],
   "source": [
    "newEntries = [('Fight Club', 8.8), ('Forrest Gump', 8.7), ('The Godfather', 'WRONG'), ('Spirited Away', 8.5), ('A Clockwork Orange', 8.3), ('The Dark Knight', 'WRONG')]\n",
    "\n",
    "# Your code here"
   ]
  },
  {
   "cell_type": "markdown",
   "metadata": {},
   "source": [
    "* Ex 3. Copy the 'courses_grades' dictionary from the example above and calculate the average grade for the student with u-number 'u123456' across all three courses."
   ]
  }
 ],
 "metadata": {
  "kernelspec": {
   "display_name": "Python 2",
   "language": "python",
   "name": "python2"
  },
  "language_info": {
   "codemirror_mode": {
    "name": "ipython",
    "version": 2
   },
   "file_extension": ".py",
   "mimetype": "text/x-python",
   "name": "python",
   "nbconvert_exporter": "python",
   "pygments_lexer": "ipython2",
   "version": "2.7.9"
  }
 },
 "nbformat": 4,
 "nbformat_minor": 0
}
