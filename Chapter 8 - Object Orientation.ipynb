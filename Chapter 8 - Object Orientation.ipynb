{
 "cells": [
  {
   "cell_type": "code",
   "execution_count": 15,
   "metadata": {
    "collapsed": false
   },
   "outputs": [
    {
     "name": "stdout",
     "output_type": "stream",
     "text": [
      "Populating the interactive namespace from numpy and matplotlib\n"
     ]
    },
    {
     "name": "stderr",
     "output_type": "stream",
     "text": [
      "WARNING: pylab import has clobbered these variables: ['random', 'randint']\n",
      "`%matplotlib` prevents importing * from pylab and numpy\n"
     ]
    }
   ],
   "source": [
    "#  string\n",
    "import string\n",
    "from collections import Counter\n",
    "from random import choice, randint, random\n",
    "%pylab inline"
   ]
  },
  {
   "cell_type": "markdown",
   "metadata": {},
   "source": [
    "- write a thing about the pylab variables\n",
    "- Have a Chapter title\n",
    "- We were demonstrate this with this Garden\n",
    "\n",
    "\n",
    "- OBJECTS SECTION\n",
    "- CLASS(same as type) --> OBJECT(instance) --> Attributes(variables) --> Methods\n",
    "\n",
    "\n",
    "\n",
    "\n",
    "\n",
    "\n",
    "- explain the list comprehention a bit\n",
    "- Explain the plotting part\n",
    "- re-write the condition in more imperative style\n",
    "- do random.choice rather than choice\n",
    "\n"
   ]
  },
  {
   "cell_type": "markdown",
   "metadata": {},
   "source": [
    "# Introduction to Object Oriented Programming"
   ]
  },
  {
   "cell_type": "markdown",
   "metadata": {},
   "source": [
    "Creating a **class** means defining a data type containg it's own variables (attributes) and functions (methods). Let's take for example the built-in python type *str*: it has it's own methods such as .lower() and .strip(). Creating an object is like creating your own variable type. **Class** describes the abstract characteristics of some sort of thing that we wish to **model** and an **object** is an actual instance of a class e.g. *3* is an instance of the class *integer* or an actual strawberry cake can be thought of as an instance of the strawberry cake recipe \"class\". The set of values of the attributes of a particular object is called its **state**. So the strawberry cake when its made is yummy and fresh, but as time passes by it state becomes rotten unfortunately. The terms object and instance are normally used synonymously. We will go through all these concepts in detail through the implementation of the Garden World. "
   ]
  },
  {
   "cell_type": "markdown",
   "metadata": {},
   "source": [
    "## The Garden World"
   ]
  },
  {
   "cell_type": "markdown",
   "metadata": {},
   "source": [
    "We will learn object orientation today through a simple example. We are going to implement a Garden that has Plants in it and there is going to be a Gardener whose job will be to take care of our Plants. What we will build is a simplistic **model** of some real world phenomena. We will also implement a little simulation to observe how the laziness of the gardener affects the amount of plants in the garden."
   ]
  },
  {
   "cell_type": "markdown",
   "metadata": {},
   "source": [
    "## Plant"
   ]
  },
  {
   "cell_type": "markdown",
   "metadata": {},
   "source": [
    "First let us define the Plant class. When a Plant is **instantiated** (\"born\") it comes with the following **attributes**:\n",
    "\n",
    "+ Name --> random generated\n",
    "+ Age = 0\n",
    "+ Energy = 100\n",
    "+ alive  = True\n"
   ]
  },
  {
   "cell_type": "code",
   "execution_count": 72,
   "metadata": {
    "collapsed": false
   },
   "outputs": [],
   "source": [
    "class Plant():\n",
    "    \n",
    "    def gen_name(self, specie, size=6, chars=string.ascii_uppercase + string.digits):\n",
    "        \"\"\" Random name generator \"\"\"\n",
    "        return ''.join(choice(chars) for _ in range(size))+specie\n",
    "    \n",
    "    def __init__(self):\n",
    "        \"\"\"\n",
    "        Initialize plants with name, age, energy, alive state\n",
    "        \"\"\"\n",
    "        self.name = self.gen_name('_plant')\n",
    "        self.age = 0\n",
    "        self.energy = 50\n",
    "        self.alive = True\n",
    "        \n",
    "    def get_older(self):\n",
    "        self.age += 1\n",
    "        self.energy -= 1\n",
    "        if self.energy <= 0:\n",
    "            self.alive = False\n",
    "        \n",
    "    def __str__(self):\n",
    "        return \"Name: {}\\nAge: {}\\nEnergy: {}\\nAlive: {}\".format(self.name,\n",
    "                                                     self.age,\n",
    "                                                     self.energy,\n",
    "                                                     self.alive)"
   ]
  },
  {
   "cell_type": "markdown",
   "metadata": {},
   "source": [
    "### Methods, attributes and *self*"
   ]
  },
  {
   "cell_type": "markdown",
   "metadata": {},
   "source": [
    "Every Plant() has a unique idetifier or a \"name\" that it generates for itself with it's gen\\_name() method. This method takes a bunch of arguments: \n",
    "\n",
    "+ specie: string describing the type of the plant\n",
    "+ size  : integer of the length of the generated name\n",
    "+ chars : list of characters to use for the generation\n",
    "\n",
    "Calling this function changes the **state** of the Plant, by giving it a name.\n",
    "\n",
    "Additionally it takes the *self* argument, which refers to the Plant object itSELF. As you can see the word *self* appears a lot in the class definition, all attributes are defined by the *self.attribute* syntax, these describe the state of the Plant.\n"
   ]
  },
  {
   "cell_type": "markdown",
   "metadata": {},
   "source": [
    "Now let's take a look at the special  **\\_\\_init\\_\\_**  method. This is the method that is called, when the object is **instantiated/initialized/created** at runtime. In case of the Plant we use it to set the  default for self.name, self.age and self.alive. To initialize the name of the plant we call the gen\\_name method."
   ]
  },
  {
   "cell_type": "markdown",
   "metadata": {},
   "source": [
    "Another important method of the Plant is get\\_older(). If the this method is called\n",
    "\n",
    "    plant = Plant()\n",
    "    p.get_older()\n",
    "\n",
    "the age of the plant increases and its energy decreases (this is how life works in this small garden-world)."
   ]
  },
  {
   "cell_type": "code",
   "execution_count": 73,
   "metadata": {
    "collapsed": false
   },
   "outputs": [
    {
     "name": "stdout",
     "output_type": "stream",
     "text": [
      "Name: S17P4Y_plant\n",
      "Age: 0\n",
      "Energy: 50\n",
      "Alive: True\n"
     ]
    }
   ],
   "source": [
    "plant = Plant() # initialize a Plant() object and call it \"plant\"\n",
    "print plant"
   ]
  },
  {
   "cell_type": "markdown",
   "metadata": {},
   "source": [
    "As you can see the Plant also has a special **\\_\\_str\\_\\_** method. This tells Python what to return when the user says\n",
    "\n",
    "    print plant\n",
    "    \n",
    "we could also choose to return anything else, such as [1,2,3] or \"yee\"."
   ]
  },
  {
   "cell_type": "code",
   "execution_count": 74,
   "metadata": {
    "collapsed": false
   },
   "outputs": [
    {
     "name": "stdout",
     "output_type": "stream",
     "text": [
      "Name: PVTF61_plant\n",
      "Age: 0\n",
      "Energy: 50\n",
      "Alive: True\n",
      "\n",
      "Name: PVTF61_plant\n",
      "Age: 10\n",
      "Energy: 40\n",
      "Alive: True\n"
     ]
    }
   ],
   "source": [
    "plant = Plant() # initialize a Plant() object and call it \"plant\"\n",
    "print plant\n",
    "\n",
    "for i in range(10):\n",
    "    plant.get_older() # call get older\n",
    "    \n",
    "print \"\\n\",plant"
   ]
  },
  {
   "cell_type": "markdown",
   "metadata": {},
   "source": [
    "If we call get_older() 10 times on our Plant it's age increases to 10 and its energy decreases to 90. We can access these properties with the object.attribute syntax."
   ]
  },
  {
   "cell_type": "code",
   "execution_count": 75,
   "metadata": {
    "collapsed": false
   },
   "outputs": [
    {
     "name": "stdout",
     "output_type": "stream",
     "text": [
      "10 40\n"
     ]
    }
   ],
   "source": [
    "print plant.age, plant.energy"
   ]
  },
  {
   "cell_type": "markdown",
   "metadata": {},
   "source": [
    "Make sure that the plant dies if its energy is 0 (sad, but realistic)."
   ]
  },
  {
   "cell_type": "code",
   "execution_count": 76,
   "metadata": {
    "collapsed": false
   },
   "outputs": [
    {
     "name": "stdout",
     "output_type": "stream",
     "text": [
      "\n",
      "Name: EBB1LQ_plant\n",
      "Age: 100\n",
      "Energy: -50\n",
      "Alive: False\n"
     ]
    }
   ],
   "source": [
    "plant = Plant() # initialize a Plant() object and call it \"plant\"\n",
    "for i in range(100):\n",
    "    plant.get_older() # call get older\n",
    "    \n",
    "print \"\\n\",plant"
   ]
  },
  {
   "cell_type": "markdown",
   "metadata": {},
   "source": [
    "### Excersize"
   ]
  },
  {
   "cell_type": "markdown",
   "metadata": {},
   "source": [
    "Add color as an attribute to Plant, with default value \"green\". In get\\_older() implement a condition that checks if the Plant's energy is below or equal to 10% and if so turn it's color to \"brown\". Don't forget to add color to the \\_\\_str\\_\\_ method. Test the new feature of the Plant!"
   ]
  },
  {
   "cell_type": "code",
   "execution_count": 77,
   "metadata": {
    "collapsed": true
   },
   "outputs": [],
   "source": [
    "# edit the original code on top of the notebook and write your test-code here\n"
   ]
  },
  {
   "cell_type": "markdown",
   "metadata": {},
   "source": [
    "### Inheritance"
   ]
  },
  {
   "cell_type": "markdown",
   "metadata": {},
   "source": [
    "Let's say we would like to make a class similar to our original Plant, but different in certain ways. Object Oriented Programming has the concept of **inhertiance** that allows you to make a new class inherit all the original methods and attributes from another class, but you can still give the new class its own properties to extend its functionality or modify the original class. Below we define the Bush class, which is exactly the same as Plant, except it generates it's own name with the suffix \"\\_bush' instead of \"\\_plant\"."
   ]
  },
  {
   "cell_type": "code",
   "execution_count": 78,
   "metadata": {
    "collapsed": false
   },
   "outputs": [],
   "source": [
    "class Bush(Plant):\n",
    "    def __init__(self):\n",
    "        Plant.__init__(self) # Calling the original Plat __init__\n",
    "        self.name = self.gen_name('_bush') # changing the functionality"
   ]
  },
  {
   "cell_type": "code",
   "execution_count": 79,
   "metadata": {
    "collapsed": false
   },
   "outputs": [
    {
     "name": "stdout",
     "output_type": "stream",
     "text": [
      "Name: HL9D5Q_bush\n",
      "Age: 0\n",
      "Energy: 50\n",
      "Alive: True\n"
     ]
    }
   ],
   "source": [
    "bushy = Bush()\n",
    "print bushy"
   ]
  },
  {
   "cell_type": "markdown",
   "metadata": {},
   "source": [
    "### Exercize"
   ]
  },
  {
   "cell_type": "markdown",
   "metadata": {},
   "source": [
    "Implement Orchid that only has energy of 10, it's default color is and has \"\\_orchid\" as suffix in it's name."
   ]
  },
  {
   "cell_type": "code",
   "execution_count": 80,
   "metadata": {
    "collapsed": true
   },
   "outputs": [],
   "source": [
    "# your code here; test your code!"
   ]
  },
  {
   "cell_type": "markdown",
   "metadata": {},
   "source": [
    "## Garden"
   ]
  },
  {
   "cell_type": "markdown",
   "metadata": {},
   "source": [
    "Cool, now  that we have the plants done let's get to the Garden(). The Garden is going to be an interesting object as it will have more objects in it. The Garden() object has only one attribute self.flora: it is a list, which is going to hold all objects of type plant. This is an example how we can use here object orientation to **MODEL**: a garden is something that has plants in it ergo Garden() has a list that has Plant() objects as elements. Fairly starightforward. The Garden() object also has the method grow_plant(), which adds an additional plant to the self.flora list. The most complicated part that the Garden() can handle is in it's life_cycle() method. If you call .life_cycle() the Garden() loops through all of its Plant() objects and calls their get_older(). The idea here is pretty straightforward as well: we use the Garden() object to deal with the plants. Additionally if a plant has died it removes it from the self.flora. This way in our main program we do not need to manage the individual Plants, they are *encapsulated* in the Garden. "
   ]
  },
  {
   "cell_type": "code",
   "execution_count": 81,
   "metadata": {
    "collapsed": false
   },
   "outputs": [],
   "source": [
    "class Garden():\n",
    "    def __init__(self):\n",
    "        self.flora = []\n",
    "         \n",
    "    def grow_plant(self):\n",
    "        self.flora.append(Plant())\n",
    "        \n",
    "    def life_cycle(self):\n",
    "        \"\"\"\n",
    "        Go through all the plants and cal get_older()\n",
    "        if a plant has died, remove it from the flora\n",
    "        \"\"\"\n",
    "        for plant in self.flora:\n",
    "            plant.get_older()\n",
    "            if plant.alive == False:\n",
    "                self.flora.remove(plant)\n",
    "                \n",
    "    def __getitem__(self,ind):\n",
    "        \"\"\" Allows for indexing into the Garden \"\"\"\n",
    "        return self.flora[ind]\n",
    "                \n",
    "    def __iter__(self):\n",
    "        \"\"\" Allows for looping over the Garden \"\"\"\n",
    "        return iter(self.flora)\n",
    "\n",
    "    def __str__(self):\n",
    "        \"\"\" Print self.flora as a string \"\"\"\n",
    "        return \"Plants: {}\".format([x.name for x in self.flora])\n",
    "    "
   ]
  },
  {
   "cell_type": "markdown",
   "metadata": {},
   "source": [
    "Let's checkout some of the Garden's functionality. So let's create an **instance** of the Garden **class** and plant 10 plants."
   ]
  },
  {
   "cell_type": "code",
   "execution_count": 82,
   "metadata": {
    "collapsed": false
   },
   "outputs": [
    {
     "name": "stdout",
     "output_type": "stream",
     "text": [
      "Plants: ['GNJ4EN_plant', '3NZ94A_plant', '5G5CLE_plant', '5NIQJR_plant', 'AN9Y0S_plant', 'ZHVHWL_plant', '05S6GJ_plant', 'Z7FM0J_plant', 'E9A0VS_plant', 'SQD37G_plant']\n"
     ]
    }
   ],
   "source": [
    "garden = Garden()\n",
    "for i in range(10): # call .grow_plant() 10 times\n",
    "    garden.grow_plant()\n",
    "print garden"
   ]
  },
  {
   "cell_type": "markdown",
   "metadata": {},
   "source": [
    "So far we have seen 2 of the methods of the Garden in action: \n",
    "\n",
    "+ .grow\\_plant() adds a single Plant objects to self.flora\n",
    "+ \\_\\_str\\_\\_ returns a string containing the list of names of the plants "
   ]
  },
  {
   "cell_type": "markdown",
   "metadata": {},
   "source": [
    "### Exercize"
   ]
  },
  {
   "cell_type": "markdown",
   "metadata": {},
   "source": [
    "Change the grow\\_plant() method such that it takes and optional argument: the number of plants to grow. The default number should be 1."
   ]
  },
  {
   "cell_type": "code",
   "execution_count": 83,
   "metadata": {
    "collapsed": false
   },
   "outputs": [],
   "source": [
    "# test you code here\n"
   ]
  },
  {
   "cell_type": "markdown",
   "metadata": {},
   "source": [
    "As you can see there are 4 special methods in Garden \\_\\_init\\_\\_, \\_\\_getitem\\_\\_ , \\_\\_iter\\_\\_ and \\_\\_str\\_\\_. We have already talked about \\_\\_init\\_\\_ that gets called everytime an object of the given class gets initialized. We have also mentioned \\_\\_str\\_\\_ that gets called by the print function, but actually also by str(). What we haven't talked about are \\_\\_iter\\_\\_ and \\_\\_getitem\\_\\_. As the previously mentioned functions these are also used to implement a class that emulates built-in python types. The method \\_\\_iter\\_\\_ allows to use the python syntax\n",
    "    \n",
    "    for element in object:\n",
    "\n",
    "for any arbitrary class, while \\_\\_getitem\\_\\_ implements the functionality\n",
    "\n",
    "    object[index]\n",
    "    \n",
    "Here we just return self.flora as an interable for \\_\\_iter\\_\\_ and index into self.flora with \\_\\_getitem\\_\\_."
   ]
  },
  {
   "cell_type": "code",
   "execution_count": 84,
   "metadata": {
    "collapsed": false
   },
   "outputs": [
    {
     "name": "stdout",
     "output_type": "stream",
     "text": [
      "[<__main__.Plant instance at 0x7f9b40b00830>, <__main__.Plant instance at 0x7f9b40a183b0>, <__main__.Plant instance at 0x7f9b40a18758>, <__main__.Plant instance at 0x7f9b40a187e8>, <__main__.Plant instance at 0x7f9b40924b90>, <__main__.Plant instance at 0x7f9b40924fc8>, <__main__.Plant instance at 0x7f9b40924ea8>, <__main__.Plant instance at 0x7f9b40924d88>, <__main__.Plant instance at 0x7f9b40924dd0>, <__main__.Plant instance at 0x7f9b40924cb0>]\n"
     ]
    }
   ],
   "source": [
    "print garden.flora"
   ]
  },
  {
   "cell_type": "code",
   "execution_count": 85,
   "metadata": {
    "collapsed": false
   },
   "outputs": [
    {
     "name": "stdout",
     "output_type": "stream",
     "text": [
      "Name: GNJ4EN_plant\n",
      "Age: 0\n",
      "Energy: 50\n",
      "Alive: True \n",
      "\n",
      "Name: 3NZ94A_plant\n",
      "Age: 0\n",
      "Energy: 50\n",
      "Alive: True \n",
      "\n",
      "Name: 5G5CLE_plant\n",
      "Age: 0\n",
      "Energy: 50\n",
      "Alive: True \n",
      "\n",
      "Name: 5NIQJR_plant\n",
      "Age: 0\n",
      "Energy: 50\n",
      "Alive: True \n",
      "\n",
      "Name: AN9Y0S_plant\n",
      "Age: 0\n",
      "Energy: 50\n",
      "Alive: True \n",
      "\n",
      "Name: ZHVHWL_plant\n",
      "Age: 0\n",
      "Energy: 50\n",
      "Alive: True \n",
      "\n",
      "Name: 05S6GJ_plant\n",
      "Age: 0\n",
      "Energy: 50\n",
      "Alive: True \n",
      "\n",
      "Name: Z7FM0J_plant\n",
      "Age: 0\n",
      "Energy: 50\n",
      "Alive: True \n",
      "\n",
      "Name: E9A0VS_plant\n",
      "Age: 0\n",
      "Energy: 50\n",
      "Alive: True \n",
      "\n",
      "Name: SQD37G_plant\n",
      "Age: 0\n",
      "Energy: 50\n",
      "Alive: True \n",
      "\n"
     ]
    }
   ],
   "source": [
    "for i in garden: # loop over garden --> yields its plants --> print plant --> calls its __str__\n",
    "    print i, '\\n'"
   ]
  },
  {
   "cell_type": "markdown",
   "metadata": {},
   "source": [
    "## The Lazy Gardener Simulation"
   ]
  },
  {
   "cell_type": "markdown",
   "metadata": {},
   "source": [
    "We now have Garden that has some Plant objects in it, we are ready to do a little simulation! The cell below implements the Gardener class. In the \\_\\_init\\_\\_ you see that instances of the Gardener class are instantiated with a *garden* that they take care of and they have a certain level of diligence. This diligence comes into pay in the .decide() method, where the gardener decides if he wants to work or not. It is implemented as I simple coin toss, where 1 correspond to work and 0 to don' work. The trick here is that we bias the coin-toss by diligence. The most important method here is work(). In this method the Gardener decides to work or not and if he decides 1, then he asks the garden to grow a plant and chooses a random plant that he gives +10 energy to (waters it)."
   ]
  },
  {
   "cell_type": "code",
   "execution_count": 111,
   "metadata": {
    "collapsed": true
   },
   "outputs": [],
   "source": [
    "class Gardener():\n",
    "    def __init__(self, garden, diligence=0.5):\n",
    "        \"\"\" \n",
    "        :self.garden: Garden object you take care of\n",
    "        :self.diligence: how likely it is that you do something\n",
    "        \"\"\"\n",
    "        self.garden = garden\n",
    "        self.diligence = diligence\n",
    "    \n",
    "    def decide(self):\n",
    "        \"\"\" Coin toss biased by diligance \"\"\"\n",
    "        return 1 if random.random() < self.diligence else 0\n",
    "    \n",
    "    def place_plant(self):\n",
    "        self.garden.grow_plant()\n",
    "        \n",
    "    def work(self):\n",
    "        \"\"\" \n",
    "        Throw a coin\n",
    "        if 1: place a plant and choose random plant to water\n",
    "        else: do nothing\n",
    "        \"\"\"\n",
    "        if self.decide() == 1: # coin-flip for planting a plant\n",
    "            self.place_plant()\n",
    "        if self.decide() == 1: # coin-flip for watering a plant\n",
    "            candidate_plant = choice(garden.flora)\n",
    "            candidate_plant.energy += 10"
   ]
  },
  {
   "cell_type": "markdown",
   "metadata": {},
   "source": [
    "Now, depending on the gardeners diligence there is going to be a different amount of plants in the garden. If the gardener is lazy the plants will die off faster and there is going to be a low number of plants in the garden overall. Conversly, if he is very diligent the number of plants in the garden is going to be huge. The cells below implement the experiment, study them a bit, try different diligince scores and interpret the results."
   ]
  },
  {
   "cell_type": "code",
   "execution_count": 116,
   "metadata": {
    "collapsed": false
   },
   "outputs": [],
   "source": [
    "stats = [] # number of plants after 100 rounds\n",
    "diligence = 0.6  # diligence of the gardener\n",
    "# Do 100 rounds of simulation\n",
    "for i in range(1000):\n",
    "    garden = Garden() # initialize garden\n",
    "    gardener = Gardener(garden, diligence)  # initialize gardener\n",
    "    gardener.place_plant() # plant the first plant\n",
    "    # Do 1000 turns of Garden World\n",
    "    for i in range(100):\n",
    "        gardener.work() # ask the gardener to work\n",
    "        garden.life_cycle() # take care of the Plants' life cycle\n",
    "    stats.append(len(garden.flora)) # after 1000 rounds how many plants stayed alive?"
   ]
  },
  {
   "cell_type": "code",
   "execution_count": 117,
   "metadata": {
    "collapsed": false
   },
   "outputs": [
    {
     "data": {
      "text/plain": [
       "<matplotlib.text.Text at 0x7f9b3be52c50>"
      ]
     },
     "execution_count": 117,
     "metadata": {},
     "output_type": "execute_result"
    },
    {
     "data": {
      "image/png": "[encoded data removed]",
      "text/plain": [
       "<matplotlib.figure.Figure at 0x7f9b3bd8b0d0>"
      ]
     },
     "metadata": {},
     "output_type": "display_data"
    }
   ],
   "source": [
    "plt.style.use('ggplot')                                    # using a specific style for plotting\n",
    "figure(figsize=(10,6))                                     # increasing the default figure size\n",
    "hist(stats)                                                # plotting the histogram\n",
    "plt.title(\"Garden Simulation Histogram\")                   # Giving the plot a title\n",
    "plt.xlabel(\"Number of plants alive after 100 turns\")      # Giving the plot an x label"
   ]
  },
  {
   "cell_type": "markdown",
   "metadata": {},
   "source": [
    "### Exersize"
   ]
  },
  {
   "cell_type": "markdown",
   "metadata": {},
   "source": [
    "The work() method of the Gardener class is implemented in a slightly sloppy way. It uses this line \n",
    "\n",
    "    candidate_plant.energy += 10\n",
    "\n",
    "to water the plant, which makes sense, but it might not be easy to remember what that means let's say 2 weeks after the implementation. First implement a replenish() method in Plant and then a water() method in Gardener. The water() method should call plant.replenish() and replenish() should increase the plants energy by 10. "
   ]
  },
  {
   "cell_type": "markdown",
   "metadata": {},
   "source": [
    "After fixing the Gardener implement a SmartGardener, who only waters plants that have \"brown\" as color. He should inherit from the Gardener class."
   ]
  },
  {
   "cell_type": "code",
   "execution_count": 33,
   "metadata": {
    "collapsed": true
   },
   "outputs": [],
   "source": [
    "# code for SmartGardener"
   ]
  }
 ],
 "metadata": {
  "kernelspec": {
   "display_name": "Python 2",
   "language": "python",
   "name": "python2"
  },
  "language_info": {
   "codemirror_mode": {
    "name": "ipython",
    "version": 2
   },
   "file_extension": ".py",
   "mimetype": "text/x-python",
   "name": "python",
   "nbconvert_exporter": "python",
   "pygments_lexer": "ipython2",
   "version": "2.7.9"
  }
 },
 "nbformat": 4,
 "nbformat_minor": 0
}
