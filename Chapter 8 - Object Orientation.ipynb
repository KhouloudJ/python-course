{
 "cells": [
  {
   "cell_type": "code",
   "execution_count": 75,
   "metadata": {
    "collapsed": false
   },
   "outputs": [
    {
     "name": "stdout",
     "output_type": "stream",
     "text": [
      "Populating the interactive namespace from numpy and matplotlib\n"
     ]
    },
    {
     "name": "stderr",
     "output_type": "stream",
     "text": [
      "WARNING: pylab import has clobbered these variables: ['randint', 'random']\n",
      "`%matplotlib` prevents importing * from pylab and numpy\n"
     ]
    }
   ],
   "source": [
    "#  string\n",
    "from collections import Counter\n",
    "from random import choice, randint, random\n",
    "%pylab inline"
   ]
  },
  {
   "cell_type": "markdown",
   "metadata": {},
   "source": [
    "We will learn object orientation today through a simple example. We are going to implement a Garden that has Plants in and there is going to be a Gardener who take care of the Plants. "
   ]
  },
  {
   "cell_type": "markdown",
   "metadata": {},
   "source": [
    "First we define the Plant() object. Every Plant() has a unique idetifier or a \"name\" that its generates for itself with the gen_name() method. As you will see it with most object, when an object is \"born\" or initalized, it calls its __init__ method which sets the default values of the object. In this particular example a Plant() borns with a particular name, age and with a boolean thats shows that is alive. We store these in self.name, self.age and self.alive and are called \"attributes\". The plant also have a function inside of it called get_older() which is called a \"method\" in object oriented terminology (function inside a particular class). If the this method is called with \n",
    "\n",
    "    plant = Plant()\n",
    "    p.get_older()\n",
    "\n",
    "the age of the plant increases and its energy decreases (this is how life works in this small garden-world).\n"
   ]
  },
  {
   "cell_type": "code",
   "execution_count": 54,
   "metadata": {
    "collapsed": false
   },
   "outputs": [],
   "source": [
    "class Plant():\n",
    "    \n",
    "    def gen_name(self, size=6, chars=string.ascii_uppercase + string.digits):\n",
    "        return ''.join(choice(chars) for _ in range(size))+\"_plant\"\n",
    "    \n",
    "    def __init__(self):\n",
    "        self.name = self.gen_name()\n",
    "        self.age = 0\n",
    "        self.energy = 100\n",
    "        self.alive = True\n",
    "        \n",
    "    def get_older(self):\n",
    "        # arguments or optional argument to functions/methods\n",
    "        self.age += 1\n",
    "        self.energy -= 1\n",
    "        if self.energy <= 0:\n",
    "            self.alive = False\n",
    "        \n",
    "    def __str__(self):\n",
    "        return \"Name: {}\\nAge: {}\\nEnergy: {}\\nAlive: {}\".format(self.name,\n",
    "                                                     self.age,\n",
    "                                                     self.energy,\n",
    "                                                     self.alive)"
   ]
  },
  {
   "cell_type": "code",
   "execution_count": 55,
   "metadata": {
    "collapsed": false
   },
   "outputs": [
    {
     "name": "stdout",
     "output_type": "stream",
     "text": [
      "Name: AE3XXN_plant\n",
      "Age: 0\n",
      "Energy: 100\n",
      "Alive: True\n"
     ]
    }
   ],
   "source": [
    "plant = Plant() # initialize a Plant() object and call it \"plant\"\n",
    "print plant"
   ]
  },
  {
   "cell_type": "markdown",
   "metadata": {},
   "source": [
    "As you can see the plant has a special __str__ method. This tells Python what to return when the user says\n",
    "\n",
    "    print plant\n",
    "    \n",
    "we could also return [1,2,3] or \"yee\"."
   ]
  },
  {
   "cell_type": "code",
   "execution_count": 56,
   "metadata": {
    "collapsed": false
   },
   "outputs": [
    {
     "name": "stdout",
     "output_type": "stream",
     "text": [
      "Name: RCX7S3_plant\n",
      "Age: 0\n",
      "Energy: 100\n",
      "Alive: True\n",
      "\n",
      "Name: RCX7S3_plant\n",
      "Age: 10\n",
      "Energy: 90\n",
      "Alive: True\n"
     ]
    }
   ],
   "source": [
    "plant = Plant() # initialize a Plant() object and call it \"plant\"\n",
    "print plant\n",
    "\n",
    "for i in range(10):\n",
    "    plant.get_older() # call get older\n",
    "    \n",
    "print \"\\n\",plant"
   ]
  },
  {
   "cell_type": "markdown",
   "metadata": {},
   "source": [
    "As you can see if we call get_older() 10 times on our plant its age increases to 10 and its energy decreases to 90. We can access these properties with the object.attribute syntax."
   ]
  },
  {
   "cell_type": "code",
   "execution_count": 57,
   "metadata": {
    "collapsed": false
   },
   "outputs": [
    {
     "name": "stdout",
     "output_type": "stream",
     "text": [
      "10 90\n"
     ]
    }
   ],
   "source": [
    "print plant.age, plant.energy"
   ]
  },
  {
   "cell_type": "markdown",
   "metadata": {},
   "source": [
    "Make sure that the plant dies if its energy is 0."
   ]
  },
  {
   "cell_type": "code",
   "execution_count": 58,
   "metadata": {
    "collapsed": false
   },
   "outputs": [
    {
     "name": "stdout",
     "output_type": "stream",
     "text": [
      "\n",
      "Name: VWCI3K_plant\n",
      "Age: 100\n",
      "Energy: 0\n",
      "Alive: False\n"
     ]
    }
   ],
   "source": [
    "plant = Plant() # initialize a Plant() object and call it \"plant\"\n",
    "for i in range(100):\n",
    "    plant.get_older() # call get older\n",
    "    \n",
    "print \"\\n\",plant"
   ]
  },
  {
   "cell_type": "markdown",
   "metadata": {},
   "source": [
    "Cool, now we have the plant done let's get to the Garden(). The Garden is going to be an interesting object as it will have more objects in it!!! But don't worry it is going to be fairly simple. The Garden() object has only one attribute self.flora. It is a list that is going to hold all the Plant() objects. This is how we use here object orientation to MODEL: a garden is something that has plants in it ergo Garden() has a list that has Plant() objects as elements. Fairly starightforward. The Garden() object also has the method grow_plant(), which adds an additional plant to the self.flora list. The most complicated part that the Garden() can handle is in its life_cycle() method. If you call .life_cycle() the Garden() loops through all of its Plant() objects and call their get_older(). The idea here is pretty straightforwards as well: we use the Garden() object to deal with the plants life cycle. Additionally if a plant has died it removes it from the self.flore"
   ]
  },
  {
   "cell_type": "code",
   "execution_count": 59,
   "metadata": {
    "collapsed": false
   },
   "outputs": [],
   "source": [
    "class Garden():\n",
    "    def __init__(self):\n",
    "        self.flora = []\n",
    "         \n",
    "    def grow_plant(self):\n",
    "        self.flora.append(Plant())\n",
    "        \n",
    "    def life_cycle(self):\n",
    "        offsprings = []\n",
    "        for plant in self.flora:\n",
    "            plant.get_older()\n",
    "            if plant.alive == False:\n",
    "                self.flora.remove(plant)\n",
    "                \n",
    "    def __iter__(self):\n",
    "        return iter(self.flora)\n",
    "\n",
    "    def __str__(self):\n",
    "        return \"Plants: {}\".format([x.name for x in self.flora])\n",
    "    "
   ]
  },
  {
   "cell_type": "code",
   "execution_count": 60,
   "metadata": {
    "collapsed": false
   },
   "outputs": [
    {
     "name": "stdout",
     "output_type": "stream",
     "text": [
      "Plants: []\n"
     ]
    }
   ],
   "source": [
    "garden = Garden()\n",
    "print garden"
   ]
  },
  {
   "cell_type": "code",
   "execution_count": 61,
   "metadata": {
    "collapsed": false
   },
   "outputs": [
    {
     "name": "stdout",
     "output_type": "stream",
     "text": [
      "Plants: ['UEVSZI_plant']\n"
     ]
    }
   ],
   "source": [
    "garden.grow_plant()\n",
    "print garden"
   ]
  },
  {
   "cell_type": "code",
   "execution_count": 62,
   "metadata": {
    "collapsed": false
   },
   "outputs": [
    {
     "name": "stdout",
     "output_type": "stream",
     "text": [
      "[<__main__.Plant instance at 0x7f547abec710>]\n"
     ]
    }
   ],
   "source": [
    "print garden.flora"
   ]
  },
  {
   "cell_type": "code",
   "execution_count": 63,
   "metadata": {
    "collapsed": false
   },
   "outputs": [
    {
     "name": "stdout",
     "output_type": "stream",
     "text": [
      "Name: UEVSZI_plant\n",
      "Age: 0\n",
      "Energy: 100\n",
      "Alive: True\n"
     ]
    }
   ],
   "source": [
    "print garden.flora[0]"
   ]
  },
  {
   "cell_type": "code",
   "execution_count": 64,
   "metadata": {
    "collapsed": true
   },
   "outputs": [],
   "source": [
    "class Gardener():\n",
    "    def __init__(self, garden, diligence=0.5):\n",
    "        self.garden = garden\n",
    "        self.diligence = diligence\n",
    "    \n",
    "    def decide(self):\n",
    "        return 1 if random.random() < self.diligence else 0\n",
    "    \n",
    "    def place_plant(self):\n",
    "        self.garden.grow_plant()\n",
    "        \n",
    "    def work(self):\n",
    "        if self.decide() == 1:\n",
    "            self.place_plant()\n",
    "            candidate_plant = choice(garden.flora)\n",
    "            candidate_plant.energy += 10\n",
    "        else:\n",
    "            pass\n",
    "    "
   ]
  },
  {
   "cell_type": "code",
   "execution_count": 65,
   "metadata": {
    "collapsed": false
   },
   "outputs": [],
   "source": [
    "garden = Garden()\n",
    "gardener = Gardener(garden, 0.3)\n",
    "stats = []"
   ]
  },
  {
   "cell_type": "code",
   "execution_count": 72,
   "metadata": {
    "collapsed": false
   },
   "outputs": [
    {
     "name": "stdout",
     "output_type": "stream",
     "text": [
      "CPU times: user 1.83 s, sys: 92 ms, total: 1.92 s\n",
      "Wall time: 1.84 s\n"
     ]
    }
   ],
   "source": [
    "for i in range(100):\n",
    "    for i in range(1000):\n",
    "        gardener.work()\n",
    "        garden.life_cycle()\n",
    "    stats.append(len(garden.flora))"
   ]
  },
  {
   "cell_type": "code",
   "execution_count": 67,
   "metadata": {
    "collapsed": false
   },
   "outputs": [
    {
     "data": {
      "text/plain": [
       "[<matplotlib.lines.Line2D at 0x7f547aa37710>]"
      ]
     },
     "execution_count": 67,
     "metadata": {},
     "output_type": "execute_result"
    },
    {
     "data": {
      "image/png": "[encoded data removed]",
      "text/plain": [
       "<matplotlib.figure.Figure at 0x7f547abf0c10>"
      ]
     },
     "metadata": {},
     "output_type": "display_data"
    }
   ],
   "source": [
    "plot(stats)"
   ]
  },
  {
   "cell_type": "code",
   "execution_count": null,
   "metadata": {
    "collapsed": false
   },
   "outputs": [],
   "source": []
  },
  {
   "cell_type": "code",
   "execution_count": null,
   "metadata": {
    "collapsed": true
   },
   "outputs": [],
   "source": []
  }
 ],
 "metadata": {
  "kernelspec": {
   "display_name": "Python 2",
   "language": "python",
   "name": "python2"
  },
  "language_info": {
   "codemirror_mode": {
    "name": "ipython",
    "version": 2
   },
   "file_extension": ".py",
   "mimetype": "text/x-python",
   "name": "python",
   "nbconvert_exporter": "python",
   "pygments_lexer": "ipython2",
   "version": "2.7.9"
  }
 },
 "nbformat": 4,
 "nbformat_minor": 0
}
