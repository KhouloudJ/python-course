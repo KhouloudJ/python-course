{
 "cells": [
  {
   "cell_type": "markdown",
   "metadata": {},
   "source": [
    "#Chapter 12 : CSV and plotting\n",
    "\n",
    "*Data Processing with Python, a course for Communication and Information Sciences*\n",
    "\n",
    "This chapter is based on http://opentechschool.github.io/python-data-intro/core/csv.html\n",
    "\n",
    "<a href=mailto:s.wubben@tilburguniversity.edu>s.wubben@tilburguniversity.edu</a>"
   ]
  },
  {
   "cell_type": "markdown",
   "metadata": {},
   "source": [
    "In this chapter we will learn how to deal with structured data, where to get it and how to plot it. Let's start with some basic plotting."
   ]
  },
  {
   "cell_type": "markdown",
   "metadata": {},
   "source": [
    "##Matplotlib\n",
    "\n",
    "We're going to use the Python library `matplotlib` to create some graphical charts based on our data. Matplotlib has its own syntax and options. These are way beyond the focus of this course. We will discuss some basic examples, and you can check the documentation for more information on more advanced plotting. \n",
    "\n",
    "Since we are using IPython notebooks, we want to generate our plots in the notebook. We specify this as follows:\n"
   ]
  },
  {
   "cell_type": "code",
   "execution_count": null,
   "metadata": {
    "collapsed": true
   },
   "outputs": [],
   "source": [
    "%matplotlib inline"
   ]
  },
  {
   "cell_type": "markdown",
   "metadata": {},
   "source": [
    "Now we can plot some basic numbers:"
   ]
  },
  {
   "cell_type": "code",
   "execution_count": null,
   "metadata": {
    "collapsed": false
   },
   "outputs": [],
   "source": [
    "import matplotlib.pyplot as plt\n",
    "vals = [3,2,5,0,1]\n",
    "plt.plot(vals)"
   ]
  },
  {
   "cell_type": "markdown",
   "metadata": {},
   "source": [
    "If all went allright, you see a graph above this block. Try changing the numbers in the vals list to see how it affects the graph. \n",
    "\n",
    "Now, let's try plotting some collected data. Suppose we did a survey to ask people for their favorite pizza. We store the result in a dictionary:"
   ]
  },
  {
   "cell_type": "code",
   "execution_count": null,
   "metadata": {
    "collapsed": true
   },
   "outputs": [],
   "source": [
    "counts = {\n",
    "    'Calzone': 63,\n",
    "    'Quattro Stagioni': 43,\n",
    "    'Hawaii': 40,\n",
    "    'Pepperoni': 58,\n",
    "    'Diavolo': 63,\n",
    "    'Frutti di Mare': 32,\n",
    "    'Margarita': 55,\n",
    "    'Quattro Formaggi': 10,\n",
    "}"
   ]
  },
  {
   "cell_type": "markdown",
   "metadata": {},
   "source": [
    "Now we want to plot this in a nice graph. We first import matplotlib and numpy:"
   ]
  },
  {
   "cell_type": "code",
   "execution_count": null,
   "metadata": {
    "collapsed": true
   },
   "outputs": [],
   "source": [
    "import matplotlib.pyplot as plt\n",
    "import numpy as np"
   ]
  },
  {
   "cell_type": "markdown",
   "metadata": {},
   "source": [
    "This loop processes the dictionary into a format that's easy to send to matplotlib - a list of pizza names (for the labels on the bars) and a list of vote counts (for the actual graph.)"
   ]
  },
  {
   "cell_type": "code",
   "execution_count": null,
   "metadata": {
    "collapsed": true
   },
   "outputs": [],
   "source": [
    "names = []\n",
    "votes = []\n",
    "# Split the dictionary of names->votes into two lists, one holding names and the other holding vote counts\n",
    "for pizza in counts:\n",
    "    names.append(pizza)\n",
    "    votes.append(counts[pizza])"
   ]
  },
  {
   "cell_type": "markdown",
   "metadata": {},
   "source": [
    "We create a range of indexes for the X values in the graph, one entry for each entry in the \"counts\" dictionary (ie len(counts)), numbered 0,1,2,3,etc. This will spread out the graph bars evenly across the X axis on the plot.\n",
    "\n",
    "np.arange is a NumPy function like the range() function in Python, only the result it produces is a \"NumPy array\". We'll see why this is useful in a second.\n",
    "\n",
    "plt.bar() creates a bar graph, using the \"x\" values as the X axis positions and the values in the votes array (ie the vote counts) as the height of each bar. Finally, we add the labels, rotated and in the middle of the bar."
   ]
  },
  {
   "cell_type": "code",
   "execution_count": null,
   "metadata": {
    "collapsed": false
   },
   "outputs": [],
   "source": [
    "x = np.arange(len(counts))\n",
    "\n",
    "plt.bar(x, votes)\n",
    "plt.xticks(x+0.5, names, rotation=90)\n",
    "plt.yticks(votes)"
   ]
  },
  {
   "cell_type": "markdown",
   "metadata": {},
   "source": [
    "**Exercise:** Can you add a Y-axis label to the chart? Have a look <a href=\"http://matplotlib.org/api/pyplot_api.html#matplotlib.pyplot.ylabel\">here</a> for pointers. "
   ]
  },
  {
   "cell_type": "markdown",
   "metadata": {},
   "source": [
    "###Advanced Charting\n",
    "matplotlib and pyplot are both extremely powerful charting frameworks.\n",
    "\n",
    "To take a look at some of what they can do (and the sample Python code that does it), take a moment to browse through the Matplotlib thumbnail gallery and the Pyplot tutorial <a href=\"http://matplotlib.org/\">here</a>.\n",
    "\n",
    "Because these tools are fairly complex it can also be helpful to copy and tweak an existing example from the gallery, if you're looking to create a new chart.\n",
    "\n",
    "(You'll notice the term \"pylab\" used on some of those pages. Pylab just means Pyplot combined with Numpy.)"
   ]
  },
  {
   "cell_type": "markdown",
   "metadata": {},
   "source": [
    "\n",
    "\n",
    "##CSV\n",
    "Now, we will read formatted data and learn how we can get data from web services. \n",
    "Up until now, we have worked with plaintext files that contain unstructured data. We will now look at plaintext files that contain structured data.\n",
    "\n",
    "The first of these is filetypes is CSV. CSV is short for comma seperated values. CSV files are simplified spreadsheets stored as plaintext files. Python’s csv module makes it easy to parse CSV files.\n",
    "Another one is JSON (pronounced “JAY-sawn” or “Jason”). JSON is short for JavaScript Object Notation and is a format that stores information as JavaScript source code in plaintext files.\n",
    "You don’t need to know the JavaScript programming language to use JSON files, but the JSON format is useful to know because it’s used in many web applications.\n",
    "\n",
    "###The CSV Module\n",
    "Each line in a CSV file represents a row in the spreadsheet, and commas separate the cells in the row. Many programs (Excel, SPSS, etc) and webapplications allow you to import and export CSV files.\n",
    "CSV files are simple, lacking many of the features of an Excel spreadsheet. For example, CSV files\n",
    "\n",
    "* Don’t have types for their values—everything is a string\n",
    "* Don’t have settings for font size or color\n",
    "* Don’t have multiple worksheets\n",
    "* Can’t specify cell widths and heights\n",
    "* Can’t have merged cells\n",
    "* Can’t have images or charts embedded in them\n",
    "\n",
    "The advantage of CSV files is simplicity. CSV files are widely supported by many types of programs, can be viewed in text editors (including IDLE’s file editor), and are a straightforward way to represent spreadsheet data. The CSV format is exactly as advertised: It’s just a text file of comma-separated values.\n",
    "\n",
    "####Why not use .split()/.strip()?\n",
    "\n",
    "We already a learned another way to do this, we've learned split(\",\") to split each row of text into comma-delimited fields, and then strip() to take off the quote marks.\n",
    "\n",
    "There are a few good reasons to use the CSV module here:\n",
    "\n",
    "* The csv module makes it clear what you're doing to anyone reading your code.\n",
    "* The csv module is less likely to contain an error that splits some lines the wrong way.\n",
    "* The csv module has a lot of other features, documented here. These allow it to process differently formatted files, so you can easily update your program if the file format changes.\n",
    "\n",
    "\n",
    "####Reader Objects\n",
    "\n",
    "To read data from a CSV file with the csv module, you need to create a Reader object. A Reader object lets you iterate over lines in the CSV file. Let's open the coffee.csv file."
   ]
  },
  {
   "cell_type": "code",
   "execution_count": null,
   "metadata": {
    "collapsed": false
   },
   "outputs": [],
   "source": [
    "import csv\n",
    "f=open(\"data/coffee.csv\")\n",
    "for row in csv.reader(f):\n",
    "    print(row)"
   ]
  },
  {
   "cell_type": "markdown",
   "metadata": {},
   "source": [
    "The first line shows you the headers for each column, and the other lines show you the values. You can think of the data like this:\n",
    "    \n",
    "    \n",
    "|  Coffee |Water   | Milk  | Icecream  |\n",
    "|---|:-:|---|---|\n",
    "|   Espresso| No  |No   |No   |\n",
    "| Long Black  | Yes  |No   |No   |\n",
    "|  .. | ..  |..   |..   |  \n",
    "\n"
   ]
  },
  {
   "cell_type": "markdown",
   "metadata": {},
   "source": [
    "Now, let's try some real world data. Lots of interesting data is availble and easily downloadable in csv format (tip: try a google search with added query `filetype:csv`)\n",
    "For this example we will use data from the <a href=\"http://www.openflights.org/data.html\">OpenFlights data</a> site.\n",
    "\n",
    "We will work with airports.csv, which lists information about the world's airports. Here's what the data looks like:\n",
    "\n",
    "    507,\"Heathrow\",\"London\",\"United Kingdom\",\"LHR\",\"EGLL\",51.4775,-0.461389,83,0,\"E\",\"Europe/London\"\n",
    "    26,\"Kugaaruk\",\"Pelly Bay\",\"Canada\",\"YBB\",\"CYBB\",68.534444,-89.808056,56,-7,\"A\",\"America/Edmonton\"\n",
    "    3127,\"Pokhara\",\"Pokhara\",\"Nepal\",\"PKR\",\"VNPK\",28.200881,83.982056,2712,5.75,\"N\",\"Asia/Katmandu\"\n",
    "    \n",
    "So, to print the corresponding cities to these airports we can simply do:"
   ]
  },
  {
   "cell_type": "code",
   "execution_count": null,
   "metadata": {
    "collapsed": false
   },
   "outputs": [],
   "source": [
    "import csv\n",
    "f = open(\"data/airports.csv\" , encoding='utf-8')\n",
    "for row in csv.reader(f):\n",
    "    print(row[1])"
   ]
  },
  {
   "cell_type": "markdown",
   "metadata": {},
   "source": [
    "**Exercise:** Can you plot the top 10 of number of airports per country?"
   ]
  },
  {
   "cell_type": "code",
   "execution_count": null,
   "metadata": {
    "collapsed": false
   },
   "outputs": [],
   "source": [
    "#Your code here\n",
    "\n",
    "import csv\n",
    "import operator\n",
    "import matplotlib.pyplot as plt\n",
    "import numpy as np\n",
    "\n",
    "airport_counts={}\n",
    "\n",
    "f = open(\"data/airports.csv\" , encoding='utf-8')\n",
    "for row in csv.reader(f):\n",
    "    key = row[3]\n",
    "    if key in airport_counts: \n",
    "        airport_counts[key]+=1\n",
    "    else:\n",
    "        airport_counts[key]=1\n",
    "     \n",
    "sorted_items = sorted(airport_counts.items(), key=operator.itemgetter(1),reverse=True)\n",
    "names = []\n",
    "counts = []\n",
    "for airport,count in sorted_items:\n",
    "    names.append(airport)\n",
    "    counts.append(count)\n",
    "\n",
    "names=names[:9]\n",
    "counts=counts[:9]\n",
    "    \n",
    "x = np.arange(len(counts))\n",
    "plt.bar(x, counts)\n",
    "plt.xticks(x+0.5, names, rotation=90)\n",
    "plt.ylabel('counts')"
   ]
  },
  {
   "cell_type": "markdown",
   "metadata": {},
   "source": [
    "##Bringing it together: calculating flight lengths\n",
    "\n",
    "We will now combine airports.csv with another file, flights.csv. By using both data sources, we can calculate how far each route travels and then plot a histogram showing the distribution of distances flown.\n",
    "\n",
    "This a multiple stage problem:\n",
    "\n",
    "* Read the airports file (airports.csv) and build a dictionary mapping the unique airport ID to the geographical coordinates (latitude & longitude.) This allows you to look up the location of each airport by its ID.\n",
    "\n",
    "* Read the routes file (routes.csv) and get the IDs of the source and destination airports. Look up the latitude and longitude based on the ID. Using those coordinates, calculate the length of the route and append it to a list of all route lengths.\n",
    "\n",
    "* Plot a histogram based on the route lengths, to show the distribution of different flight distances."
   ]
  },
  {
   "cell_type": "code",
   "execution_count": null,
   "metadata": {
    "collapsed": true
   },
   "outputs": [],
   "source": [
    "latitudes = {}\n",
    "longitudes = {}\n",
    "f = open(\"data/airports.csv\", encoding='utf-8')\n",
    "for row in csv.reader(f):\n",
    "    airport_id = row[0]\n",
    "    latitudes[airport_id] = float(row[6])\n",
    "    longitudes[airport_id] = float(row[7])"
   ]
  },
  {
   "cell_type": "code",
   "execution_count": null,
   "metadata": {
    "collapsed": false
   },
   "outputs": [],
   "source": [
    "latitudes"
   ]
  },
  {
   "cell_type": "markdown",
   "metadata": {},
   "source": [
    "We got the lats and longs for each airport, now we need a way to calculate distance between coordinates. Because the earth is a sphere, this is harder than it might seem. We will use a standard formula for this, implemented as a Python function."
   ]
  },
  {
   "cell_type": "code",
   "execution_count": null,
   "metadata": {
    "collapsed": true
   },
   "outputs": [],
   "source": [
    "# Using the Haversine formula for geographic Great Circle Distance\n",
    "#\n",
    "# As per https://en.wikipedia.org/wiki/Haversine_formula\n",
    "\n",
    "from math import cos,radians,sin,pow,asin,sqrt\n",
    "\n",
    "def distance(lat1, long1, lat2, long2):\n",
    "    radius = 6371 # radius of the earth in km, roughly https://en.wikipedia.org/wiki/Earth_radius\n",
    "\n",
    "    # Lat,long are in degrees but we need radians\n",
    "    lat1 = radians(lat1)\n",
    "    lat2 = radians(lat2)\n",
    "    long1 = radians(long1)\n",
    "    long2 = radians(long2)\n",
    "\n",
    "    dlat = lat2-lat1\n",
    "    dlon = long2-long1\n",
    "\n",
    "    a = pow(sin(dlat/2),2) + cos(lat1)*cos(lat2)*pow(sin(dlon/2),2)\n",
    "    distance = 2 * radius * asin(sqrt(a))\n",
    "\n",
    "    return distance\n"
   ]
  },
  {
   "cell_type": "code",
   "execution_count": null,
   "metadata": {
    "collapsed": false
   },
   "outputs": [],
   "source": [
    "distance(-37.814,144.963,52.519,13.406) # Melbourne to Berlin in km!"
   ]
  },
  {
   "cell_type": "markdown",
   "metadata": {},
   "source": [
    "Now we can for each route look up the source and taget coordinates and calculate the distance."
   ]
  },
  {
   "cell_type": "code",
   "execution_count": null,
   "metadata": {
    "collapsed": false
   },
   "outputs": [],
   "source": [
    "distances = []\n",
    "f = open(\"data/routes.csv\")\n",
    "for row in csv.reader(f):\n",
    "    source_airport = row[3]\n",
    "    dest_airport = row[5]\n",
    "    if source_airport in latitudes and dest_airport in latitudes:\n",
    "        source_lat = latitudes[source_airport]\n",
    "        source_long = longitudes[source_airport]\n",
    "        dest_lat = latitudes[dest_airport]\n",
    "        dest_long = longitudes[dest_airport]\n",
    "        distances.append(distance(source_lat,source_long,dest_lat,dest_long))"
   ]
  },
  {
   "cell_type": "code",
   "execution_count": null,
   "metadata": {
    "collapsed": false
   },
   "outputs": [],
   "source": [
    "import numpy as np\n",
    "import matplotlib.pyplot as plt\n",
    "\n",
    "plt.hist(distances, 100, facecolor='r')\n",
    "plt.xlabel(\"Distance (km)\")\n",
    "plt.ylabel(\"Number of flights\")"
   ]
  },
  {
   "cell_type": "markdown",
   "metadata": {},
   "source": [
    "That's the end of this chapter!"
   ]
  }
 ],
 "metadata": {
  "kernelspec": {
   "display_name": "Python 3",
   "language": "python",
   "name": "python3"
  },
  "language_info": {
   "codemirror_mode": {
    "name": "ipython",
    "version": 3
   },
   "file_extension": ".py",
   "mimetype": "text/x-python",
   "name": "python",
   "nbconvert_exporter": "python",
   "pygments_lexer": "ipython3",
   "version": "3.4.1"
  }
 },
 "nbformat": 4,
 "nbformat_minor": 0
}
