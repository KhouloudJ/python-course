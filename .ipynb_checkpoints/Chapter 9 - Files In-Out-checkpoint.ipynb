{
 "cells": [
  {
   "cell_type": "markdown",
   "metadata": {},
   "source": [
    "https://github.com/jvns/pandas-cookbook"
   ]
  },
  {
   "cell_type": "markdown",
   "metadata": {},
   "source": [
    "# Chapter 9:  Data Analysis"
   ]
  },
  {
   "cell_type": "markdown",
   "metadata": {},
   "source": [
    "In this chapter you will learn how to read data from files, do some analysis and write the results to disk. Reading and writing files is quite an essential part of programming, as it is the first step for your program to communicate with the outside world. In most cases you will write programs that take data from some source, manipulates it in someway and writes some results out somewhere. For example if you would write a survey, you could take input from participants on a webserver and save their answers in some files or in a database. When the survey is over you would read these results in and do some analysis on the data you have collected, maybe do some visualizations and save your results."
   ]
  },
  {
   "cell_type": "markdown",
   "metadata": {},
   "source": [
    "## File In"
   ]
  },
  {
   "cell_type": "markdown",
   "metadata": {},
   "source": [
    "Let's start by using the open() function to read some text from a file. The `open()` function does not return the actual text that is saved in the text file. It returns a 'file object' from which we can read the content using the `.read()` function. We pass three arguments to the `open()` function:\n",
    "\n",
    " * the name of the file that you wish to open\n",
    " * the mode, a combination of characters, 'r' represents read-mode, and 't' represent plain text-mode. This indicates we are reading a plain text file.\n",
    " * the last argument, a named argument (encoding), specifies the encoding of the text file.\n",
    " \n",
    "The most important mode arguments the open() function can take are:\n",
    "\n",
    "* r: Opens a file for reading only. The file pointer is placed at the beginning of the file.\n",
    "* w: Opens a file for writing only. Overwrites the file if the file exists. If the file does not exist, creates a new file for writing.\n",
    "* a: Opens a file for appending. The file pointer is at the end of the file if the file exists. If the file does not exist, it creates a new file for writing. Use it if you would like to add something to the end of a file\n",
    "\n"
   ]
  },
  {
   "cell_type": "markdown",
   "metadata": {},
   "source": [
    "The following example reads a file from disk. "
   ]
  },
  {
   "cell_type": "code",
   "execution_count": 14,
   "metadata": {
    "collapsed": false
   },
   "outputs": [
    {
     "name": "stdout",
     "output_type": "stream",
     "text": [
      "Emma by Jane Austen 1816\n",
      "\n",
      "VOLUME I\n",
      "\n",
      "CHAPTER I\n",
      "\n",
      "\n",
      "Emma Woodhouse, handsome, clever, and rich, with a comfortable home\n",
      "and happy disposition, seemed to unite some of the best blessings\n",
      "of existence; and had lived nearly twenty-one years in the world\n",
      "with very little to distress or vex her.\n",
      "\n",
      "She was the youngest of the two daughters of a most affectionate,\n",
      "indulgent father; and had, in consequence of her sister's marriage,\n",
      "been mistress of his house from a very early period.  Her mother\n",
      "had died too long ago for her to have more than an indistinct\n",
      "remembrance of her caresses; and her place had been supplied\n",
      "by an excellent woman as governess, who had fallen little short\n",
      "of a mother in affection.\n"
     ]
    }
   ],
   "source": [
    "f = open('data/austen-emma-excerpt.txt', 'rt') # open the file \n",
    "text = f.read() # read in its content as a string\n",
    "f.close() # close the file\n",
    "print(text) # print the string"
   ]
  },
  {
   "cell_type": "markdown",
   "metadata": {},
   "source": [
    "Reading an entire file in one string is not always desirable, especially not with huge files. If you use open(r'filename').read(), Python will store the resulting string in memory. If you have a computer with 8GB memory and want to read a file with 16GB of data your are going to run into troubles! The following example reads up until a newline everytime, and returns one line at a time. \n"
   ]
  },
  {
   "cell_type": "code",
   "execution_count": 15,
   "metadata": {
    "collapsed": false
   },
   "outputs": [
    {
     "name": "stdout",
     "output_type": "stream",
     "text": [
      "Emma by Jane Austen 1816\n",
      "\n",
      "\n",
      "\n",
      "VOLUME I\n",
      "\n",
      "\n",
      "\n",
      "CHAPTER I\n",
      "\n",
      "\n",
      "\n",
      "\n",
      "\n",
      "Emma Woodhouse, handsome, clever, and rich, with a comfortable home\n",
      "\n",
      "and happy disposition, seemed to unite some of the best blessings\n",
      "\n",
      "of existence; and had lived nearly twenty-one years in the world\n",
      "\n",
      "with very little to distress or vex her.\n",
      "\n",
      "\n",
      "\n",
      "She was the youngest of the two daughters of a most affectionate,\n",
      "\n",
      "indulgent father; and had, in consequence of her sister's marriage,\n",
      "\n",
      "been mistress of his house from a very early period.  Her mother\n",
      "\n",
      "had died too long ago for her to have more than an indistinct\n",
      "\n",
      "remembrance of her caresses; and her place had been supplied\n",
      "\n",
      "by an excellent woman as governess, who had fallen little short\n",
      "\n",
      "of a mother in affection.\n"
     ]
    }
   ],
   "source": [
    "f = open('data/austen-emma-excerpt.txt','rt') # open the file\n",
    "for line in f: # iterate over the file object\n",
    "    print(line)   # the file object yields one line at a time\n",
    "f.close() # close the file"
   ]
  },
  {
   "cell_type": "markdown",
   "metadata": {},
   "source": [
    " * ----- *\n",
    " "
   ]
  },
  {
   "cell_type": "markdown",
   "metadata": {},
   "source": [
    "Rather than just printing, we can of course do whatever we want with this file's content. Let's count the number of lines (but note, that a line does not necessarily correspond to a sentence)."
   ]
  },
  {
   "cell_type": "code",
   "execution_count": 16,
   "metadata": {
    "collapsed": false
   },
   "outputs": [
    {
     "name": "stdout",
     "output_type": "stream",
     "text": [
      "19\n"
     ]
    }
   ],
   "source": [
    "count = 0\n",
    "f = open('data/austen-emma-excerpt.txt', 'rt')\n",
    "for line in f:\n",
    "    count += 1\n",
    "f.close()\n",
    "print(count)"
   ]
  },
  {
   "cell_type": "markdown",
   "metadata": {},
   "source": [
    "This is a \"pythonic\" way of opening a file. It is preferable to use this \"with\" syntax, you can read up on it why, but for now just remember that its safer."
   ]
  },
  {
   "cell_type": "code",
   "execution_count": 17,
   "metadata": {
    "collapsed": false
   },
   "outputs": [
    {
     "name": "stdout",
     "output_type": "stream",
     "text": [
      "Emma by Jane Austen 1816\n",
      "\n",
      "\n",
      "\n",
      "VOLUME I\n",
      "\n",
      "\n",
      "\n",
      "CHAPTER I\n",
      "\n",
      "\n",
      "\n",
      "\n",
      "\n",
      "Emma Woodhouse, handsome, clever, and rich, with a comfortable home\n",
      "\n",
      "and happy disposition, seemed to unite some of the best blessings\n",
      "\n",
      "of existence; and had lived nearly twenty-one years in the world\n",
      "\n",
      "with very little to distress or vex her.\n",
      "\n",
      "\n",
      "\n",
      "She was the youngest of the two daughters of a most affectionate,\n",
      "\n",
      "indulgent father; and had, in consequence of her sister's marriage,\n",
      "\n",
      "been mistress of his house from a very early period.  Her mother\n",
      "\n",
      "had died too long ago for her to have more than an indistinct\n",
      "\n",
      "remembrance of her caresses; and her place had been supplied\n",
      "\n",
      "by an excellent woman as governess, who had fallen little short\n",
      "\n",
      "of a mother in affection.\n"
     ]
    }
   ],
   "source": [
    "with open('data/austen-emma-excerpt.txt','rt') as txt:\n",
    "    for line in txt:\n",
    "        print line"
   ]
  },
  {
   "cell_type": "markdown",
   "metadata": {},
   "source": [
    "## Excersize"
   ]
  },
  {
   "cell_type": "markdown",
   "metadata": {},
   "source": [
    "Read the file `data/austen-emma-excerpt.txt` and compute the average length of the lines:\n",
    "* In characters\n",
    "* In words\n",
    "* Re-calculate both measures when not counting empty lines"
   ]
  },
  {
   "cell_type": "code",
   "execution_count": 18,
   "metadata": {
    "collapsed": true
   },
   "outputs": [],
   "source": [
    "f = open('data/austen-emma-excerpt.txt', 'rt')\n",
    "# insert your code here\n",
    "# important: always remember to properly close your files again!"
   ]
  },
  {
   "cell_type": "markdown",
   "metadata": {},
   "source": [
    "## File Out"
   ]
  },
  {
   "cell_type": "markdown",
   "metadata": {},
   "source": [
    "Now we mastered the art of reading files, let's move on to writing files, which follows a similar logic:"
   ]
  },
  {
   "cell_type": "code",
   "execution_count": 19,
   "metadata": {
    "collapsed": false
   },
   "outputs": [],
   "source": [
    "f = open('data/testoutput.txt', 'wt')\n",
    "f.write(\"Hello world!\")\n",
    "f.close()"
   ]
  },
  {
   "cell_type": "markdown",
   "metadata": {},
   "source": [
    "If you want your data to be written on multiple lines, you need to take care to explicitly encode the newlines. "
   ]
  },
  {
   "cell_type": "code",
   "execution_count": 20,
   "metadata": {
    "collapsed": false
   },
   "outputs": [
    {
     "ename": "TypeError",
     "evalue": "'encoding' is an invalid keyword argument for this function",
     "output_type": "error",
     "traceback": [
      "\u001b[1;31m---------------------------------------------------------------------------\u001b[0m",
      "\u001b[1;31mTypeError\u001b[0m                                 Traceback (most recent call last)",
      "\u001b[1;32m<ipython-input-20-40bdd4f666ff>\u001b[0m in \u001b[0;36m<module>\u001b[1;34m()\u001b[0m\n\u001b[1;32m----> 1\u001b[1;33m \u001b[0mf\u001b[0m \u001b[1;33m=\u001b[0m \u001b[0mopen\u001b[0m\u001b[1;33m(\u001b[0m\u001b[1;34m'data/testoutput.txt'\u001b[0m\u001b[1;33m,\u001b[0m\u001b[1;34m'wt'\u001b[0m\u001b[1;33m,\u001b[0m \u001b[0mencoding\u001b[0m\u001b[1;33m=\u001b[0m\u001b[1;34m'utf-8'\u001b[0m\u001b[1;33m)\u001b[0m\u001b[1;33m\u001b[0m\u001b[0m\n\u001b[0m\u001b[0;32m      2\u001b[0m \u001b[0mf\u001b[0m\u001b[1;33m.\u001b[0m\u001b[0mwrite\u001b[0m\u001b[1;33m(\u001b[0m\u001b[1;34m\"Hello world on the first line!\\n\"\u001b[0m\u001b[1;33m)\u001b[0m\u001b[1;33m\u001b[0m\u001b[0m\n\u001b[0;32m      3\u001b[0m \u001b[0mf\u001b[0m\u001b[1;33m.\u001b[0m\u001b[0mwrite\u001b[0m\u001b[1;33m(\u001b[0m\u001b[1;34m\"Hello world on the second line!\"\u001b[0m\u001b[1;33m)\u001b[0m\u001b[1;33m\u001b[0m\u001b[0m\n\u001b[0;32m      4\u001b[0m \u001b[0mf\u001b[0m\u001b[1;33m.\u001b[0m\u001b[0mclose\u001b[0m\u001b[1;33m(\u001b[0m\u001b[1;33m)\u001b[0m\u001b[1;33m\u001b[0m\u001b[0m\n",
      "\u001b[1;31mTypeError\u001b[0m: 'encoding' is an invalid keyword argument for this function"
     ]
    }
   ],
   "source": [
    "f = open('data/testoutput.txt','wt', encoding='utf-8')\n",
    "f.write(\"Hello world on the first line!\\n\")\n",
    "f.write(\"Hello world on the second line!\")\n",
    "f.close()"
   ]
  },
  {
   "cell_type": "markdown",
   "metadata": {},
   "source": [
    "### Pickle"
   ]
  },
  {
   "cell_type": "markdown",
   "metadata": {},
   "source": [
    "Another very common way of saving data to disk in Python is to just simply \"dump\" it in a pickle file. This section is going to walk you through thxis idea. "
   ]
  },
  {
   "cell_type": "markdown",
   "metadata": {},
   "source": [
    "Let's say you have read in some document and created a frequency dictionary from your text file:"
   ]
  },
  {
   "cell_type": "code",
   "execution_count": 21,
   "metadata": {
    "collapsed": false
   },
   "outputs": [
    {
     "data": {
      "text/plain": [
       "{'word1': 210, 'word2': 50}"
      ]
     },
     "execution_count": 21,
     "metadata": {},
     "output_type": "execute_result"
    }
   ],
   "source": [
    "freq_dict = {'word1': 210, 'word2': 50}\n",
    "freq_dict"
   ]
  },
  {
   "cell_type": "markdown",
   "metadata": {},
   "source": [
    "You would like to remember this for later use. This is where you can use the pickle module. This module let's you write out arbitrary Python objects to disk and read them back later. pickle has two main methods: The first one is dump, which dumps an object to a file object and the second one is load, which loads an object from a file object"
   ]
  },
  {
   "cell_type": "code",
   "execution_count": 22,
   "metadata": {
    "collapsed": true
   },
   "outputs": [],
   "source": [
    "import pickle"
   ]
  },
  {
   "cell_type": "code",
   "execution_count": 23,
   "metadata": {
    "collapsed": true
   },
   "outputs": [],
   "source": [
    "pickle.dump(freq_dict, open('freqdict.pkl', 'wb')) # passing the thing that i want to right out and a file object to pickle"
   ]
  },
  {
   "cell_type": "code",
   "execution_count": 24,
   "metadata": {
    "collapsed": false
   },
   "outputs": [
    {
     "data": {
      "text/plain": [
       "{'word1': 210, 'word2': 50}"
      ]
     },
     "execution_count": 24,
     "metadata": {},
     "output_type": "execute_result"
    }
   ],
   "source": [
    "pickle.load(open(r'freqdict.pkl'))"
   ]
  },
  {
   "cell_type": "markdown",
   "metadata": {},
   "source": [
    "## From Reading CSV to Data Visualization"
   ]
  },
  {
   "cell_type": "markdown",
   "metadata": {},
   "source": [
    "Let's read the csv file using the simple open(r\"file\").readlines() method\n",
    "This dataset is a list of how many people were on 7 different bike paths in Montreal, each day."
   ]
  },
  {
   "cell_type": "code",
   "execution_count": 183,
   "metadata": {
    "collapsed": false
   },
   "outputs": [
    {
     "name": "stdout",
     "output_type": "stream",
     "text": [
      "['Date;Berri 1;Br\\xe9beuf (donn\\xe9es non disponibles);C\\xf4te-Sainte-Catherine;Maisonneuve 1;Maisonneuve 2;du Parc;Pierre-Dupuy;Rachel1;St-Urbain (donn\\xe9es non disponibles)\\r\\n', '01/01/2012;35;;0;38;51;26;10;16;\\r\\n', '02/01/2012;83;;1;68;153;53;6;43;\\r\\n', '03/01/2012;135;;2;104;248;89;3;58;\\r\\n', '04/01/2012;144;;1;116;318;111;8;61;\\r\\n']\n",
      "Date;Berri 1;Br�beuf (donn�es non disponibles);C�te-Sainte-Catherine;Maisonneuve 1;Maisonneuve 2;du Parc;Pierre-Dupuy;Rachel1;St-Urbain (donn�es non disponibles)\r\n",
      "\n",
      "01/01/2012;35;;0;38;51;26;10;16;\r\n",
      "\n",
      "02/01/2012;83;;1;68;153;53;6;43;\r\n",
      "\n",
      "03/01/2012;135;;2;104;248;89;3;58;\r\n",
      "\n",
      "04/01/2012;144;;1;116;318;111;8;61;\r\n",
      "\n",
      "05/01/2012;197;;2;124;330;97;13;95;\r\n",
      "\n",
      "06/01/2012;146;;0;98;244;86;4;75;\r\n",
      "\n",
      "07/01/2012;98;;2;80;108;53;6;54;\r\n",
      "\n",
      "08/01/2012;95;;1;62;98;64;11;63;\r\n",
      "\n",
      "09/01/2012;244;;2;165;432;198;12;173;\r\n",
      "\n"
     ]
    }
   ],
   "source": [
    "csvfile = open('./data/bikes.csv').readlines() # reading csv in a list \n",
    "print csvfile[:5]\n",
    "\n",
    "# Printing it one line at a time until 10th line\n",
    "for counter, row in enumerate(csvfile):\n",
    "    if counter == 10:\n",
    "        break\n",
    "    else:\n",
    "        print row"
   ]
  },
  {
   "cell_type": "markdown",
   "metadata": {},
   "source": [
    "It might not be immediately apparent, but csv files are nothing more than just simple tables of data. The first __row__ is the header "
   ]
  },
  {
   "cell_type": "code",
   "execution_count": 201,
   "metadata": {
    "collapsed": false
   },
   "outputs": [],
   "source": [
    "counter = 0\n",
    "data = []\n",
    "for counter, row in enumerate(csvfile):\n",
    "    if counter == 0:\n",
    "        header = row.split(';')\n",
    "    elif counter == 10:\n",
    "        break\n",
    "    else:\n",
    "        data.append(row.split(';')[:-1]) # append up until the last element (but not the last element)\n",
    "    counter += 1"
   ]
  },
  {
   "cell_type": "code",
   "execution_count": 205,
   "metadata": {
    "collapsed": false
   },
   "outputs": [
    {
     "name": "stdout",
     "output_type": "stream",
     "text": [
      "['Date', 'Berri 1', 'Br\\xe9beuf (donn\\xe9es non disponibles)', 'C\\xf4te-Sainte-Catherine', 'Maisonneuve 1', 'Maisonneuve 2', 'du Parc', 'Pierre-Dupuy', 'Rachel1', 'St-Urbain (donn\\xe9es non disponibles)\\r\\n']\n"
     ]
    },
    {
     "data": {
      "text/plain": [
       "[['01/01/2012', '35', '38', '51', '26', '10', '16'],\n",
       " ['02/01/2012', '83', '68', '153', '53', '6', '43'],\n",
       " ['03/01/2012', '135', '104', '248', '89', '3', '58'],\n",
       " ['04/01/2012', '144', '116', '318', '111', '8', '61'],\n",
       " ['05/01/2012', '197', '124', '330', '97', '13', '95'],\n",
       " ['06/01/2012', '146', '98', '244', '86', '4', '75'],\n",
       " ['07/01/2012', '98', '80', '108', '53', '6', '54'],\n",
       " ['08/01/2012', '95', '62', '98', '64', '11', '63'],\n",
       " ['09/01/2012', '244', '165', '432', '198', '12', '173']]"
      ]
     },
     "execution_count": 205,
     "metadata": {},
     "output_type": "execute_result"
    }
   ],
   "source": [
    "print header\n",
    "for i in data:\n",
    "    i.pop(2) # removing second element\n",
    "data"
   ]
  },
  {
   "cell_type": "code",
   "execution_count": 196,
   "metadata": {
    "collapsed": false
   },
   "outputs": [
    {
     "name": "stdout",
     "output_type": "stream",
     "text": [
      "01/01/2012\n",
      "02/01/2012\n",
      "03/01/2012\n",
      "04/01/2012\n",
      "05/01/2012\n",
      "06/01/2012\n",
      "07/01/2012\n",
      "08/01/2012\n",
      "09/01/2012\n",
      "35\n",
      "83\n",
      "135\n",
      "144\n",
      "197\n",
      "146\n",
      "98\n",
      "95\n",
      "244\n",
      "\n",
      "\n",
      "\n",
      "\n",
      "\n",
      "\n",
      "\n",
      "\n",
      "\n",
      "0\n",
      "1\n",
      "2\n",
      "1\n",
      "2\n",
      "0\n",
      "2\n",
      "1\n",
      "2\n",
      "38\n",
      "68\n",
      "104\n",
      "116\n",
      "124\n",
      "98\n",
      "80\n",
      "62\n",
      "165\n",
      "51\n",
      "153\n",
      "248\n",
      "318\n",
      "330\n",
      "244\n",
      "108\n",
      "98\n",
      "432\n",
      "26\n",
      "53\n",
      "89\n",
      "111\n",
      "97\n",
      "86\n",
      "53\n",
      "64\n",
      "198\n",
      "10\n",
      "6\n",
      "3\n",
      "8\n",
      "13\n",
      "4\n",
      "6\n",
      "11\n",
      "12\n",
      "16\n",
      "43\n",
      "58\n",
      "61\n",
      "95\n",
      "75\n",
      "54\n",
      "63\n",
      "173\n"
     ]
    }
   ],
   "source": [
    "means = []\n",
    "for i in range(len(data[0])):\n",
    "    for j in range(len(data)):\n",
    "        print data[j][i]"
   ]
  },
  {
   "cell_type": "code",
   "execution_count": null,
   "metadata": {
    "collapsed": true
   },
   "outputs": [],
   "source": []
  }
 ],
 "metadata": {
  "kernelspec": {
   "display_name": "Python 2",
   "language": "python",
   "name": "python2"
  },
  "language_info": {
   "codemirror_mode": {
    "name": "ipython",
    "version": 2
   },
   "file_extension": ".py",
   "mimetype": "text/x-python",
   "name": "python",
   "nbconvert_exporter": "python",
   "pygments_lexer": "ipython2",
   "version": "2.7.9"
  }
 },
 "nbformat": 4,
 "nbformat_minor": 0
}
