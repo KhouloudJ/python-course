{
 "cells": [
  {
   "cell_type": "markdown",
   "metadata": {},
   "source": [
    "# Chapter 7:  Files I/O and Strings"
   ]
  },
  {
   "cell_type": "markdown",
   "metadata": {},
   "source": [
    "In this chapter you will learn how to read data from and write data to files. This is quite and essential part of programming, as it is the first step for your program to communicate with the outside world. In most cases you will write programs that take data from some source, manipulates it in someway and writes it out somewhere. For example if you would write a survey, you could take input from participants and save their answers in some files. When the survey is over you would read these files in and do some analysis on the data you have collected and save your results. In this chapter we will read in texts, analyze them a bit, and save out our analysis to files. "
   ]
  },
  {
   "cell_type": "markdown",
   "metadata": {},
   "source": [
    "## File Input"
   ]
  },
  {
   "cell_type": "markdown",
   "metadata": {},
   "source": [
    "Input for your programs often comes from files on your disk, such as texts or some data in csv format. Likewise, you often want output to be written back to files on your disk as well e.g.: you collect tweets about a certain topic and you write it to a file for later analysis. Thus, reading and writing files is often an essential part of programming and, lucky, for us, this is really simple in Python. The following example reads a file from disk:"
   ]
  },
  {
   "cell_type": "code",
   "execution_count": null,
   "metadata": {
    "collapsed": false
   },
   "outputs": [],
   "source": [
    "print os.listdir('./data')\n",
    "f = open('data/austen-emma-excerpt.txt', 'rt') # open the file \n",
    "text = f.read() # read in its content as a string\n",
    "f.close() # close the file\n",
    "print(text) # print the string"
   ]
  },
  {
   "cell_type": "markdown",
   "metadata": {},
   "source": [
    "The `open()` function does not return the actual text that is saved in the text file. It only returns a 'file object' from which we can read the content using the `.read()` function. We passed three arguments to the `open()` function:\n",
    "\n",
    " * the name of the file that you wish to open\n",
    " * the mode, a combination of characters, 'r' represents read-mode, and 't' represent plain text-mode. This indicates we are reading a plain text file.\n",
    " * the last argument, a named argument (encoding), specifies the encoding of the text file.\n",
    " \n",
    "The most important mode arguments the open() function can take are:\n",
    "\n",
    "* r: Opens a file for reading only. The file pointer is placed at the beginning of the file.\n",
    "* w: Opens a file for writing only. Overwrites the file if the file exists. If the file does not exist, creates a new file for writing.\n",
    "* a: Opens a file for appending. The file pointer is at the end of the file if the file exists. If the file does not exist, it creates a new file for writing. Use it if you would like to add something to the end of a file\n",
    "\n"
   ]
  },
  {
   "cell_type": "markdown",
   "metadata": {},
   "source": [
    ">UTF-8\n",
    "\n",
    ">You may wonder what an encoding is and what *utf-8* is. For anyone working with texts and computers this is vital to know. Internally, a computer knows no characters whatsoever: every piece of information is represented as numbers (which in turn are represented in a binary format, as zeroes and ones). An encoding specifies which numbers represent which characters. A famous and long-standing encoding scheme is ASCII, in which for example the letter 'A' is encoded using the number 65. ASCII however only has a very limited alphabet and can not encode a lot of writing systems. A modern-day encoding supporting countless writing systems is *unicode* and *utf-8* is a kind of unicode. This the type of encoding that you will want to use for your data whenever possible. Whenever you have a choice, you should use unicode!"
   ]
  },
  {
   "cell_type": "markdown",
   "metadata": {},
   "source": [
    "Reading an entire file in one string is not always desirable, especially not with huge files. The following example reads up until a newline everytime, and returns one line at a time. \n"
   ]
  },
  {
   "cell_type": "code",
   "execution_count": null,
   "metadata": {
    "collapsed": false
   },
   "outputs": [],
   "source": [
    "f = open('data/austen-emma-excerpt.txt','rt', encoding='utf-8') # open the file\n",
    "for line in f: # iterate over the file object\n",
    "    print(line)   # the file object yields one line at a time\n",
    "    print(\"n\")    # after every line print \"n\"\n",
    "f.close() # close the file"
   ]
  },
  {
   "cell_type": "markdown",
   "metadata": {},
   "source": [
    "The 'newline' character is probably something new to you. If you are dealing with plain text files (typically files whose name ends in the '.txt' extension), your machine uses a special character internally to signal that a new line should begin. Internally, such newlines are represented as `\"\\n\"`. Normally, this character is visualized on your screen as if the enter key were pressed. See what happens below: "
   ]
  },
  {
   "cell_type": "code",
   "execution_count": null,
   "metadata": {
    "collapsed": false
   },
   "outputs": [],
   "source": [
    "f = open('data/austen-emma-excerpt.txt','rt', encoding='utf-8')\n",
    "for line in f:\n",
    "    print(line)\n",
    "f.close()"
   ]
  },
  {
   "cell_type": "markdown",
   "metadata": {},
   "source": [
    "Rather than just printing, we can of course do whatever we want with this file's content. Let's count the number of lines (but note, that a line does not necessarily correspond to a sentence)."
   ]
  },
  {
   "cell_type": "code",
   "execution_count": null,
   "metadata": {
    "collapsed": false
   },
   "outputs": [],
   "source": [
    "count = 0\n",
    "f = open('data/austen-emma-excerpt.txt', 'rt', encoding='utf-8')\n",
    "for line in f:\n",
    "    count += 1\n",
    "f.close()\n",
    "print(count)"
   ]
  },
  {
   "cell_type": "markdown",
   "metadata": {},
   "source": [
    "### Useful tips on file reading"
   ]
  },
  {
   "cell_type": "markdown",
   "metadata": {},
   "source": [
    "The last thing I would like to show you is to store the contents of a file in a list, which I find useful in some cases. Python provides the fileobject.readlines() function, which creates a list, where each element of the list is one line from the file. As you can see in the example below, this keeps the annoying trainling new line characters \"\\n\" at the end of the lines. So in the second example I read in the file as one string and split it on the newline characters \"\\n\"."
   ]
  },
  {
   "cell_type": "code",
   "execution_count": null,
   "metadata": {
    "collapsed": false
   },
   "outputs": [],
   "source": [
    "lines = open('data/austen-emma-excerpt.txt', 'rt').readlines()\n",
    "print \"Number of lines\", len(lines)\n",
    "print lines\n",
    "print\n",
    "print open('data/austen-emma-excerpt.txt', 'rt').read().split('\\n')"
   ]
  },
  {
   "cell_type": "markdown",
   "metadata": {},
   "source": [
    "Lastly, below I show a more \"pythonic\" way of opening a file. It is preferable to use the `with` syntax, you can read up on why this is the case, but for now just remember that it's safer."
   ]
  },
  {
   "cell_type": "code",
   "execution_count": null,
   "metadata": {
    "collapsed": false
   },
   "outputs": [],
   "source": [
    "with open('data/austen-emma-excerpt.txt','rt', encoding='utf-8') as txt:\n",
    "    for line in txt:\n",
    "        print line"
   ]
  },
  {
   "cell_type": "markdown",
   "metadata": {},
   "source": [
    "**Exercise:**"
   ]
  },
  {
   "cell_type": "markdown",
   "metadata": {},
   "source": [
    "Read the file `data/austen-emma-excerpt.txt` and compute the average length of the lines:\n",
    "* In characters\n",
    "* In words\n",
    "\n",
    "Do not count empty lines!"
   ]
  },
  {
   "cell_type": "code",
   "execution_count": null,
   "metadata": {
    "collapsed": false
   },
   "outputs": [],
   "source": [
    "# insert your code here\n",
    "# important: always remember to properly close your files again!"
   ]
  },
  {
   "cell_type": "markdown",
   "metadata": {},
   "source": [
    "## Sentiment Data Sets"
   ]
  },
  {
   "cell_type": "code",
   "execution_count": 2,
   "metadata": {
    "collapsed": false
   },
   "outputs": [
    {
     "name": "stdout",
     "output_type": "stream",
     "text": [
      "['Chapter 1 - Variables.ipynb', 'Chapter 8 - Object Orientation.ipynbnVUpdI', 'Code-Encode sketch.ipynb', 'Chapter 6 - Dictionaries.ipynb', 'data', 'Chapter 9 - Files In-Out.ipynb', '.ipynb_checkpoints', 'Chapter 11 - Strings.ipynb', 'Chapter 4 - Functions.ipynb', 'Chapter 2 - Conditions.ipynb', 'Chapter 3 - Loops.ipynb', 'old_course', 'README.md', 'Chapter 8 - Object Orientation.ipynb', '.gitignore', 'Chapter 5 - Lists.ipynb', 'freqdict.pkl', 'Chapter 7 - File handling.ipynb', 'styles', 'Chapter - 10 Data Analysis.ipynb', '.git']\n"
     ]
    }
   ],
   "source": [
    "import os\n",
    "print os.listdir('.')\n",
    "        "
   ]
  },
  {
   "cell_type": "code",
   "execution_count": 3,
   "metadata": {
    "collapsed": false
   },
   "outputs": [
    {
     "name": "stdout",
     "output_type": "stream",
     "text": [
      "Chapter 8 - Object Orientation.ipynbnVUpdI\n",
      "data\n",
      ".ipynb_checkpoints\n",
      "old_course\n",
      "styles\n",
      ".git\n"
     ]
    }
   ],
   "source": [
    "for element in os.listdir('.'):\n",
    "    if os.path.isdir(element):\n",
    "        print element"
   ]
  },
  {
   "cell_type": "code",
   "execution_count": 4,
   "metadata": {
    "collapsed": false
   },
   "outputs": [
    {
     "name": "stdout",
     "output_type": "stream",
     "text": [
      "1000\n",
      "1000\n"
     ]
    }
   ],
   "source": [
    "print len(os.listdir('./data/sentiment/txt_sentoken/neg'))\n",
    "print len(os.listdir('./data/sentiment/txt_sentoken/pos'))"
   ]
  },
  {
   "cell_type": "code",
   "execution_count": 5,
   "metadata": {
    "collapsed": false
   },
   "outputs": [
    {
     "name": "stdout",
     "output_type": "stream",
     "text": [
      "['in', 'the', 'james', 'bond', 'film', '\"', 'diamonds', 'are', 'forever', ',', '\"', 'tiffany', 'case', 'asks', '007', 'whether', 'he', 'prefers', 'brunettes', 'to', 'redheads', '.', \"bond's\", 'response', 'is', 'that', 'it', \"doesn't\", 'really', 'matter', ',', 'as', 'long', 'as', 'collars', 'and', 'cuffs', 'match', '.', 'well', ',', 'collars', 'and', 'cuffs', \"don't\", 'match', 'in', '\"', 'the', 'real', 'blonde', '.', '\"', 'what', 'might', 'have', 'sounded', 'good', 'on', 'paper', 'ends', 'up', 'as', 'a', 'largely', 'unfunny', ',', 'meandering', 'comedy', 'on', 'screen', '.', 'the', 'film', ',', 'supposedly', 'a', 'satire', 'of', 'the', 'superficiality', 'of', 'soap', 'operas', 'and', 'the', 'modeling', 'business', ',', 'is', 'wafer', 'thin', '.', 'it', 'plays', 'like', 'an', '\"', 'ally', 'mcbeal', '\"', 'episode', 'dragged', 'out', 'to', 'the', 'nth', 'degree', ',', 'replete', 'with', 'a', 'few', 'unnecessary', '\"', 'fantasy', '\"', 'sequences', '.', 'writer/director', 'tom', 'dicillo', 'manages', 'the', 'material', 'as', 'if', 'poking', 'fun', 'at', 'daytime', 'dramas', 'is', 'a', 'fresh', 'idea', '.', 'it', \"isn't\", '.', 'the', 'only', 'surprise', 'here', 'is', 'that', 'the', 'talented', 'dicillo', 'could', 'make', 'familiar', 'terrain', 'so', 'dreary', '.', 'matthew', 'modine', 'plays', 'joe', ',', 'a', 'struggling', 'actor', 'waiting', 'tables', 'in', 'order', 'to', 'pay', 'the', 'rent', '.', \"he's\", '35', 'with', 'no', 'agent', 'and', 'no', 'credits', 'since', \"he's\", 'too', 'proud', 'to', 'take', 'on', 'roles', 'in', 'commercials', 'or', 'soap', 'operas', '.', '\"', \"that's\", 'not', 'really', 'acting', '\"', 'he', 'tells', 'his', 'girlfriend', 'of', 'six', 'years', ',', 'mary', '(', 'catherine', 'keener', ')', ',', 'with', 'whom', 'he', 'bickers', 'constantly', 'about', 'sex', '.', 'but', 'they', 'need', 'the', 'money', ',', 'so', 'joe', 'finally', 'agrees', 'to', 'take', 'a', 'part', 'in', 'a', 'madonna', 'video', '.', 'but', \"it's\", 'not', 'really', 'madonna', 'starring', 'in', 'the', 'video', 'but', 'a', 'lookalike', '(', 'played', 'by', 'elizabeth', 'berkley', ',', 'still', 'trying', 'to', 'jump-start', 'her', 'career', 'after', '\"', 'showgirls', '\"', ')', '.', 'this', 'points', 'out', 'how', 'artificial', 'this', 'whole', 'business', 'is', ',', 'one', 'supposes', '.', 'dicillo', 'has', 'referred', 'to', '\"', 'the', 'real', 'blonde', '\"', 'as', '\"', 'off-kilter', ',', 'but', 'an', 'interesting', 'combination', 'of', 'all', 'sorts', 'of', 'stuff', '.', '.', '.', '\"', 'the', 'film', ',', 'which', 'wanders', 'all', 'over', 'the', 'place', 'without', 'getting', 'anywhere', ',', 'is', 'remarkably', '*', 'on', '*', '-kilter', 'and', ',', 'with', 'perhaps', 'the', 'single', 'exception', 'of', 'the', 'always-likable', 'modine', '(', \"who's\", 'not', 'afraid', 'to', 'stand', 'around', 'in', 'a', 'very', 'unattractive', 'bathing', 'suit', 'surrounded', 'by', 'hunks', ')', ',', 'the', 'entire', 'cast', 'is', 'vague', 'and', 'uninteresting', '.', 'catherine', 'keener', ',', \"who's\", 'appeared', 'in', \"dicillo's\", 'previous', 'three', 'films', '(', 'including', 'the', 'brilliant', '\"', 'living', 'in', 'oblivion', '\"', ')', ',', 'is', 'at', 'her', 'most', 'annoying', 'in', '\"', 'the', 'real', 'blonde', '.', '\"', 'look', 'at', 'her', 'closely', ';', 'she', 'really', \"can't\", 'act', 'at', 'all', '.', 'her', 'reactions', 'are', 'all', 'wrong', ',', 'almost', 'always', 'out', 'of', 'sync', 'with', 'her', 'co-stars', '.', 'she', 'reacts', 'too', 'soon', ',', 'or', 'too', 'late', ',', 'to', 'lines', 'and', 'situations', '.', 'she', 'moves', 'her', 'eyes', ',', 'or', 'her', 'mouth', ',', 'far', 'too', 'much', '.', 'she', 'frowns', ',', 'she', 'yells', ',', 'she', 'babbles--she', 'blows', 'chunks', '.', 'maxwell', 'caulfield', 'plays', \"joe's\", 'actor/waiter', 'buddy', 'bob', ',', 'the', 'one', 'obsessed', 'with', 'dating', 'a', '\"', 'natural', '\"', 'blonde', '.', \"bob's\", 'personality', '(', 'not', 'to', 'mention', \"caulfield's\", 'acting', 'ability', ')', 'parallels', 'that', 'of', 'the', 'character', 'he', 'plays', 'on', 'the', 'soap', 'opera', '\"', 'passion', 'crest', '\"', '--stiff', 'and', 'uninteresting', '.', 'maybe', \"that's\", 'the', 'point', '.', 'daryl', 'hannah', 'is', 'dim', 'and', 'uninteresting', 'as', 'the', 'real', 'blonde', 'of', 'the', 'title', ',', 'a', 'soap', 'dish', 'who', 'beds', 'bob', 'both', 'on-', 'and', 'off-camera', '.', 'hannah', 'looks', 'about', 'fifty', 'in', 'this', 'movie', '(', \"she's\", 'only', '37', ')', '.', 'why', 'is', 'that', '?', 'almost', 'all', 'the', 'women', 'in', 'the', 'film', 'wear', 'tops', 'that', 'show', 'their', 'nipples', '.', 'why', 'is', 'that', '!', '?', 'marlo', 'thomas', 'plays', 'an', 'uninteresting', 'fashion', 'photographer', '.', 'kathleen', 'turner', 'plays', 'an', 'uninteresting', 'talent', 'agent', '.', 'buck', 'henry', 'plays', 'an', 'uninteresting', 'shrink', '.', 'christopher', 'lloyd', 'plays', 'an', 'uninteresting', 'caterer', '.', 'and', 'so', 'on', '.', 'the', 'best', 'parts', 'of', 'the', '\"', 'the', 'real', 'blonde', '\"', 'are', 'the', 'beginning', 'and', 'the', 'end', ',', 'brief', 'scenes', 'of', 'an', 'elderly', 'woman', 'losing', 'and', 'then', 'finding', 'her', 'dog', '.', \"there's\", 'more', 'depth', 'and', 'sincerity', 'in', 'a', 'single', 'close-up', 'of', 'her', 'expressive', 'face', 'than', 'in', 'the', 'entire', 'film', '.', 'while', 'this', 'contrast', 'is', 'supposedly', 'meant', 'to', 'highlight', 'the', 'shallowness', 'of', 'the', 'other', \"characters'\", 'lives', ',', 'the', 'only', 'thing', 'that', 'makes', 'shallow', 'and', 'superficial', 'interesting', 'is', 'if', \"it's\", 'funny', '.']\n"
     ]
    }
   ],
   "source": [
    "neg_data_path = './data/sentiment/txt_sentoken/neg/'\n",
    "negatives = os.listdir(neg_data_path)\n",
    "print open(neg_data_path+negatives[100], 'r').read().split()"
   ]
  },
  {
   "cell_type": "markdown",
   "metadata": {},
   "source": [
    "## File Output"
   ]
  },
  {
   "cell_type": "markdown",
   "metadata": {},
   "source": [
    "\n",
    "Now we mastered the art of reading files, let's move on to writing files, which follows a similar logic:"
   ]
  },
  {
   "cell_type": "code",
   "execution_count": null,
   "metadata": {
    "collapsed": false
   },
   "outputs": [],
   "source": [
    "f = open('data/testoutput.txt', 'wt', encoding='utf-8')\n",
    "f.write(\"Hello world!\")\n",
    "f.close()"
   ]
  },
  {
   "cell_type": "markdown",
   "metadata": {},
   "source": [
    "In this code block, we have created a new file called `testoutput.txt` in the `data` directory. We then wrote a single line to this file and then we closed it. Note that the `w` in `wt` is a crucial addition: if you would have left this out, Python would have opened the file in 'readonly' mode and you wouldn't have been able to write to it! The 't' in the argument, again, signifies that we will be writing to this file in plain text mode."
   ]
  },
  {
   "cell_type": "markdown",
   "metadata": {},
   "source": [
    "If you want your data to be written on multiple lines, you need to take care to explicitly encode the newlines. Instead of:\n",
    "    "
   ]
  },
  {
   "cell_type": "code",
   "execution_count": null,
   "metadata": {
    "collapsed": false
   },
   "outputs": [],
   "source": [
    "f = open('data/testouput.txt','wt', encoding='utf-8')\n",
    "f.write(\"Hello world on the first line!\")\n",
    "f.write(\"Hello world on the second line!\")\n",
    "f.close()"
   ]
  },
  {
   "cell_type": "markdown",
   "metadata": {},
   "source": [
    "You need to write:"
   ]
  },
  {
   "cell_type": "code",
   "execution_count": null,
   "metadata": {
    "collapsed": false
   },
   "outputs": [],
   "source": [
    "f = open('data/testoutput.txt','wt', encoding='utf-8')\n",
    "f.write(\"Hello world on the first line!\\n\")\n",
    "f.write(\"Hello world on the second line!\")\n",
    "f.close()"
   ]
  },
  {
   "cell_type": "markdown",
   "metadata": {},
   "source": [
    "Otherwise your file would have `Hello world!Hello world!` in it, i.e. without the newlines."
   ]
  },
  {
   "cell_type": "markdown",
   "metadata": {},
   "source": [
    "Besides 'read-mode' and 'write-mode' when dealing with text files, there is also the 'append-mode' in Python. Watch out: in 'write-mode', you will always *overwrite* the existing content of the file. However, if you've open a file in 'append-mode', everything you write to the file will be added at the end of the file, without deleting anything of the existing content in the file. In order to enable the append mode, you need to specify `'at'` as your second parameter when you open files ('a' for append mode; 't' for text mode)."
   ]
  },
  {
   "cell_type": "markdown",
   "metadata": {},
   "source": [
    "** Exercise:**"
   ]
  },
  {
   "cell_type": "markdown",
   "metadata": {},
   "source": [
    "Open the file we just created and check if the writing was succesfull or not"
   ]
  },
  {
   "cell_type": "code",
   "execution_count": null,
   "metadata": {
    "collapsed": true
   },
   "outputs": [],
   "source": [
    "# insert your code here"
   ]
  },
  {
   "cell_type": "markdown",
   "metadata": {},
   "source": [
    "Read the file `data/austen-emma-excerpt-tokenised.txt`, and write to a file `words.txt` all words occuring in this text (without duplicates!!), alphabetically ordered, one word per line. That way, you are really creating a lexicon or word list of the text. (Tip: you should use sets in this exercise!)"
   ]
  },
  {
   "cell_type": "markdown",
   "metadata": {},
   "source": [
    "Check your output by viewing the `words.txt` file in a text editor such as Sublime Text 2. "
   ]
  },
  {
   "cell_type": "markdown",
   "metadata": {
    "collapsed": false
   },
   "source": [
    "## Pickle"
   ]
  },
  {
   "cell_type": "markdown",
   "metadata": {},
   "source": [
    "Another very common way of saving data to disk in Python is to just simply \"dump\" it in a pickle file. This section is going to walk you through this idea. "
   ]
  },
  {
   "cell_type": "markdown",
   "metadata": {},
   "source": [
    "Let's say you have read in some document and created a frequency dictionary from your text file:"
   ]
  },
  {
   "cell_type": "code",
   "execution_count": null,
   "metadata": {
    "collapsed": false
   },
   "outputs": [],
   "source": [
    "freq_dict = {'word1': 210, 'word2': 50}\n",
    "print(freq_dict)"
   ]
  },
  {
   "cell_type": "markdown",
   "metadata": {},
   "source": [
    "You would like to remember this for later use. This is where you can use the pickle module. This module let's you write out arbitrary Python objects to disk and read them back later. pickle has two main methods: The first one is dump, which dumps an object to a file object and the second one is load, which loads an object from a file object"
   ]
  },
  {
   "cell_type": "code",
   "execution_count": null,
   "metadata": {
    "collapsed": true
   },
   "outputs": [],
   "source": [
    "import pickle"
   ]
  },
  {
   "cell_type": "code",
   "execution_count": null,
   "metadata": {
    "collapsed": false
   },
   "outputs": [],
   "source": [
    "pickle.dump(freq_dict, open('freqdict.pkl', 'wb')) # passing the thing that i want to right out and a file object to pickle"
   ]
  },
  {
   "cell_type": "code",
   "execution_count": null,
   "metadata": {
    "collapsed": false
   },
   "outputs": [],
   "source": [
    "pickle.load(open('freqdict.pkl', encoding='utf-8'))"
   ]
  },
  {
   "cell_type": "markdown",
   "metadata": {},
   "source": [
    "---"
   ]
  },
  {
   "cell_type": "markdown",
   "metadata": {},
   "source": [
    "### Working with Directories"
   ]
  },
  {
   "cell_type": "markdown",
   "metadata": {},
   "source": [
    "Now that we started to work with files we have to gain some insight into how to navigate the folder/directory structure. Most people use some sort of graphical user interface GUI to navigate to files such as the Finder in Mac OS or you click on the My Computer icon on Windows. Now we are going to interact with these folder structures programmatically. The workhorse of this section is going to be Python's os module. The GUI you are using translates the commands of your operating system to clicking on icons for easier use. Python's os modules is very similar to the GUI in that it provides an interface that let's you navigate between folders, create new folders, rename files etc.."
   ]
  },
  {
   "cell_type": "code",
   "execution_count": null,
   "metadata": {
    "collapsed": true
   },
   "outputs": [],
   "source": [
    "import os"
   ]
  },
  {
   "cell_type": "markdown",
   "metadata": {},
   "source": [
    "Let's get started by checking out which is the current directory are we in actually right now."
   ]
  },
  {
   "cell_type": "code",
   "execution_count": null,
   "metadata": {
    "collapsed": false
   },
   "outputs": [],
   "source": [
    "print(os.getcwd())"
   ]
  },
  {
   "cell_type": "markdown",
   "metadata": {},
   "source": [
    "getcwd refers to \"get current working directory\". As you can see the name of the current directory is XXXXXXXXXXX. The directories on the left are the names higher level directories.  On Linux and Mac these are delimited by \"/\", while on Windows by \"\\\". This distinctions extremely unnecessary I know, but what can you do. "
   ]
  },
  {
   "cell_type": "markdown",
   "metadata": {},
   "source": [
    "OK, now lets check out what files and folders do we have in this directory"
   ]
  },
  {
   "cell_type": "code",
   "execution_count": null,
   "metadata": {
    "collapsed": false
   },
   "outputs": [],
   "source": [
    "print(os.listdir('.')) # The '.' refers to 'current directory'"
   ]
  },
  {
   "cell_type": "markdown",
   "metadata": {},
   "source": [
    "Let's see which of these are files and which of these are directories. Whe are going to use os.path.isdir, which returns True if the string in question refers to a directory otherwise it returns False. Since we can have either a directory or a file and there are no other options, we only ask if the current element is a directory and if not, we infer that it is a file."
   ]
  },
  {
   "cell_type": "code",
   "execution_count": null,
   "metadata": {
    "collapsed": false
   },
   "outputs": [],
   "source": [
    "file_list = os.listdir('.') # list current working directory\n",
    "files = [] # collect the filenames here\n",
    "directories = [] # collect the directory names here\n",
    "for element in file_list:\n",
    "    if os.path.isdir(element):\n",
    "        print element, \" \\t --> is a directory\"\n",
    "        directories.append(element)\n",
    "    else:\n",
    "        print element, \" \\t --> is a file\"\n",
    "        files.append(element)"
   ]
  },
  {
   "cell_type": "markdown",
   "metadata": {},
   "source": [
    "The os module also allows us to change to different directories"
   ]
  },
  {
   "cell_type": "code",
   "execution_count": null,
   "metadata": {
    "collapsed": false
   },
   "outputs": [],
   "source": [
    "print \"Directories:\", directories"
   ]
  },
  {
   "cell_type": "code",
   "execution_count": null,
   "metadata": {
    "collapsed": false
   },
   "outputs": [],
   "source": [
    "os.chdir('data') # descending to the folder \"data\"\n",
    "print os.getcwd() # where are we now?\n",
    "print os.listdir('.') # what do we have here?\n",
    "os.chdir('..') # going back up\n",
    "print os.getcwd() # are we back?\n"
   ]
  },
  {
   "cell_type": "markdown",
   "metadata": {},
   "source": [
    "The following code snippet:\n",
    " + goes to the data directory\n",
    " + creates a new directory inside it \"test\"\n",
    " + creates a new file \"test.txt\"\n",
    " + removes the file \"test.txt\"\n",
    " + removes the directory \"test\""
   ]
  },
  {
   "cell_type": "code",
   "execution_count": null,
   "metadata": {
    "collapsed": false
   },
   "outputs": [],
   "source": [
    "print \"We are here:\", os.getcwd()\n",
    "os.chdir('data') # chdir --> change directory\n",
    "print \"We are here:\", os.getcwd()\n",
    "print os.listdir('.')\n",
    "os.mkdir('test') # mkdir --> make directory\n",
    "print os.listdir('.')\n",
    "os.chdir('test') # chdir --> change directory\n",
    "print os.listdir('.')\n",
    "open(\"test.txt\", 'wt').write('Testing')\n",
    "print os.listdir('.')\n",
    "print open(r\"test.txt\").read()\n",
    "os.remove(\"test.txt\")\n",
    "os.chdir('..')\n",
    "print \"We are here\", os.getcwd()\n",
    "os.rmdir('test')\n",
    "print os.listdir('.')\n",
    "os.chdir('..')\n",
    "print \"And we're back to:\", os.getcwd()"
   ]
  },
  {
   "cell_type": "markdown",
   "metadata": {},
   "source": [
    "###Exercises"
   ]
  },
  {
   "cell_type": "markdown",
   "metadata": {},
   "source": [
    "- **Exercise 1**: Go to Project Gutenberg (http://www.gutenberg.org) and download your favorite out- of-copyright book in plain text format, then upload it to the Jupyter server. Make a frequency dictionary of the words in the novel. Sort the words in the dictionary by frequency and write it to a text file called `frequencies.txt`. Make sure your program ignores capitalization as well as punctuation (hint: check out `string.punctuation` online!). Search the web in order to find out how you can sort a dictionary -- this is not easy, because you might have to import another module."
   ]
  },
  {
   "cell_type": "markdown",
   "metadata": {},
   "source": [
    "- **Exercise 2**: Rewrite the novel in the previous exercise, by replacing the name of the principal character in the novel by your own name. (Use the `replace()` function for this.) Write the new version of novel to a file called `starring_me.txt`."
   ]
  },
  {
   "cell_type": "markdown",
   "metadata": {},
   "source": [
    "- **Exercise 3:** A *hapax legomenon* (often abbreviated to hapax) is a word which occurs only once in either the written record of a language, the works of an author, or in a single text. Define a function that given the file name of a text will return all its hapaxes. Make sure your program ignores capitalization as well as punctuation (hint: check out `string.punctuation` online!). Try out the function on your Gutenberg book."
   ]
  },
  {
   "cell_type": "markdown",
   "metadata": {},
   "source": [
    "- **Exercise 4:** Write a program that given a text file will create a new text file in which all the lines from the original file are numbered from 1 to n (where n is the number of lines in the file)."
   ]
  }
 ],
 "metadata": {
  "kernelspec": {
   "display_name": "Python 2",
   "language": "python",
   "name": "python2"
  },
  "language_info": {
   "codemirror_mode": {
    "name": "ipython",
    "version": 2
   },
   "file_extension": ".py",
   "mimetype": "text/x-python",
   "name": "python",
   "nbconvert_exporter": "python",
   "pygments_lexer": "ipython2",
   "version": "2.7.9"
  }
 },
 "nbformat": 4,
 "nbformat_minor": 0
}
