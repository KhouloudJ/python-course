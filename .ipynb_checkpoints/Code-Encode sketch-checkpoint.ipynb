{
 "cells": [
  {
   "cell_type": "code",
   "execution_count": 51,
   "metadata": {
    "collapsed": false
   },
   "outputs": [],
   "source": [
    "from string import letters"
   ]
  },
  {
   "cell_type": "markdown",
   "metadata": {},
   "source": [
    "In this excersize you will have to write a simple cipher machine, which is going to be simpler than the Enigma Machine, but will be cool none the less. Let's call this cipher machine: ASCII-to-Modulo Machine. The idea is that all letters in the English alphabet have an ASCII code - a single number - which you can access in Python with:\n",
    "\n",
    "    ord(letter)\n",
    "    \n",
    " "
   ]
  },
  {
   "cell_type": "code",
   "execution_count": 54,
   "metadata": {
    "collapsed": false
   },
   "outputs": [
    {
     "data": {
      "text/plain": [
       "97"
      ]
     },
     "execution_count": 54,
     "metadata": {},
     "output_type": "execute_result"
    }
   ],
   "source": [
    "ord(\"a\")"
   ]
  },
  {
   "cell_type": "markdown",
   "metadata": {},
   "source": [
    "First we will turn every character in the users message to these interegers and we will be left with something like: \"Abba\" --> 65 98 98 97. Let's call this the \"Dumn ASCII Machine\" (DAM). The problem with DAM is that its a pretty transparent cipher: you have as many characters in the code as in the original string, plus it uses one of the most well-known character encoding. What we are going to do is to use DAM to turn string into numbers and then add just one level of complexity on top: we are going to turn all these integers into bitstrings. The way we are going to do it is that we define a list of numbers lets say [2,3,4,5] and we will divide the numbers in the output of DAM by these numbers. DAM(\"a\") returns let's say 10, then: \n",
    "\n",
    "- 10/2\n",
    "- 10/3\n",
    "- 10/4\n",
    "- 10/5. \n",
    "\n",
    "And remember if the DAM output was divisable by the number or not: \n",
    "\n",
    "- 10/2 --> YES, \n",
    "- 10/3 --> NO, \n",
    "- 10/4 --> NO, \n",
    "- 10/5 --> YES. \n",
    "\n",
    "If the results was YES we put 1 and if it was NO we put 0: \n",
    "\n",
    "- 10/2 --> 1, \n",
    "- 10/3 --> 0, \n",
    "- 10/4 --> 0, \n",
    "- 10/5 --> 1. \n",
    "\n",
    "So we can now represent 10 by 1001. This is how we are going to turn a string into our own little enigma aka this is the ENCODING process. So here we divided by 4 numbers so a 3 letter string will be represented by 12 bits, 4 bits for each letter. The whole process is: __letters__ --> __ASCII__ --> __bits__\n",
    "\n",
    "Now we need to also provide a DECODER. Since we know how many bits represent number we need to first we need to chop up the bitstring. In our example we had 4 dividers so we need to remember every 4 bits:\n",
    "\n",
    "- 001001000001 --> 0010, 0100, 0001\n",
    "\n",
    "We are almost done! The only thing we need to do is to turn back the bitstrings to numbers. It is actually pretty easy to do so: \n",
    "\n",
    "+ 374 is divisible by: 1, 2, 11, 17, 22, 34, 187, 374\n",
    "+ Actually 374 is 2 times 187\n",
    "+ 207 is divisible by: 1, 3, 9, 23, 69, 207\n",
    "+ Actually 207 is 3 times 69\n",
    "\n",
    "Its just the lowest divisor times the highest divisor for every number and we are DONE!"
   ]
  },
  {
   "cell_type": "code",
   "execution_count": null,
   "metadata": {
    "collapsed": true
   },
   "outputs": [],
   "source": []
  },
  {
   "cell_type": "code",
   "execution_count": 40,
   "metadata": {
    "collapsed": false
   },
   "outputs": [
    {
     "name": "stdout",
     "output_type": "stream",
     "text": [
      "148\n"
     ]
    }
   ],
   "source": [
    "key = {} # keys for the decoding phase\n",
    "print len(mod_series)\n",
    "for number in map(ord, letters)+[ord(\" \")]:\n",
    "    code = tuple(binarize([number]))\n",
    "    key[code] = number"
   ]
  },
  {
   "cell_type": "code",
   "execution_count": 82,
   "metadata": {
    "collapsed": false
   },
   "outputs": [],
   "source": [
    "from random import shuffle\n",
    "\n",
    "class AmazingMachine():\n",
    "\n",
    "    def __init__(self):\n",
    "        self.mod_serie = range(2,150) # numbers that we are going to divide with\n",
    "        self.mod_key = {}\n",
    "        \n",
    "    def ordinize(self,message):\n",
    "        ordinized = []\n",
    "        for letter in message:\n",
    "            ordinized.append(ord(letter))\n",
    "        return ordinized\n",
    "\n",
    "    def modulo_serie(self,number):\n",
    "        signature = []\n",
    "        for i in mod_series:\n",
    "            if number%i == 0:\n",
    "                signature.append(1)\n",
    "            else:\n",
    "                signature.append(0)\n",
    "        return signature\n",
    "\n",
    "    def binarize(self,message):\n",
    "        code = []\n",
    "        for number in message:\n",
    "            code += modulo_serie(number)\n",
    "        return code\n",
    "\n",
    "    def encode(self,message):\n",
    "        shuffle(self.mod_serie)\n",
    "        counter = -1\n",
    "        for i in self.mod_serie:\n",
    "            counter += 1\n",
    "            self.mod_key[counter] = i\n",
    "        print self.mod_key\n",
    "        #return binarize(ordinize(message))\n",
    "\n",
    "    def decode(code):\n",
    "        word = []\n",
    "        decoded = []\n",
    "        count = 0\n",
    "        for bit in code:\n",
    "            count += 1\n",
    "            word.append(bit)\n",
    "            if count % 148 == 0:\n",
    "                decoded.append(key[tuple(word)])\n",
    "                word = []\n",
    "\n",
    "        for i in decoded:\n",
    "            print chr(i),\n",
    "        "
   ]
  },
  {
   "cell_type": "code",
   "execution_count": 83,
   "metadata": {
    "collapsed": true
   },
   "outputs": [],
   "source": [
    "a = AmazingMachine()"
   ]
  },
  {
   "cell_type": "code",
   "execution_count": 86,
   "metadata": {
    "collapsed": false
   },
   "outputs": [
    {
     "name": "stdout",
     "output_type": "stream",
     "text": [
      "{0: 104, 1: 111, 2: 32, 3: 105, 4: 121, 5: 149, 6: 6, 7: 65, 8: 11, 9: 86, 10: 100, 11: 22, 12: 51, 13: 18, 14: 112, 15: 14, 16: 49, 17: 12, 18: 48, 19: 35, 20: 76, 21: 15, 22: 26, 23: 38, 24: 4, 25: 127, 26: 77, 27: 60, 28: 2, 29: 148, 30: 101, 31: 108, 32: 87, 33: 36, 34: 31, 35: 41, 36: 136, 37: 13, 38: 117, 39: 130, 40: 122, 41: 138, 42: 140, 43: 131, 44: 113, 45: 81, 46: 56, 47: 28, 48: 78, 49: 99, 50: 133, 51: 55, 52: 144, 53: 69, 54: 90, 55: 84, 56: 37, 57: 94, 58: 141, 59: 96, 60: 124, 61: 62, 62: 139, 63: 93, 64: 71, 65: 116, 66: 29, 67: 67, 68: 137, 69: 17, 70: 80, 71: 8, 72: 118, 73: 27, 74: 53, 75: 95, 76: 145, 77: 126, 78: 142, 79: 147, 80: 128, 81: 106, 82: 50, 83: 120, 84: 75, 85: 110, 86: 134, 87: 45, 88: 92, 89: 54, 90: 30, 91: 89, 92: 74, 93: 46, 94: 43, 95: 115, 96: 72, 97: 146, 98: 114, 99: 24, 100: 103, 101: 44, 102: 73, 103: 143, 104: 40, 105: 82, 106: 20, 107: 33, 108: 57, 109: 85, 110: 79, 111: 63, 112: 19, 113: 39, 114: 109, 115: 68, 116: 97, 117: 21, 118: 52, 119: 129, 120: 83, 121: 123, 122: 66, 123: 98, 124: 119, 125: 58, 126: 132, 127: 102, 128: 70, 129: 125, 130: 34, 131: 64, 132: 9, 133: 107, 134: 59, 135: 135, 136: 91, 137: 10, 138: 7, 139: 25, 140: 3, 141: 61, 142: 88, 143: 47, 144: 23, 145: 5, 146: 16, 147: 42}\n"
     ]
    }
   ],
   "source": [
    "a.encode('a')"
   ]
  },
  {
   "cell_type": "code",
   "execution_count": 48,
   "metadata": {
    "collapsed": false
   },
   "outputs": [],
   "source": [
    "bitstring = encode(\"A velociraptor is pretty big\")"
   ]
  },
  {
   "cell_type": "code",
   "execution_count": 50,
   "metadata": {
    "collapsed": false
   },
   "outputs": [
    {
     "name": "stdout",
     "output_type": "stream",
     "text": [
      "A   v e l o c i r a p t o r   i s   p r e t t y   b i g\n"
     ]
    }
   ],
   "source": [
    "decode(bitstring)"
   ]
  },
  {
   "cell_type": "code",
   "execution_count": null,
   "metadata": {
    "collapsed": true
   },
   "outputs": [],
   "source": []
  }
 ],
 "metadata": {
  "kernelspec": {
   "display_name": "Python 2",
   "language": "python",
   "name": "python2"
  },
  "language_info": {
   "codemirror_mode": {
    "name": "ipython",
    "version": 2
   },
   "file_extension": ".py",
   "mimetype": "text/x-python",
   "name": "python",
   "nbconvert_exporter": "python",
   "pygments_lexer": "ipython2",
   "version": "2.7.9"
  }
 },
 "nbformat": 4,
 "nbformat_minor": 0
}
