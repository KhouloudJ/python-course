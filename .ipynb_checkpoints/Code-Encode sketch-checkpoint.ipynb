{
 "cells": [
  {
   "cell_type": "code",
   "execution_count": 51,
   "metadata": {
    "collapsed": false
   },
   "outputs": [],
   "source": [
    "from string import letters"
   ]
  },
  {
   "cell_type": "markdown",
   "metadata": {},
   "source": [
    "In this excersize you will have to write a simple cipher machine, which is going to be simpler than the Enigma Machine, but will be cool none the less. Let's call this cipher machine: ASCII-to-Modulo Machine. The idea is that all letters in the English alphabet have an ASCII code - a single number - which you can access in Python with:\n",
    "\n",
    "    ord(letter)\n",
    "    \n",
    " "
   ]
  },
  {
   "cell_type": "code",
   "execution_count": 54,
   "metadata": {
    "collapsed": false
   },
   "outputs": [
    {
     "data": {
      "text/plain": [
       "97"
      ]
     },
     "execution_count": 54,
     "metadata": {},
     "output_type": "execute_result"
    }
   ],
   "source": [
    "ord(\"a\")"
   ]
  },
  {
   "cell_type": "markdown",
   "metadata": {},
   "source": [
    "First we will turn every character in the users message to these interegers and we will be left with something like: \"Abba\" --> 65 98 98 97. Let's call this the \"Dumn ASCII Machine\" (DAM). The problem with DAM is that its a pretty transparent cipher: you have as many characters in the code as in the original string, plus it uses one of the most well-known character encoding. What we are going to do is to use DAM to turn string into numbers and then add just one level of complexity on top: we are going to turn all these integers into bitstrings. The way we are going to do it is that we define a list of numbers lets say [2,3,4,5] and we will divide the numbers in the output of DAM by these numbers. DAM(\"a\") returns let's say 10, then: \n",
    "\n",
    "- 10/2\n",
    "- 10/3\n",
    "- 10/4\n",
    "- 10/5. \n",
    "\n",
    "And remember if the DAM output was divisable by the number or not: \n",
    "\n",
    "- 10/2 --> YES, \n",
    "- 10/3 --> NO, \n",
    "- 10/4 --> NO, \n",
    "- 10/5 --> YES. \n",
    "\n",
    "If the results was YES we put 1 and if it was NO we put 0: \n",
    "\n",
    "- 10/2 --> 1, \n",
    "- 10/3 --> 0, \n",
    "- 10/4 --> 0, \n",
    "- 10/5 --> 1. \n",
    "\n",
    "So we can now represent 10 by 1001. This is how we are going to turn a string into our own little enigma aka this is the ENCODING process. So here we divided by 4 numbers so a 3 letter string will be represented by 12 bits, 4 bits for each letter. The whole process is: __letters__ --> __ASCII__ --> __bits__\n",
    "\n",
    "Now we need to also provide a DECODER. Since we know how many bits represent number we need to first we need to chop up the bitstring. In our example we had 4 dividers so we need to remember every 4 bits:\n",
    "\n",
    "- 001001000001 --> 0010, 0100, 0001\n",
    "\n",
    "We are almost done! The only thing we need to do is to turn back the bitstrings to numbers. It is actually pretty easy to do so: \n",
    "\n",
    "+ 374 is divisible by: 1, 2, 11, 17, 22, 34, 187, 374\n",
    "+ Actually 374 is 2 times 187\n",
    "+ 207 is divisible by: 1, 3, 9, 23, 69, 207\n",
    "+ Actually 207 is 3 times 69\n",
    "\n",
    "Its just the lowest divisor times the highest divisor for every number and we are DONE!"
   ]
  },
  {
   "cell_type": "code",
   "execution_count": null,
   "metadata": {
    "collapsed": true
   },
   "outputs": [],
   "source": []
  },
  {
   "cell_type": "code",
   "execution_count": 40,
   "metadata": {
    "collapsed": false
   },
   "outputs": [
    {
     "name": "stdout",
     "output_type": "stream",
     "text": [
      "148\n"
     ]
    }
   ],
   "source": [
    "key = {} # keys for the decoding phase\n",
    "print len(mod_series)\n",
    "for number in map(ord, letters)+[ord(\" \")]:\n",
    "    code = tuple(binarize([number]))\n",
    "    key[code] = number"
   ]
  },
  {
   "cell_type": "code",
   "execution_count": 166,
   "metadata": {
    "collapsed": false
   },
   "outputs": [],
   "source": [
    "from random import shuffle\n",
    "\n",
    "class AmazingMachine():\n",
    "\n",
    "    def __init__(self):\n",
    "        self.mod_serie = range(2,150) # numbers that we are going to divide with\n",
    "        self.mod_key = {}\n",
    "        \n",
    "    def ordinize(self,message):\n",
    "        ordinized = []\n",
    "        for letter in message:\n",
    "            ordinized.append(ord(letter))\n",
    "        return ordinized\n",
    "\n",
    "    def modulo_serie(self,number):\n",
    "        signature = []\n",
    "        for i in self.mod_serie:\n",
    "            if number%i == 0:\n",
    "                signature.append(1)\n",
    "            else:\n",
    "                signature.append(0)\n",
    "        return signature\n",
    "\n",
    "    def binarize(self,message):\n",
    "        code = []\n",
    "        for number in message:\n",
    "            code += self.modulo_serie(number)\n",
    "        return code\n",
    "\n",
    "    def encode(self,message):\n",
    "        shuffle(self.mod_serie)\n",
    "        counter = -1\n",
    "        for i in self.mod_serie:\n",
    "            counter += 1\n",
    "            self.mod_key[counter] = i\n",
    "        #print self.mod_key\n",
    "        return self.binarize(self.ordinize(message))\n",
    "\n",
    "    def decode(self,code):\n",
    "        word = []\n",
    "        decoded = []\n",
    "        count = 0\n",
    "        for bit in code:\n",
    "            count += 1\n",
    "            word.append(bit)\n",
    "            if count % 148 == 0:\n",
    "                decoded.append(self.mod_key[tuple(word)])\n",
    "                word = []\n",
    "\n",
    "        for i in decoded:\n",
    "            print chr(i),\n",
    "        "
   ]
  },
  {
   "cell_type": "code",
   "execution_count": 167,
   "metadata": {
    "collapsed": true
   },
   "outputs": [],
   "source": [
    "a = AmazingMachine()\n",
    "bitstring = a.encode('a')"
   ]
  },
  {
   "cell_type": "code",
   "execution_count": null,
   "metadata": {
    "collapsed": false
   },
   "outputs": [],
   "source": []
  },
  {
   "cell_type": "code",
   "execution_count": 168,
   "metadata": {
    "collapsed": false
   },
   "outputs": [],
   "source": [
    "bitstring = a.encode(\"A velociraptor is pretty big\")"
   ]
  },
  {
   "cell_type": "code",
   "execution_count": 169,
   "metadata": {
    "collapsed": false
   },
   "outputs": [
    {
     "ename": "AttributeError",
     "evalue": "AmazingMachine instance has no attribute 'key'",
     "output_type": "error",
     "traceback": [
      "\u001b[1;31m---------------------------------------------------------------------------\u001b[0m",
      "\u001b[1;31mAttributeError\u001b[0m                            Traceback (most recent call last)",
      "\u001b[1;32m<ipython-input-169-f4f5825c70f8>\u001b[0m in \u001b[0;36m<module>\u001b[1;34m()\u001b[0m\n\u001b[1;32m----> 1\u001b[1;33m \u001b[0ma\u001b[0m\u001b[1;33m.\u001b[0m\u001b[0mdecode\u001b[0m\u001b[1;33m(\u001b[0m\u001b[0mbitstring\u001b[0m\u001b[1;33m)\u001b[0m\u001b[1;33m\u001b[0m\u001b[0m\n\u001b[0m",
      "\u001b[1;32m<ipython-input-166-bb8002381991>\u001b[0m in \u001b[0;36mdecode\u001b[1;34m(self, code)\u001b[0m\n\u001b[0;32m     45\u001b[0m             \u001b[0mword\u001b[0m\u001b[1;33m.\u001b[0m\u001b[0mappend\u001b[0m\u001b[1;33m(\u001b[0m\u001b[0mbit\u001b[0m\u001b[1;33m)\u001b[0m\u001b[1;33m\u001b[0m\u001b[0m\n\u001b[0;32m     46\u001b[0m             \u001b[1;32mif\u001b[0m \u001b[0mcount\u001b[0m \u001b[1;33m%\u001b[0m \u001b[1;36m148\u001b[0m \u001b[1;33m==\u001b[0m \u001b[1;36m0\u001b[0m\u001b[1;33m:\u001b[0m\u001b[1;33m\u001b[0m\u001b[0m\n\u001b[1;32m---> 47\u001b[1;33m                 \u001b[0mdecoded\u001b[0m\u001b[1;33m.\u001b[0m\u001b[0mappend\u001b[0m\u001b[1;33m(\u001b[0m\u001b[0mself\u001b[0m\u001b[1;33m.\u001b[0m\u001b[0mkey\u001b[0m\u001b[1;33m[\u001b[0m\u001b[0mtuple\u001b[0m\u001b[1;33m(\u001b[0m\u001b[0mword\u001b[0m\u001b[1;33m)\u001b[0m\u001b[1;33m]\u001b[0m\u001b[1;33m)\u001b[0m\u001b[1;33m\u001b[0m\u001b[0m\n\u001b[0m\u001b[0;32m     48\u001b[0m                 \u001b[0mword\u001b[0m \u001b[1;33m=\u001b[0m \u001b[1;33m[\u001b[0m\u001b[1;33m]\u001b[0m\u001b[1;33m\u001b[0m\u001b[0m\n\u001b[0;32m     49\u001b[0m \u001b[1;33m\u001b[0m\u001b[0m\n",
      "\u001b[1;31mAttributeError\u001b[0m: AmazingMachine instance has no attribute 'key'"
     ]
    }
   ],
   "source": [
    "a.decode(bitstring)"
   ]
  },
  {
   "cell_type": "code",
   "execution_count": 99,
   "metadata": {
    "collapsed": false
   },
   "outputs": [
    {
     "name": "stdout",
     "output_type": "stream",
     "text": [
      "Populating the interactive namespace from numpy and matplotlib\n"
     ]
    },
    {
     "name": "stderr",
     "output_type": "stream",
     "text": [
      "WARNING: pylab import has clobbered these variables: ['shuffle', 'number', 'floor']\n",
      "`%matplotlib` prevents importing * from pylab and numpy\n"
     ]
    }
   ],
   "source": [
    "from math import floor\n",
    "%pylab inline"
   ]
  },
  {
   "cell_type": "code",
   "execution_count": 104,
   "metadata": {
    "collapsed": true
   },
   "outputs": [],
   "source": [
    "sizes = range(8, 101)\n",
    "outnodes = lambda size: floor(((size-3)/3)+1)"
   ]
  },
  {
   "cell_type": "code",
   "execution_count": 105,
   "metadata": {
    "collapsed": false
   },
   "outputs": [
    {
     "data": {
      "text/plain": [
       "[<matplotlib.lines.Line2D at 0x7fbb2841e110>]"
      ]
     },
     "execution_count": 105,
     "metadata": {},
     "output_type": "execute_result"
    },
    {
     "data": {
      "image/png": "[encoded data removed]",
      "text/plain": [
       "<matplotlib.figure.Figure at 0x7fbb2850d410>"
      ]
     },
     "metadata": {},
     "output_type": "display_data"
    }
   ],
   "source": [
    "plot(sizes, map(outnodes, sizes))"
   ]
  },
  {
   "cell_type": "code",
   "execution_count": 126,
   "metadata": {
    "collapsed": false
   },
   "outputs": [
    {
     "name": "stdout",
     "output_type": "stream",
     "text": [
      "CPU times: user 24 ms, sys: 20 ms, total: 44 ms\n",
      "Wall time: 29.6 ms\n"
     ]
    }
   ],
   "source": [
    "%%time\n",
    "for i in range(1000):\n",
    "    a = \"pytnhon\"\n",
    "    b = list(\"typhonn\")\n",
    "    count = 0\n",
    "    for a_letter in a:\n",
    "        pos = -1\n",
    "        for b_letter in b:\n",
    "            pos +=1\n",
    "            if a_letter == b_letter:\n",
    "                count+=1\n",
    "                b[pos] = '-'\n",
    "    count == len(a),"
   ]
  },
  {
   "cell_type": "code",
   "execution_count": 127,
   "metadata": {
    "collapsed": false
   },
   "outputs": [
    {
     "name": "stdout",
     "output_type": "stream",
     "text": [
      "CPU times: user 28 ms, sys: 0 ns, total: 28 ms\n",
      "Wall time: 18.1 ms\n"
     ]
    }
   ],
   "source": [
    "%%time\n",
    "for i in range(1000):    \n",
    "    a = \"pytnhon\"\n",
    "    b = list(\"typhonn\")\n",
    "    first = {}\n",
    "    second = {}\n",
    "    for ind in range(len(a)):\n",
    "        for dic in [first, second]:\n",
    "            if a[ind] in dic:\n",
    "                dic[a[ind]] += 1\n",
    "            else:\n",
    "                dic[a[ind]] = 1\n",
    "    first == second,"
   ]
  },
  {
   "cell_type": "code",
   "execution_count": null,
   "metadata": {
    "collapsed": true
   },
   "outputs": [],
   "source": []
  }
 ],
 "metadata": {
  "kernelspec": {
   "display_name": "Python 2",
   "language": "python",
   "name": "python2"
  },
  "language_info": {
   "codemirror_mode": {
    "name": "ipython",
    "version": 2
   },
   "file_extension": ".py",
   "mimetype": "text/x-python",
   "name": "python",
   "nbconvert_exporter": "python",
   "pygments_lexer": "ipython2",
   "version": "2.7.9"
  }
 },
 "nbformat": 4,
 "nbformat_minor": 0
}
