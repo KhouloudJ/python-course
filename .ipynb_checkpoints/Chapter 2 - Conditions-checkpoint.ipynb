{
 "cells": [
  {
   "cell_type": "markdown",
   "metadata": {},
   "source": [
    "# Chapter 2: Conditions"
   ]
  },
  {
   "cell_type": "markdown",
   "metadata": {},
   "source": [
    "*Data Processing with Python, a course for Communication and Information Sciences*\n",
    "\n",
    "<a href=mailto:s.wubben@tilburguniversity.edu>s.wubben@tilburguniversity.edu</a>"
   ]
  },
  {
   "cell_type": "markdown",
   "metadata": {},
   "source": [
    "-------------------------------"
   ]
  },
  {
   "cell_type": "markdown",
   "metadata": {},
   "source": [
    "### Simple conditions"
   ]
  },
  {
   "cell_type": "markdown",
   "metadata": {},
   "source": [
    "So far, we have learned how to use Python as a basic calculator, how to store information in variables and how to ask the user for information. We have also learned how we can print information to the screen. Now we will set the first steps to an actual useful program.\n",
    "\n",
    "A lot of programming has to do with executing code *if* a particular condition holds. This enables a program to act upon its inputs. For example: an app on your phone might give a warning if the battery level is lower than 5 %. This means that the program needs to check if the variable __battery_level__ is lower than the value of 5. \n",
    "\n",
    "We can do these checks using so called *Boolean expressions*:\n",
    "\n",
    "\n",
    "\n"
   ]
  },
  {
   "cell_type": "markdown",
   "metadata": {},
   "source": [
    "Python|meaning\n",
    "---|---\n",
    "<| less than\n",
    "<=| less than or equal\n",
    "==| equal to\n",
    ">=|equal or greater than\n",
    "> |greater than\n",
    "!=| not equal"
   ]
  },
  {
   "cell_type": "markdown",
   "metadata": {},
   "source": [
    "Remember that the single `=` is reserved for assignment! Boolean expressions look at variables but never change them."
   ]
  },
  {
   "cell_type": "code",
   "execution_count": null,
   "metadata": {
    "collapsed": false
   },
   "outputs": [],
   "source": [
    "print(2 < 5)\n",
    "print(2 <= 5)\n",
    "print(3 > 7)\n",
    "print(3 >= 7)\n",
    "print(3 == 3)\n",
    "print(\"school\" == \"school\")\n",
    "print(\"Python\" != \"SPSS\")"
   ]
  },
  {
   "cell_type": "markdown",
   "metadata": {},
   "source": [
    "The relevant 'logical operators' that we used here are: `<`, `<=`, `>`,`>=`,`==`,`!=`. In Python-speak, we say that such a logical expression gets 'evaluated' when you run the code. The outcome of such an evaluation is a 'binary value' or a so-called 'boolean' that can take only two possible values: `True` or `False`. You can assign such a boolean to a variable:"
   ]
  },
  {
   "cell_type": "code",
   "execution_count": null,
   "metadata": {
    "collapsed": false
   },
   "outputs": [],
   "source": [
    "greater = 5 > 2\n",
    "print(greater)\n",
    "greater = 5 < 2\n",
    "print(greater)\n",
    "print(type(greater))"
   ]
  },
  {
   "cell_type": "markdown",
   "metadata": {},
   "source": [
    "### if, elif and else"
   ]
  },
  {
   "cell_type": "markdown",
   "metadata": {},
   "source": [
    "To let Python check if a specific condition holds, we use the `if` statement. This statement simply checks if a condition evaluates to `True` or `False`:\n"
   ]
  },
  {
   "cell_type": "code",
   "execution_count": null,
   "metadata": {
    "collapsed": false
   },
   "outputs": [],
   "source": [
    "x = 5\n",
    "if x == 5:\n",
    "    print(\"x equals 5\")"
   ]
  },
  {
   "cell_type": "markdown",
   "metadata": {},
   "source": [
    "You can use as many `if` statements as you like:"
   ]
  },
  {
   "cell_type": "code",
   "execution_count": null,
   "metadata": {
    "collapsed": false
   },
   "outputs": [],
   "source": [
    "x = 5\n",
    "if x == 5: \n",
    "    print(\"x equals 5\")\n",
    "if x > 4: \n",
    "    print(\"x is greater than 4\")\n",
    "if  x >= 5:\n",
    "    print(\"x is greater than or equals 5\")\n",
    "if x < 6: \n",
    "    print(\"x is less than 6\") \n",
    "if x <= 5:\n",
    "    print(\"x is less than or equals 5\")\n",
    "if x != 6 :\n",
    "    print(\"x does not equal 6\")\n"
   ]
  },
  {
   "cell_type": "markdown",
   "metadata": {},
   "source": [
    "**Exercise**: Try changing the value of x and see how the output changes!"
   ]
  },
  {
   "cell_type": "markdown",
   "metadata": {},
   "source": [
    "#### Indentation"
   ]
  },
  {
   "cell_type": "markdown",
   "metadata": {},
   "source": [
    "Unlike other languages, Python does not make use of curly braces to mark the start and end of pieces of code, like `if`-statements. The only delimiter is a colon (`:`) and the indentation of the code (i.e. the use of TABS). This indentation must be used consistently throughout your code. The indentation lets Python know when it needs to execute the piece of code:"
   ]
  },
  {
   "cell_type": "code",
   "execution_count": null,
   "metadata": {
    "collapsed": false
   },
   "outputs": [],
   "source": [
    "person = \"John\"\n",
    "print(\"hello!\")\n",
    "if person == \"Alice\":\n",
    "    #this is indented\n",
    "    print(\"how are you today?\")\n",
    "    print(\"do you want to join me for lunch?\")\n",
    "print(\"goodbye!\")"
   ]
  },
  {
   "cell_type": "markdown",
   "metadata": {},
   "source": [
    "Take a look at the code above. We see that the indented block is not executed, but the unindented lines of code are. Now go ahead and change the value of the `person` variable to 'Alice'. The conversation should be a bit longer now! Indentation makes the code clean and readable.\n",
    "\n"
   ]
  },
  {
   "cell_type": "markdown",
   "metadata": {},
   "source": [
    "####Two-way decisions \n",
    "But what if we want to have options for two different scenarios? We could just use a bunch of `if` statements. However, Python has a more efficient way. Apart from `if` we also have `else` for two-way decisions:"
   ]
  },
  {
   "cell_type": "code",
   "execution_count": null,
   "metadata": {
    "collapsed": false
   },
   "outputs": [],
   "source": [
    "x = 4\n",
    "if x > 2:\n",
    "    #piece 1\n",
    "    print(\"Bigger!\")\n",
    "else:\n",
    "    #piece 2\n",
    "    print(\"Smaller!\")"
   ]
  },
  {
   "cell_type": "markdown",
   "metadata": {},
   "source": [
    "Now Python always runs one of the two pieces of code. It's like arriving at a fork in the road and choosing one path to follow. Note that after the ':' you always start on a new line and use indentation (TAB)."
   ]
  },
  {
   "cell_type": "markdown",
   "metadata": {},
   "source": [
    "####Multi-way decisions\n",
    "But of course we don't have to stop there. If you have multiple options, you can use the `elif` statement. For every `if` block, you can have one `if` statement, multiple `elif` statements and one `else` statement. So now we know the entire `if-elif-else` construct:"
   ]
  },
  {
   "cell_type": "code",
   "execution_count": null,
   "metadata": {
    "collapsed": false
   },
   "outputs": [],
   "source": [
    "age = 21\n",
    "if age < 12:\n",
    "    print(\"You're still a child!\")\n",
    "elif age < 18:\n",
    "    print(\"You are a teenager!\")\n",
    "elif age < 30:\n",
    "    print(\"You're pretty young!\")\n",
    "else:\n",
    "    print(\"Wow, you're old!\")"
   ]
  },
  {
   "cell_type": "markdown",
   "metadata": {},
   "source": [
    "First the `if` statement will be evaluated. Only *if* that statement turns out to be `False` the computer will proceed to evaluate the `elif` statement. If the elif statements in turn would prove to be `False`, the machine will proceed and execute the lines of code associated with the `else` statement. You can think of this coding structure as a decision tree! Remember: if somewhere along the tree, your machine comes across a logical expression which is `True`, it won't bother anymore to evaluate the remaining options! Note that the statements are evaluated in order of occurence. "
   ]
  },
  {
   "cell_type": "markdown",
   "metadata": {},
   "source": [
    "--------"
   ]
  },
  {
   "cell_type": "markdown",
   "metadata": {},
   "source": [
    "**exercise:** Let's practice our new condition skills a little. Write a small program that defines a variable `weight`. If the weight is > 50 pounds, print \"There is a $25 charge for luggage that heavy.\" If it is not, print: \"Thank you for your business.\" If the weight is exactly 50, print: \"Pfiew! The weight is just right!\". Change the value of weight a couple of times to check whether your code works. (Tip: make use of the logical operators and `if-elif-else` tree! Make sure you use the correct indentation.)"
   ]
  },
  {
   "cell_type": "code",
   "execution_count": null,
   "metadata": {
    "collapsed": false
   },
   "outputs": [],
   "source": [
    "# insert your code here\n"
   ]
  },
  {
   "cell_type": "markdown",
   "metadata": {},
   "source": [
    "###Nested `if` statements\n",
    "\n",
    "Python gives us the building blocks and with these blocks we can build anything we like. Given the rules of the `if-elif-else` statement and identation, it is perfectly possible to use an `if` statement within another `if` statement. This second `if` statement is only executed if the first `if` statement returns `True`. We call this nesting. Try changing the value of x below t osee what the code does."
   ]
  },
  {
   "cell_type": "code",
   "execution_count": null,
   "metadata": {
    "collapsed": false
   },
   "outputs": [],
   "source": [
    "x=41\n",
    "\n",
    "if x >= 0:\n",
    "    if x%2 == 0:\n",
    "        print(\"Even number\")\n",
    "    else:\n",
    "        print(\"Odd number\")\n",
    "else:\n",
    "    print(\"Negative number\")"
   ]
  },
  {
   "cell_type": "markdown",
   "metadata": {},
   "source": [
    "###in\n",
    "Later in this course you will learn about collections. For now, it is sufficient to know that a string can be seen as a collection of characters. We can use an `if` statement to check if an item is a part of a collection. In this case, we check if a character occurs in a string:"
   ]
  },
  {
   "cell_type": "code",
   "execution_count": null,
   "metadata": {
    "collapsed": false
   },
   "outputs": [],
   "source": [
    "word = \"banana\"\n",
    "\n",
    "if \"z\" in word:\n",
    "    print (word + \" contains a z\")\n",
    "else:\n",
    "    print (word + \" does not contain a z\")"
   ]
  },
  {
   "cell_type": "markdown",
   "metadata": {},
   "source": [
    "-------"
   ]
  },
  {
   "cell_type": "markdown",
   "metadata": {},
   "source": [
    "### and, or, not"
   ]
  },
  {
   "cell_type": "markdown",
   "metadata": {},
   "source": [
    "Until now, our conditions consisted of *single* logical expresssions. However, quite often we would like to test for multiple conditions: for instance, you would like to tell your computer to do something if this and this were but this and that were not true. Python provides a number of ways to do that. The first is with the `and` statement which allows us to combine two expressions that need both to be true in order for the combination to be true. Let's see how that works:"
   ]
  },
  {
   "cell_type": "code",
   "execution_count": null,
   "metadata": {
    "collapsed": false
   },
   "outputs": [],
   "source": [
    "word = \"banana\"\n",
    "if \"a\" in word and \"b\" in word:\n",
    "    print(\"Both a and b are in \" + word)"
   ]
  },
  {
   "cell_type": "markdown",
   "metadata": {},
   "source": [
    "Note how we can use round brackets to make the code more readable (but you can just as easily leave them out):"
   ]
  },
  {
   "cell_type": "code",
   "execution_count": null,
   "metadata": {
    "collapsed": false
   },
   "outputs": [],
   "source": [
    "word = \"banana\"\n",
    "if (\"a\" in word) and (\"b\" in word):\n",
    "    print(\"Both a and b are in \" + word)"
   ]
  },
  {
   "cell_type": "markdown",
   "metadata": {},
   "source": [
    "If one of the expressions evaluates to False, nothing will be printed:"
   ]
  },
  {
   "cell_type": "code",
   "execution_count": null,
   "metadata": {
    "collapsed": false
   },
   "outputs": [],
   "source": [
    "if (\"a\" in word) and (\"z\" in word):\n",
    "    print(\"Both a and z are in \" + word)"
   ]
  },
  {
   "cell_type": "markdown",
   "metadata": {},
   "source": [
    "Now you know that the `and` operator exists in Python, you won't be too surprised to learn that there is also an `or` operator in Python that you can use. \n",
    "\n",
    "**exercise:** Modify the code block below so that it correctly uses the `or` statement. Can you deduce what happens? "
   ]
  },
  {
   "cell_type": "code",
   "execution_count": null,
   "metadata": {
    "collapsed": false
   },
   "outputs": [],
   "source": [
    "#modify this code\n",
    "word = \"banana\"\n",
    "if (\"a\" in word) and (\"b\" in word):\n",
    "    print(\"Both a and b are in \" + word)"
   ]
  },
  {
   "cell_type": "markdown",
   "metadata": {},
   "source": [
    "**exercise:** In the code block below, can you add an `elif` statement that checks if the word contains an a, e or an i?"
   ]
  },
  {
   "cell_type": "code",
   "execution_count": null,
   "metadata": {
    "collapsed": false
   },
   "outputs": [],
   "source": [
    "if (\"a\" in word) and (\"z\" in word):\n",
    "    print(\"a and z are in \" + word)\n",
    "# insert your code here\n",
    "\n",
    "else:\n",
    "    print(\"None of these were found...\")"
   ]
  },
  {
   "cell_type": "markdown",
   "metadata": {},
   "source": [
    "Finally we can use `not` to test for conditions that are not true. "
   ]
  },
  {
   "cell_type": "code",
   "execution_count": null,
   "metadata": {
    "collapsed": false
   },
   "outputs": [],
   "source": [
    "if (\"z\" not in word):\n",
    "    print(\"z is not in \" + word)"
   ]
  },
  {
   "cell_type": "markdown",
   "metadata": {},
   "source": [
    "-----------"
   ]
  },
  {
   "cell_type": "markdown",
   "metadata": {},
   "source": [
    "##### What we have learnt"
   ]
  },
  {
   "cell_type": "markdown",
   "metadata": {},
   "source": [
    "To finish this section, here is an overview of the new functions, statements and concepts we have learnt. Go through them and make sure you understand what their purpose is and how they are used.\n",
    "\n",
    "-  conditions\n",
    "-  indentation\n",
    "-  `if`\n",
    "-  `elif`\n",
    "-  `else`\n",
    "-  `True`\n",
    "-  `False`\n",
    "-  `not`\n",
    "-  `in`\n",
    "-  `and`\n",
    "-  `or`\n",
    "-  multiple conditions\n",
    "-  `==`\n",
    "-  `<`\n",
    "-  `>`\n",
    "-  `!=`\n"
   ]
  },
  {
   "cell_type": "markdown",
   "metadata": {},
   "source": [
    "---------"
   ]
  },
  {
   "cell_type": "markdown",
   "metadata": {},
   "source": [
    "##Final Exercises Chapter 3"
   ]
  },
  {
   "cell_type": "markdown",
   "metadata": {},
   "source": [
    "- **Exercise 1:** Can you implement the following grading scheme in Python?\n",
    "<img src=\"https://raw.githubusercontent.com/mikekestemont/python-course/master/images/grade.png\">"
   ]
  },
  {
   "cell_type": "code",
   "execution_count": null,
   "metadata": {
    "collapsed": false
   },
   "outputs": [],
   "source": [
    "# grading system"
   ]
  },
  {
   "cell_type": "markdown",
   "metadata": {},
   "source": [
    "-  **Exercise 2:** Can you spot the reasoning error in the following code?"
   ]
  },
  {
   "cell_type": "code",
   "execution_count": null,
   "metadata": {
    "collapsed": false
   },
   "outputs": [],
   "source": [
    "score = 98.0\n",
    "if score >= 60.0:\n",
    "    grade = 'D'\n",
    "elif score >= 70.0:\n",
    "    grade = 'C'\n",
    "elif score >= 80.0:\n",
    "    grade = 'B'\n",
    "elif score >= 90.0:\n",
    "    grade = 'A'\n",
    "else:\n",
    "    grade = 'F'\n",
    "print(grade)"
   ]
  },
  {
   "cell_type": "markdown",
   "metadata": {},
   "source": [
    "- **Exercise 3:** Write Python code that defines two numbers and prints the largest one of them. Use an if-then-else tree."
   ]
  },
  {
   "cell_type": "code",
   "execution_count": null,
   "metadata": {
    "collapsed": false
   },
   "outputs": [],
   "source": [
    "# code"
   ]
  },
  {
   "cell_type": "markdown",
   "metadata": {},
   "source": [
    "---"
   ]
  },
  {
   "cell_type": "markdown",
   "metadata": {},
   "source": [
    "Congrats: you've reached the end of Chapter 3! Ignore the code block below; it's only here to make the page prettier."
   ]
  },
  {
   "cell_type": "code",
   "execution_count": null,
   "metadata": {
    "collapsed": false
   },
   "outputs": [],
   "source": [
    "from IPython.core.display import HTML\n",
    "def css_styling():\n",
    "    styles = open(\"styles/custom.css\", \"r\").read()\n",
    "    return HTML(styles)\n",
    "css_styling()"
   ]
  },
  {
   "cell_type": "code",
   "execution_count": null,
   "metadata": {
    "collapsed": true
   },
   "outputs": [],
   "source": []
  }
 ],
 "metadata": {
  "kernelspec": {
   "display_name": "Python 3",
   "language": "python",
   "name": "python3"
  },
  "language_info": {
   "codemirror_mode": {
    "name": "ipython",
    "version": 3
   },
   "file_extension": ".py",
   "mimetype": "text/x-python",
   "name": "python",
   "nbconvert_exporter": "python",
   "pygments_lexer": "ipython3",
   "version": "3.4.1"
  }
 },
 "nbformat": 4,
 "nbformat_minor": 0
}
