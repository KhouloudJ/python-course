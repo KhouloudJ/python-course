{
 "cells": [
  {
   "cell_type": "markdown",
   "metadata": {},
   "source": [
    "# Chapter 5:  Files I/O"
   ]
  },
  {
   "cell_type": "markdown",
   "metadata": {},
   "source": [
    "In this chapter you will learn how to read data from and write data to files. This is quite and essential part of programming, as it is the first step for your program to communicate with the outside world. In most cases you will write programs that take data from some source, manipulates it in someway and writes it out somewhere. For example if you would write a survey, you could take input from participants and save their answers in some files. When the survey is over you would read these files in and do some analysis on the data you have collected and save your results. In this chapter we will read in texts, analyze them a bit, and save out our analysis to files. "
   ]
  },
  {
   "cell_type": "markdown",
   "metadata": {},
   "source": [
    "## File Input"
   ]
  },
  {
   "cell_type": "markdown",
   "metadata": {},
   "source": [
    "Input for your programs often comes from files on your disk, such as texts or some data in csv format. Likewise, you often want output to be written back to files on your disk as well e.g.: you collect tweets about a certain topic and you write it to a file for later analysis. Thus, reading and writing files is often an essential part of programming and, lucky, for us, this is really simple in Python. The following example reads a file from disk:"
   ]
  },
  {
   "cell_type": "code",
   "execution_count": 17,
   "metadata": {
    "collapsed": false
   },
   "outputs": [
    {
     "name": "stdout",
     "output_type": "stream",
     "text": [
      "Emma by Jane Austen 1816\n",
      "\n",
      "VOLUME I\n",
      "\n",
      "CHAPTER I\n",
      "\n",
      "\n",
      "Emma Woodhouse, handsome, clever, and rich, with a comfortable home\n",
      "and happy disposition, seemed to unite some of the best blessings\n",
      "of existence; and had lived nearly twenty-one years in the world\n",
      "with very little to distress or vex her.\n",
      "\n",
      "She was the youngest of the two daughters of a most affectionate,\n",
      "indulgent father; and had, in consequence of her sister's marriage,\n",
      "been mistress of his house from a very early period.  Her mother\n",
      "had died too long ago for her to have more than an indistinct\n",
      "remembrance of her caresses; and her place had been supplied\n",
      "by an excellent woman as governess, who had fallen little short\n",
      "of a mother in affection.\n"
     ]
    }
   ],
   "source": [
    "f = open('data/austen-emma-excerpt.txt', 'rt') # open the file \n",
    "text = f.read() # read in its content as a string\n",
    "f.close() # close the file\n",
    "print(text) # print the string"
   ]
  },
  {
   "cell_type": "markdown",
   "metadata": {},
   "source": [
    "The `open()` function does not return the actual text that is saved in the text file. It only returns a 'file object' from which we can read the content using the `.read()` function. We passed three arguments to the `open()` function:\n",
    "\n",
    " * the name of the file that you wish to open\n",
    " * the mode, a combination of characters, 'r' represents read-mode, and 't' represent plain text-mode. This indicates we are reading a plain text file.\n",
    " * the last argument, a named argument (encoding), specifies the encoding of the text file.\n",
    " \n",
    "The most important mode arguments the open() function can take are:\n",
    "\n",
    "* r: Opens a file for reading only. The file pointer is placed at the beginning of the file.\n",
    "* w: Opens a file for writing only. Overwrites the file if the file exists. If the file does not exist, creates a new file for writing.\n",
    "* a: Opens a file for appending. The file pointer is at the end of the file if the file exists. If the file does not exist, it creates a new file for writing. Use it if you would like to add something to the end of a file\n",
    "\n"
   ]
  },
  {
   "cell_type": "markdown",
   "metadata": {},
   "source": [
    ">UTF-8\n",
    "\n",
    ">You may wonder what an encoding is and what *utf-8* is. For anyone working with texts and computers this is vital to know. Internally, a computer knows no characters whatsoever: every piece of information is represented as numbers (which in turn are represented in a binary format, as zeroes and ones). An encoding specifies which numbers represent which characters. A famous and long-standing encoding scheme is ASCII, in which for example the letter 'A' is encoded using the number 65. ASCII however only has a very limited alphabet and can not encode a lot of writing systems. A modern-day encoding supporting countless writing systems is *unicode* and *utf-8* is a kind of unicode. This the type of encoding that you will want to use for your data whenever possible. Whenever you have a choice, you should use unicode!"
   ]
  },
  {
   "cell_type": "markdown",
   "metadata": {},
   "source": [
    "Reading an entire file in one string is not always desirable, especially not with huge files. The following example reads up until a newline everytime, and returns one line at a time. \n"
   ]
  },
  {
   "cell_type": "code",
   "execution_count": 2,
   "metadata": {
    "collapsed": false
   },
   "outputs": [
    {
     "name": "stdout",
     "output_type": "stream",
     "text": [
      "Emma by Jane Austen 1816\n",
      "\n",
      "n\n",
      "\n",
      "\n",
      "n\n",
      "VOLUME I\n",
      "\n",
      "n\n",
      "\n",
      "\n",
      "n\n",
      "CHAPTER I\n",
      "\n",
      "n\n",
      "\n",
      "\n",
      "n\n",
      "\n",
      "\n",
      "n\n",
      "Emma Woodhouse, handsome, clever, and rich, with a comfortable home\n",
      "\n",
      "n\n",
      "and happy disposition, seemed to unite some of the best blessings\n",
      "\n",
      "n\n",
      "of existence; and had lived nearly twenty-one years in the world\n",
      "\n",
      "n\n",
      "with very little to distress or vex her.\n",
      "\n",
      "n\n",
      "\n",
      "\n",
      "n\n",
      "She was the youngest of the two daughters of a most affectionate,\n",
      "\n",
      "n\n",
      "indulgent father; and had, in consequence of her sister's marriage,\n",
      "\n",
      "n\n",
      "been mistress of his house from a very early period.  Her mother\n",
      "\n",
      "n\n",
      "had died too long ago for her to have more than an indistinct\n",
      "\n",
      "n\n",
      "remembrance of her caresses; and her place had been supplied\n",
      "\n",
      "n\n",
      "by an excellent woman as governess, who had fallen little short\n",
      "\n",
      "n\n",
      "of a mother in affection.\n",
      "n\n"
     ]
    }
   ],
   "source": [
    "f = open('data/austen-emma-excerpt.txt','rt', encoding='utf-8') # open the file\n",
    "for line in f: # iterate over the file object\n",
    "    print(line)   # the file object yields one line at a time\n",
    "    print(\"n\")    # after every line print \"n\"\n",
    "f.close() # close the file"
   ]
  },
  {
   "cell_type": "markdown",
   "metadata": {},
   "source": [
    "The 'newline' character is probably something new to you. If you are dealing with plain text files (typically files whose name ends in the '.txt' extension), your machine uses a special character internally to signal that a new line should begin. Internally, such newlines are represented as `\"\\n\"`. Normally, this character is visualized on your screen as if the enter key were pressed. See what happens below: "
   ]
  },
  {
   "cell_type": "code",
   "execution_count": 9,
   "metadata": {
    "collapsed": false
   },
   "outputs": [
    {
     "name": "stdout",
     "output_type": "stream",
     "text": [
      "Emma by Jane Austen 1816\n",
      "\n",
      "\n",
      "\n",
      "VOLUME I\n",
      "\n",
      "\n",
      "\n",
      "CHAPTER I\n",
      "\n",
      "\n",
      "\n",
      "\n",
      "\n",
      "Emma Woodhouse, handsome, clever, and rich, with a comfortable home\n",
      "\n",
      "and happy disposition, seemed to unite some of the best blessings\n",
      "\n",
      "of existence; and had lived nearly twenty-one years in the world\n",
      "\n",
      "with very little to distress or vex her.\n",
      "\n",
      "\n",
      "\n",
      "She was the youngest of the two daughters of a most affectionate,\n",
      "\n",
      "indulgent father; and had, in consequence of her sister's marriage,\n",
      "\n",
      "been mistress of his house from a very early period.  Her mother\n",
      "\n",
      "had died too long ago for her to have more than an indistinct\n",
      "\n",
      "remembrance of her caresses; and her place had been supplied\n",
      "\n",
      "by an excellent woman as governess, who had fallen little short\n",
      "\n",
      "of a mother in affection.\n"
     ]
    }
   ],
   "source": [
    "f = open('data/austen-emma-excerpt.txt','rt', encoding='utf-8')\n",
    "for line in f:\n",
    "    print(line)\n",
    "f.close()"
   ]
  },
  {
   "cell_type": "markdown",
   "metadata": {},
   "source": [
    "Rather than just printing, we can of course do whatever we want with this file's content. Let's count the number of lines (but note, that a line does not necessarily correspond to a sentence)."
   ]
  },
  {
   "cell_type": "code",
   "execution_count": 5,
   "metadata": {
    "collapsed": false
   },
   "outputs": [
    {
     "ename": "TypeError",
     "evalue": "'encoding' is an invalid keyword argument for this function",
     "output_type": "error",
     "traceback": [
      "\u001b[1;31m---------------------------------------------------------------------------\u001b[0m",
      "\u001b[1;31mTypeError\u001b[0m                                 Traceback (most recent call last)",
      "\u001b[1;32m<ipython-input-5-2d866cc9de98>\u001b[0m in \u001b[0;36m<module>\u001b[1;34m()\u001b[0m\n\u001b[0;32m      1\u001b[0m \u001b[0mcount\u001b[0m \u001b[1;33m=\u001b[0m \u001b[1;36m0\u001b[0m\u001b[1;33m\u001b[0m\u001b[0m\n\u001b[1;32m----> 2\u001b[1;33m \u001b[0mf\u001b[0m \u001b[1;33m=\u001b[0m \u001b[0mopen\u001b[0m\u001b[1;33m(\u001b[0m\u001b[1;34m'data/austen-emma-excerpt.txt'\u001b[0m\u001b[1;33m,\u001b[0m \u001b[1;34m'rt'\u001b[0m\u001b[1;33m,\u001b[0m \u001b[0mencoding\u001b[0m\u001b[1;33m=\u001b[0m\u001b[1;34m'utf-8'\u001b[0m\u001b[1;33m)\u001b[0m\u001b[1;33m\u001b[0m\u001b[0m\n\u001b[0m\u001b[0;32m      3\u001b[0m \u001b[1;32mfor\u001b[0m \u001b[0mline\u001b[0m \u001b[1;32min\u001b[0m \u001b[0mf\u001b[0m\u001b[1;33m:\u001b[0m\u001b[1;33m\u001b[0m\u001b[0m\n\u001b[0;32m      4\u001b[0m     \u001b[0mcount\u001b[0m \u001b[1;33m+=\u001b[0m \u001b[1;36m1\u001b[0m\u001b[1;33m\u001b[0m\u001b[0m\n\u001b[0;32m      5\u001b[0m \u001b[0mf\u001b[0m\u001b[1;33m.\u001b[0m\u001b[0mclose\u001b[0m\u001b[1;33m(\u001b[0m\u001b[1;33m)\u001b[0m\u001b[1;33m\u001b[0m\u001b[0m\n",
      "\u001b[1;31mTypeError\u001b[0m: 'encoding' is an invalid keyword argument for this function"
     ]
    }
   ],
   "source": [
    "count = 0\n",
    "f = open('data/austen-emma-excerpt.txt', 'rt', encoding='utf-8')\n",
    "for line in f:\n",
    "    count += 1\n",
    "f.close()\n",
    "print(count)"
   ]
  },
  {
   "cell_type": "markdown",
   "metadata": {},
   "source": [
    "### Useful tips on file reading"
   ]
  },
  {
   "cell_type": "markdown",
   "metadata": {},
   "source": [
    "The last thing I would like to show you is to store the contents of a file in a list, which I find useful in some cases. Python provides the fileobject.readlines() function, which creates a list, where each element of the list is one line from the file. As you can see in the example below, this keeps the annoying trainling new line characters \"\\n\" at the end of the lines. So in the second example I read in the file as one string and split it on the newline characters \"\\n\"."
   ]
  },
  {
   "cell_type": "code",
   "execution_count": 12,
   "metadata": {
    "collapsed": false
   },
   "outputs": [
    {
     "name": "stdout",
     "output_type": "stream",
     "text": [
      "Number of lines 19\n",
      "['Emma by Jane Austen 1816\\n', '\\n', 'VOLUME I\\n', '\\n', 'CHAPTER I\\n', '\\n', '\\n', 'Emma Woodhouse, handsome, clever, and rich, with a comfortable home\\n', 'and happy disposition, seemed to unite some of the best blessings\\n', 'of existence; and had lived nearly twenty-one years in the world\\n', 'with very little to distress or vex her.\\n', '\\n', 'She was the youngest of the two daughters of a most affectionate,\\n', \"indulgent father; and had, in consequence of her sister's marriage,\\n\", 'been mistress of his house from a very early period.  Her mother\\n', 'had died too long ago for her to have more than an indistinct\\n', 'remembrance of her caresses; and her place had been supplied\\n', 'by an excellent woman as governess, who had fallen little short\\n', 'of a mother in affection.']\n",
      "\n",
      "['Emma by Jane Austen 1816', '', 'VOLUME I', '', 'CHAPTER I', '', '', 'Emma Woodhouse, handsome, clever, and rich, with a comfortable home', 'and happy disposition, seemed to unite some of the best blessings', 'of existence; and had lived nearly twenty-one years in the world', 'with very little to distress or vex her.', '', 'She was the youngest of the two daughters of a most affectionate,', \"indulgent father; and had, in consequence of her sister's marriage,\", 'been mistress of his house from a very early period.  Her mother', 'had died too long ago for her to have more than an indistinct', 'remembrance of her caresses; and her place had been supplied', 'by an excellent woman as governess, who had fallen little short', 'of a mother in affection.']\n"
     ]
    }
   ],
   "source": [
    "lines = open('data/austen-emma-excerpt.txt', 'rt').readlines()\n",
    "print \"Number of lines\", len(lines)\n",
    "print lines\n",
    "print\n",
    "print open('data/austen-emma-excerpt.txt', 'rt').read().split('\\n')\n"
   ]
  },
  {
   "cell_type": "markdown",
   "metadata": {},
   "source": [
    "Lastly, below I show a more \"pythonic\" way of opening a file. It is preferable to use this \"with\" syntax, you can read up on it why, but for now just remember that its safer."
   ]
  },
  {
   "cell_type": "code",
   "execution_count": 13,
   "metadata": {
    "collapsed": false
   },
   "outputs": [
    {
     "name": "stdout",
     "output_type": "stream",
     "text": [
      "Emma by Jane Austen 1816\n",
      "\n",
      "\n",
      "\n",
      "VOLUME I\n",
      "\n",
      "\n",
      "\n",
      "CHAPTER I\n",
      "\n",
      "\n",
      "\n",
      "\n",
      "\n",
      "Emma Woodhouse, handsome, clever, and rich, with a comfortable home\n",
      "\n",
      "and happy disposition, seemed to unite some of the best blessings\n",
      "\n",
      "of existence; and had lived nearly twenty-one years in the world\n",
      "\n",
      "with very little to distress or vex her.\n",
      "\n",
      "\n",
      "\n",
      "She was the youngest of the two daughters of a most affectionate,\n",
      "\n",
      "indulgent father; and had, in consequence of her sister's marriage,\n",
      "\n",
      "been mistress of his house from a very early period.  Her mother\n",
      "\n",
      "had died too long ago for her to have more than an indistinct\n",
      "\n",
      "remembrance of her caresses; and her place had been supplied\n",
      "\n",
      "by an excellent woman as governess, who had fallen little short\n",
      "\n",
      "of a mother in affection.\n"
     ]
    }
   ],
   "source": [
    "with open('data/austen-emma-excerpt.txt','rt', encoding='utf-8') as txt:\n",
    "    for line in txt:\n",
    "        print line"
   ]
  },
  {
   "cell_type": "markdown",
   "metadata": {},
   "source": [
    "## Quiz"
   ]
  },
  {
   "cell_type": "markdown",
   "metadata": {},
   "source": [
    "Read the file `data/austen-emma-excerpt.txt` and compute the average length of the lines:\n",
    "* In characters\n",
    "* In words\n",
    "* Re-calculate both measures when not counting empty lines"
   ]
  },
  {
   "cell_type": "code",
   "execution_count": 125,
   "metadata": {
    "collapsed": false
   },
   "outputs": [],
   "source": [
    "f = open('data/austen-emma-excerpt.txt', 'rt', encoding='utf-8')\n",
    "# insert your code here\n",
    "# important: always remember to properly close your files again!"
   ]
  },
  {
   "cell_type": "markdown",
   "metadata": {},
   "source": [
    "- - -"
   ]
  },
  {
   "cell_type": "markdown",
   "metadata": {},
   "source": [
    "## File Output"
   ]
  },
  {
   "cell_type": "markdown",
   "metadata": {},
   "source": [
    "\n",
    "Now we mastered the art of reading files, let's move on to writing files, which follows a similar logic:"
   ]
  },
  {
   "cell_type": "code",
   "execution_count": null,
   "metadata": {
    "collapsed": false
   },
   "outputs": [],
   "source": [
    "f = open('data/testoutput.txt', 'wt', encoding='utf-8')\n",
    "f.write(\"Hello world!\")\n",
    "f.close()"
   ]
  },
  {
   "cell_type": "markdown",
   "metadata": {},
   "source": [
    "In this code block, we have created a new file called `testoutput.txt` in the `data` directory. We then wrote a single line to this file and then we closed it. Note that the `w` in `wt` is a crucial addition: if you would have left this out, Python would have opened the file in 'readonly' mode and you wouldn't have been able to write to it! The 't' in the argument, again, signifies that we will be writing to this file in plain text mode."
   ]
  },
  {
   "cell_type": "markdown",
   "metadata": {},
   "source": [
    "If you want your data to be written on multiple lines, you need to take care to explicitly encode the newlines. Instead of:\n",
    "    "
   ]
  },
  {
   "cell_type": "code",
   "execution_count": null,
   "metadata": {
    "collapsed": false
   },
   "outputs": [],
   "source": [
    "f = open('data/testouput.txt','wt', encoding='utf-8')\n",
    "f.write(\"Hello world on the first line!\")\n",
    "f.write(\"Hello world on the second line!\")\n",
    "f.close()"
   ]
  },
  {
   "cell_type": "markdown",
   "metadata": {},
   "source": [
    "You need to write:"
   ]
  },
  {
   "cell_type": "code",
   "execution_count": null,
   "metadata": {
    "collapsed": false
   },
   "outputs": [],
   "source": [
    "f = open('data/testoutput.txt','wt', encoding='utf-8')\n",
    "f.write(\"Hello world on the first line!\\n\")\n",
    "f.write(\"Hello world on the second line!\")\n",
    "f.close()"
   ]
  },
  {
   "cell_type": "markdown",
   "metadata": {},
   "source": [
    "Otherwise your file would have `Hello world!Hello world!` in it, i.e. without the newlines."
   ]
  },
  {
   "cell_type": "markdown",
   "metadata": {},
   "source": [
    "Besides 'read-mode' and 'write-mode' when dealing with text files, there is also the 'append-mode' in Python. Watch out: in 'write-mode', you will always *overwrite* the existing content of the file. However, if you've open a file in 'append-mode', everything you write to the file will be added at the end of the file, without deleting anything of the existing content in the file. In order to enable the append mode, you need to specify `'at'` as your second parameter when you open files ('a' for append mode; 't' for text mode)."
   ]
  },
  {
   "cell_type": "markdown",
   "metadata": {},
   "source": [
    "#### Exercise"
   ]
  },
  {
   "cell_type": "markdown",
   "metadata": {},
   "source": [
    "Open the file we just created and check if the writing was succesfull or not"
   ]
  },
  {
   "cell_type": "code",
   "execution_count": 11,
   "metadata": {
    "collapsed": true
   },
   "outputs": [],
   "source": [
    "# insert your code here"
   ]
  },
  {
   "cell_type": "markdown",
   "metadata": {},
   "source": [
    "Read the file `data/austen-emma-excerpt-tokenised.txt`, and write to a file `words.txt` all words occuring in this text (without duplicates!!), alphabetically ordered, one word per line. That way, you are really creating a lexicon or word list of the text. (Tip: you should use sets in this exercise!)"
   ]
  },
  {
   "cell_type": "markdown",
   "metadata": {},
   "source": [
    "Check your output by viewing the `words.txt` file in a text editor such as Sublime Text 2. (Windows users: do not use Notepad!)"
   ]
  },
  {
   "cell_type": "markdown",
   "metadata": {
    "collapsed": false
   },
   "source": [
    "## Pickle"
   ]
  },
  {
   "cell_type": "markdown",
   "metadata": {},
   "source": [
    "Another very common way of saving data to disk in Python is to just simply \"dump\" it in a pickle file. This section is going to walk you through this idea. "
   ]
  },
  {
   "cell_type": "markdown",
   "metadata": {},
   "source": [
    "Let's say you have read in some document and created a frequency dictionary from your text file:"
   ]
  },
  {
   "cell_type": "code",
   "execution_count": 15,
   "metadata": {
    "collapsed": false
   },
   "outputs": [
    {
     "data": {
      "text/plain": [
       "{'word1': 210, 'word2': 50}"
      ]
     },
     "execution_count": 15,
     "metadata": {},
     "output_type": "execute_result"
    }
   ],
   "source": [
    "freq_dict = {'word1': 210, 'word2': 50}\n",
    "freq_dict"
   ]
  },
  {
   "cell_type": "markdown",
   "metadata": {},
   "source": [
    "You would like to remember this for later use. This is where you can use the pickle module. This module let's you write out arbitrary Python objects to disk and read them back later. pickle has two main methods: The first one is dump, which dumps an object to a file object and the second one is load, which loads an object from a file object"
   ]
  },
  {
   "cell_type": "code",
   "execution_count": 16,
   "metadata": {
    "collapsed": true
   },
   "outputs": [],
   "source": [
    "import pickle"
   ]
  },
  {
   "cell_type": "code",
   "execution_count": 20,
   "metadata": {
    "collapsed": true
   },
   "outputs": [],
   "source": [
    "pickle.dump(freq_dict, open('freqdict.pkl', 'wb')) # passing the thing that i want to right out and a file object to pickle"
   ]
  },
  {
   "cell_type": "code",
   "execution_count": 21,
   "metadata": {
    "collapsed": false
   },
   "outputs": [
    {
     "data": {
      "text/plain": [
       "{'word1': 210, 'word2': 50}"
      ]
     },
     "execution_count": 21,
     "metadata": {},
     "output_type": "execute_result"
    }
   ],
   "source": [
    "pickle.load(open(r'freqdict.pkl'))"
   ]
  },
  {
   "cell_type": "markdown",
   "metadata": {},
   "source": [
    "---"
   ]
  },
  {
   "cell_type": "markdown",
   "metadata": {},
   "source": [
    "### Working with Directories"
   ]
  },
  {
   "cell_type": "markdown",
   "metadata": {},
   "source": [
    "Now that we started to work with files we have to gain some insight into how to navigate the folder/directory structure. Most people use some sort of graphical user interface GUI to navigate to files such as the Finder in Mac OS or you click on the My Computer icon on Windows. Now we are going to interact with these folder structures programmatically. The workhorse of this section is going to be Python's os module. The GUI you are using translates the commands of your operating system to clicking on icons for easier use. Python's os modules is very similar to the GUI in that it provides an interface that let's you navigate between folders, create new folders, rename files etc.."
   ]
  },
  {
   "cell_type": "code",
   "execution_count": 76,
   "metadata": {
    "collapsed": true
   },
   "outputs": [],
   "source": [
    "import os"
   ]
  },
  {
   "cell_type": "markdown",
   "metadata": {},
   "source": [
    "Let's get started by checking out which is the current directory are we in actually right now."
   ]
  },
  {
   "cell_type": "code",
   "execution_count": 77,
   "metadata": {
    "collapsed": false
   },
   "outputs": [
    {
     "name": "stdout",
     "output_type": "stream",
     "text": [
      "/home/akadar/pymodules/python-course\n"
     ]
    }
   ],
   "source": [
    "print(os.getcwd())"
   ]
  },
  {
   "cell_type": "markdown",
   "metadata": {},
   "source": [
    "getcwd refers to \"get current working directory\". As you can see the name of the current directory is XXXXXXXXXXX. The directories on the left are the names higher level directories.  On Linux and Mac these are delimited by \"/\", while on Windows by \"\\\". This distinctions extremely unnecessary I know, but what can you do. "
   ]
  },
  {
   "cell_type": "markdown",
   "metadata": {},
   "source": [
    "OK, now lets check out what files and folders do we have in this directory"
   ]
  },
  {
   "cell_type": "code",
   "execution_count": 59,
   "metadata": {
    "collapsed": false
   },
   "outputs": [
    {
     "name": "stdout",
     "output_type": "stream",
     "text": [
      "['Chapter 7 - More on Loops.ipynb', 'ExamEx20132014.pdf', 'Chapter 1 - Variables.ipynb', 'Chapter 4 - Loops.ipynb', 'data', '.ipynb_checkpoints', 'FilesIO.ipynb', 'Chapter 6 - Regular Expressions.ipynb', 'start-unix.sh', 'start-windows.bat', 'ExerciseKeys', 'README.md', 'Chapter 2 - Collections.ipynb', '.gitignore', 'Chapter 3 - Conditions.ipynb', 'Chapter 5 - Functions and Files.ipynb', 'freqdict.pkl', 'learnutils.py', 'styles', 'images', '.git', 'start-osx.command', 'learnutils.pyc']\n"
     ]
    }
   ],
   "source": [
    "print(os.listdir('.')) # The '.' refers to 'current directory'"
   ]
  },
  {
   "cell_type": "markdown",
   "metadata": {},
   "source": [
    "Let's see which of these are files and which of these are directories. Whe are going to use os.path.isdir, which returns True if the string in question refers to a directory otherwise it returns False. Since we can have either a directory or a file and there are no other options, we only ask if the current element is a directory and if not, we infer that it is a file."
   ]
  },
  {
   "cell_type": "code",
   "execution_count": 124,
   "metadata": {
    "collapsed": false
   },
   "outputs": [
    {
     "name": "stdout",
     "output_type": "stream",
     "text": [
      "Chapter 7 - More on Loops.ipynb  \t --> is a file\n",
      "ExamEx20132014.pdf  \t --> is a file\n",
      "Chapter 1 - Variables.ipynb  \t --> is a file\n",
      "Chapter 4 - Loops.ipynb  \t --> is a file\n",
      "data  \t --> is a directory\n",
      ".ipynb_checkpoints  \t --> is a directory\n",
      "FilesIO.ipynb  \t --> is a file\n",
      "Chapter 6 - Regular Expressions.ipynb  \t --> is a file\n",
      "start-unix.sh  \t --> is a file\n",
      "start-windows.bat  \t --> is a file\n",
      "ExerciseKeys  \t --> is a directory\n",
      "README.md  \t --> is a file\n",
      "Chapter 2 - Collections.ipynb  \t --> is a file\n",
      ".gitignore  \t --> is a file\n",
      "Chapter 3 - Conditions.ipynb  \t --> is a file\n",
      "Chapter 5 - Functions and Files.ipynb  \t --> is a file\n",
      "freqdict.pkl  \t --> is a file\n",
      "learnutils.py  \t --> is a file\n",
      "styles  \t --> is a directory\n",
      "images  \t --> is a directory\n",
      ".git  \t --> is a directory\n",
      "start-osx.command  \t --> is a file\n",
      "learnutils.pyc  \t --> is a file\n"
     ]
    }
   ],
   "source": [
    "file_list = os.listdir('.') # list current working directory\n",
    "files = [] # collect the filenames here\n",
    "directories = [] # collect the directory names here\n",
    "for element in file_list:\n",
    "    if os.path.isdir(element):\n",
    "        print element, \" \\t --> is a directory\"\n",
    "        directories.append(element)\n",
    "    else:\n",
    "        print element, \" \\t --> is a file\"\n",
    "        files.append(element)"
   ]
  },
  {
   "cell_type": "markdown",
   "metadata": {},
   "source": [
    "Alright, so far we used the os module do show where we are and what kind of files and directories are we sorrounded by. In learnutils I implemented a small function that shows the whole directory structures below the current diretory take a look at it. "
   ]
  },
  {
   "cell_type": "code",
   "execution_count": 67,
   "metadata": {
    "collapsed": true
   },
   "outputs": [],
   "source": [
    "from learnutils import print_tree"
   ]
  },
  {
   "cell_type": "code",
   "execution_count": 75,
   "metadata": {
    "collapsed": false
   },
   "outputs": [
    {
     "name": "stdout",
     "output_type": "stream",
     "text": [
      "├── .gitignore\n",
      "├── Chapter 1 - Variables.ipynb\n",
      "├── Chapter 2 - Collections.ipynb\n",
      "├── Chapter 3 - Conditions.ipynb\n",
      "├── Chapter 4 - Loops.ipynb\n",
      "├── Chapter 5 - Functions and Files.ipynb\n",
      "├── Chapter 6 - Regular Expressions.ipynb\n",
      "├── Chapter 7 - More on Loops.ipynb\n",
      "├── ExamEx20132014.pdf\n",
      "├── \u001b[94mExerciseKeys\u001b[0m\n",
      "│   ├── AnswersChap1.py\n",
      "│   ├── AnswersChap2.py\n",
      "│   ├── AnswersChap3.py\n",
      "│   ├── AnswersChap4.py\n",
      "│   ├── AnswersChap5.py\n",
      "│   └── AnswersChap6.py\n",
      "├── FilesIO.ipynb\n",
      "├── README.md\n",
      "├── \u001b[94mdata\u001b[0m\n",
      "│   ├── austen-emma-excerpt-tokenised.txt\n",
      "│   ├── austen-emma-excerpt.txt\n",
      "│   └── austen-emma.txt\n",
      "├── freqdict.pkl\n",
      "├── \u001b[94mimages\u001b[0m\n",
      "│   ├── Python-Programming-Language.png\n",
      "│   ├── grade.png\n",
      "│   ├── python-logo-generic.svg\n",
      "│   └── string_index.png\n",
      "├── learnutils.py\n",
      "├── learnutils.pyc\n",
      "├── start-osx.command\n",
      "├── start-unix.sh\n",
      "├── start-windows.bat\n",
      "└── \u001b[94mstyles\u001b[0m\n",
      "    ├── custom.css\n",
      "    ├── matplotlibrc\n",
      "    └── screen.css\n"
     ]
    }
   ],
   "source": [
    "print_tree()"
   ]
  },
  {
   "cell_type": "markdown",
   "metadata": {},
   "source": [
    "The os module also allows us to change to different directories"
   ]
  },
  {
   "cell_type": "code",
   "execution_count": 80,
   "metadata": {
    "collapsed": false
   },
   "outputs": [
    {
     "name": "stdout",
     "output_type": "stream",
     "text": [
      "DIrectories: ['data', '.ipynb_checkpoints', 'ExerciseKeys', 'styles', 'images', '.git']\n"
     ]
    }
   ],
   "source": [
    "print \"DIrectories:\", directories"
   ]
  },
  {
   "cell_type": "code",
   "execution_count": 90,
   "metadata": {
    "collapsed": false
   },
   "outputs": [
    {
     "name": "stdout",
     "output_type": "stream",
     "text": [
      "/home/akadar/pymodules/python-course/data\n",
      "['austen-emma-excerpt-tokenised.txt', 'austen-emma-excerpt.txt', 'austen-emma.txt']\n",
      "/home/akadar/pymodules/python-course\n"
     ]
    }
   ],
   "source": [
    "os.chdir('data') # descending to the folder \"data\"\n",
    "print os.getcwd() # where are we now?\n",
    "print os.listdir('.') # what do we have here?\n",
    "os.chdir('..') # going back up\n",
    "print os.getcwd() # are we back?\n"
   ]
  },
  {
   "cell_type": "markdown",
   "metadata": {},
   "source": [
    "The following code snippet:\n",
    " + goes to the data directory\n",
    " + creates a new directory inside it \"test\"\n",
    " + creates a new file \"test.txt\"\n",
    " + removes the file \"test.txt\"\n",
    " + removes the directory \"test\""
   ]
  },
  {
   "cell_type": "code",
   "execution_count": 121,
   "metadata": {
    "collapsed": false
   },
   "outputs": [
    {
     "name": "stdout",
     "output_type": "stream",
     "text": [
      "We are here: /home/akadar/pymodules/python-course\n",
      "We are here: /home/akadar/pymodules/python-course/data\n",
      "['austen-emma-excerpt-tokenised.txt', 'austen-emma-excerpt.txt', 'austen-emma.txt']\n",
      "['austen-emma-excerpt-tokenised.txt', 'austen-emma-excerpt.txt', 'austen-emma.txt', 'test']\n",
      "[]\n",
      "['test.txt']\n",
      "Testing\n",
      "We are here /home/akadar/pymodules/python-course/data\n",
      "['austen-emma-excerpt-tokenised.txt', 'austen-emma-excerpt.txt', 'austen-emma.txt']\n",
      "And we're back to: /home/akadar/pymodules/python-course\n"
     ]
    }
   ],
   "source": [
    "print \"We are here:\", os.getcwd()\n",
    "os.chdir('data') # chdir --> change directory\n",
    "print \"We are here:\", os.getcwd()\n",
    "print os.listdir('.')\n",
    "os.mkdir('test') # mkdir --> make directory\n",
    "print os.listdir('.')\n",
    "os.chdir('test') # chdir --> change directory\n",
    "print os.listdir('.')\n",
    "open(\"test.txt\", 'wt').write('Testing')\n",
    "print os.listdir('.')\n",
    "print open(r\"test.txt\").read()\n",
    "os.remove(\"test.txt\")\n",
    "os.chdir('..')\n",
    "print \"We are here\", os.getcwd()\n",
    "os.rmdir('test')\n",
    "print os.listdir('.')\n",
    "os.chdir('..')\n",
    "print \"And we're back to:\", os.getcwd()"
   ]
  },
  {
   "cell_type": "markdown",
   "metadata": {},
   "source": [
    "# THE END"
   ]
  },
  {
   "cell_type": "markdown",
   "metadata": {},
   "source": [
    "## Scripts"
   ]
  },
  {
   "cell_type": "markdown",
   "metadata": {},
   "source": [
    "Up until now, we have been using the interactive IPython software to write our Python code. We have only been writing really small bits and pieces of code, however, instead of writing longer scripts that can provide a more significant batch of functionality. Now, let us make our first independent Python script together. (Note that this way of working will also resemble more closely your future day-to-day coding practice.)\n",
    "\n",
    "Open 'Sublime Text 2', a popular text editor which we will use in this course (http://www.sublimetext.com/). Create a new file -- this might have happened automatically when you opened the editor -- and save it as \"script.py\" in a convenient location (here, we will assume that you have saved it in your Desktop folder. Note that files containing Python code typically take the \".py\" extension.\n",
    "\n",
    "If you are working in a UNIX-like environment (Mac or Linux), you should now add the following code on the very first line of your script:  "
   ]
  },
  {
   "cell_type": "code",
   "execution_count": null,
   "metadata": {
    "collapsed": false
   },
   "outputs": [],
   "source": [
    "#!/usr/bin/env/ python"
   ]
  },
  {
   "cell_type": "markdown",
   "metadata": {},
   "source": [
    "This line will tell your computer which language you want to use to run the script -- in this case, our default installation of Python 3 will be used. In technical terms, the \"#!\" is called a \"shebang\" indication. If you are working in MS Windows, you can add this 'shebang line' as well, but it will have no effect. \n",
    "\n",
    "Now, let's us add a simply Python function to this file. The `fib()` function will the first numbers in the famous Fibonacci series. The function will only print the items in the series that are smaller than `upper`, i.e. the parameter we pass to this function: \n",
    "\n",
    "\n"
   ]
  },
  {
   "cell_type": "code",
   "execution_count": 3,
   "metadata": {
    "collapsed": false
   },
   "outputs": [],
   "source": [
    "def fib(upper):\n",
    "    # write Fibonacci series up to upper\n",
    "    \"Print a Fibonacci series up to upper\"\n",
    "    a, b = 0, 1\n",
    "    while b < upper:\n",
    "        print(b)\n",
    "        a = b\n",
    "        b = a+b\n",
    "    return"
   ]
  },
  {
   "cell_type": "markdown",
   "metadata": {},
   "source": [
    "Next, add a line that actually calls the `fib()` function for `upper=2000`. (Don't forget to take care of the correct indentation!)"
   ]
  },
  {
   "cell_type": "code",
   "execution_count": null,
   "metadata": {
    "collapsed": false
   },
   "outputs": [],
   "source": [
    "fib(2000)"
   ]
  },
  {
   "cell_type": "markdown",
   "metadata": {},
   "source": [
    "Instead of executing this code by hitting ctrl+enter as we have done in the IPython notebook so far, we will now learn how to execute our code differently. We have two ways for doing this: an easy one, and a difficult one. When you work with a code editor like Sublime Text, there is often an easy way to execute your code. In Sublime, for instance, you can first save your file with a \".py\" extension, and then 'build' your code by hitting Ctrl+b (Windows, Unix) or Command+b (Mac OS X). You will now see that the output of your script will be written to your screen in Sublime.\n",
    "\n",
    "For the second option, you can use a command line interface or prompt. Watch out: this can be pretty scary at first... In general, you should always watch out when you use a command line interface to your machine: only execute commands that you (more or less) understand! You typically have complete control over your machine via such an interface, so you need to watch out not to remove any important files. (You could e.g. unintentionally delete your entire operating system from your hard drive with a single command...). \n",
    "\n",
    "First we will deal with instructions for doing this in Mac OS X and Linux-distributions such as Ubuntu. Mac OS X and Linux tend to behave similarly because they are both 'Unix-based' operating systems. \n",
    "\n",
    "- On a Mac,  you should open your 'Terminal'-application by clicking the relevant icon in the folder Applications > Utilities. Alternatively, click the magnifying glass in the top-right of your screen (shortcut: Command key+Spacebar). Next, type 'Terminal' in the box that appears and hit enter when your Mac has found the Terminal app.\n",
    "- On a Linux installation, first open a command line window by navigating to the Terminal via Applications Menu > Accesories > Terminal (Gnome) or Dash > More Apps > Accessories > Terminal (Unity). Under both Gnome and Unity, you should also be able to use the keyboard shortcut `Ctrl+Alt+T` to open a console window.\n",
    "\n",
    "Now 'cd' (= Change Directory) into the director that contains your `script.py` file (in our case that would mean: `cd ~/Desktop`). Next, execute our script by typing: `python3 script.py`. With this command, we explicitly tell the machine to execute this script using `python` (at least, the default version of Python3 installed on your machine). Normally, the output of the `print(), should now have been send to your console window. Has it?\n",
    "\n",
    "However, because we added the 'shebang line' at the top of `script.py`, we could have also used the plainer command `./script.py` (which simply means: 'run this program'). To make the program fully executable you might have to \"chmod\" it first (CHange file MODes), using the command `chmod +x script.py`. With this command you tell your machine, that it is safe to execute this script. For additional info on these scripts and the options they take, you can always run the `man` command (e.g. `man chmod`). A good tutorial that covers the basics of the bash command line interface on Unix-like operating systems is: http://praxis.scholarslab.org/tutorials/bash/.\n",
    "\n",
    "Under a Windows operating system, you can simply double-click the script.py function: because of the `.py` extension your OS will automatically run the script via Python interpreter (note that the `shebang line` is in reality ignored in your `script.py`). Alternatively, go to Start > All programs > Accessories and click on Command Prompt. In the Search or Run line, you can also type `cmd` and press enter. This will open a DOS console window.\n",
    "\n",
    "Navigate to the folder that holds you script.py: in our case you could do this via the command: `cd C:\\documents and settings\\your_username\\desktop` or simply `cd desktop`. Next, execute our script by typing: `python3 script.py`. With this command, we explicitly tell the machine to execute this script using `python` (at least it's default version on your machine). Normally, the output of the `print(), should now have been send to your console window. Has it? A good tutorial that covers the basics of the bash command line interface in DOS-based operating systems is: http://www.computerhope.com/issues/chusedos.htm\n",
    "\n",
    "You can now also import the functionality from `script.py` in other scripts! Remove (or comment out via a hashtag) the following line, containing the actual function call from `script.py`\n"
   ]
  },
  {
   "cell_type": "code",
   "execution_count": null,
   "metadata": {
    "collapsed": false
   },
   "outputs": [],
   "source": [
    "fib(2000)"
   ]
  },
  {
   "cell_type": "markdown",
   "metadata": {},
   "source": [
    "Create a new file called `main.py` in the same directory, namely your Desktop folder. Add the shebang line on top, as well as the following statement which will import the functionality from the `script.py` module. Note that the syntax is entirely the same as for importing one of the 'official' functions from the Python Standard Library! Instead of running `script.py`, now try to run `main.py` which will import the `script.fib()` function. Does this work out? You don't have to add the '.py' by the way: your computer will figure out this extension itself."
   ]
  },
  {
   "cell_type": "code",
   "execution_count": null,
   "metadata": {
    "collapsed": false
   },
   "outputs": [],
   "source": [
    "#!/usr/bin/env python\n",
    "import script\n",
    "script.fib(upper=2000)"
   ]
  },
  {
   "cell_type": "markdown",
   "metadata": {},
   "source": [
    "Note that we have to be explicit about where our Python interpreter should look for the fib() function using the syntax with a dot (`module.function()`). If we want to be able to use the shorter version of the function call, we should have used to following import statement:"
   ]
  },
  {
   "cell_type": "code",
   "execution_count": null,
   "metadata": {
    "collapsed": false
   },
   "outputs": [],
   "source": [
    "from script import *"
   ]
  },
  {
   "cell_type": "markdown",
   "metadata": {},
   "source": [
    "Can you now try try to run `main.py` again, but now with the shorter call `fib(upper=2000)`, witout explicitly mentioning the module from which the function originates? Does that work work out for you?\n",
    "\n",
    "Now check out the files in your Desktop folder: you will notice that an additional file has been created, namely `script.pyc`. (If you can't see file, note that you can explicitly list all files in the current directory using the `ls` command in both Windows and Unix-like operating systems.) The extension of this new file stands for 'Compiled Python File'. Don't worry about this file -- you won't be able to inspect its contents using a text editor anyway. This file contains the numerical 'bytecode' that will be executed by your machine: it is this machine-readable version of your code that has actually been imported into the `main.py` module. You can safely ignore these files, but now you know what they are for. (By the way: note that there is no `main.pyc` file which has been created, because no functionality from this file has been imported into another module.)\n",
    "\n",
    "It's always a good idea to distribute your code over a set of modules. In technical terms, your code should be as 'modular' as possible, meaning that similar functions should be grouped into the same module. This will help you keep your code organized especially when you are working on a larger project. If you have a set of functions that use you for loading and parsing files in Python, why not group under the same module? This way you can organize your own coding more efficiently, as well as share and document your code more easily.  \n",
    "\n",
    "Now you know how how to store and organize your code in separate files and modules. Still, a lot of programmers continue to explore their data using 'interactive Python' via a so-called 'interactive Python interpreter' that more or less resembles the IPython envirionment you have been working in so far. To launch such an interpreter, just type in `python3` in your console and hit enter. This will launch a `live` Python session in your command line console where you can experiment with your data by typing in commands, much like you have done in the IPython environment so far. Try this out! Just type in lines of Python code after the `>>>` prompt and hit enter to execute it immediately."
   ]
  },
  {
   "cell_type": "markdown",
   "metadata": {},
   "source": [
    "---"
   ]
  },
  {
   "cell_type": "markdown",
   "metadata": {},
   "source": [
    "# Exercises"
   ]
  },
  {
   "cell_type": "markdown",
   "metadata": {},
   "source": [
    "```When you make the exercices below, don't write your code in the IPython notebook anymore but write in a separate file and run them from the command line! ```\n",
    "\n",
    "Inspired by *Think Python* by Allen B. Downey (http://thinkpython.com), *Introduction to Programming Using Python* by Y. Liang (Pearson, 2013). Some exercises below have been taken from: http://www.ling.gu.se/~lager/python_exercises.html."
   ]
  },
  {
   "cell_type": "markdown",
   "metadata": {},
   "source": [
    "-  Two words are anagrams if you can rearrange the letters from one to spell the other. Write a function called is_anagram that takes two strings and returns True if they are anagrams."
   ]
  },
  {
   "cell_type": "markdown",
   "metadata": {},
   "source": [
    "-  Go to Project Gutenberg (http://www.gutenberg.org) and download your favorite out- of-copyright book in plain text format. Make a frequency dictionary of the words in the novel. Sort the words in the dictionary by frequency and write it to a text file called `frequencies.txt`. Make sure your program ignores capitalization as well as punctuation (hint: check out `string.punctuation` online!). Search the web in order to find out how you can sort a dictionary -- this is not easy, because you might have to import another module."
   ]
  },
  {
   "cell_type": "markdown",
   "metadata": {},
   "source": [
    "- Rewrite the novel in the previous exercise, by replacing the name of the principal character in the novel by your own name. (Use the `replace()` function for this.) Write the new version of novel to a file called `starring_me.txt`."
   ]
  },
  {
   "cell_type": "markdown",
   "metadata": {},
   "source": [
    "-  Define a function sum() and a function multiply() that sums and multiplies (respectively) all the numbers in a list of numbers. For example, sum([1, 2, 3, 4]) should return 10, and multiply([1, 2, 3, 4]) should return 24.\n"
   ]
  },
  {
   "cell_type": "markdown",
   "metadata": {},
   "source": [
    "-  A *hapax legomenon* (often abbreviated to hapax) is a word which occurs only once in either the written record of a language, the works of an author, or in a single text. Define a function that given the file name of a text will return all its hapaxes. Make sure your program ignores capitalization as well as punctuation (hint: check out `string.punctuation` online!). Try out the function on your Gutenberg book."
   ]
  },
  {
   "cell_type": "markdown",
   "metadata": {},
   "source": [
    "- Inside the same module as the previous exercise (i.e. a file that ends in `.py`), create two additional functions: one that spots 'hapaxes dislegomena' (words occuring only twice) and one that spots 'hapaxes trislegomena' (words occuring only three times) in a text file. Now import these functions in another, standalone script and call all three functions from there. Again, try them out on your Gutenberg-file."
   ]
  },
  {
   "cell_type": "markdown",
   "metadata": {},
   "source": [
    "- Write a program that given a text file will create a new text file in which all the lines from the original file are numbered from 1 to n (where n is the number of lines in the file)."
   ]
  },
  {
   "cell_type": "markdown",
   "metadata": {},
   "source": [
    "- Write a script that rolls a dice everytime you run it by generating a random integer between 1 and 6! You can import functionality for doing this via `random.randint()`."
   ]
  },
  {
   "cell_type": "markdown",
   "metadata": {},
   "source": [
    "- [Advanced exercise, possibly involving regular expressions: optional] A *sentence splitter* is a program capable of splitting a text into sentences. The standard set of heuristics for sentence splitting includes (but isn't limited to) the following rules: Sentence boundaries occur at one of \".\" (periods), \"?\" or \"!\", except that:\n",
    "\n",
    "> - Periods followed by whitespace followed by a lowercase letter are not sentence boundaries.\n",
    "> - Periods followed by a digit with no intervening whitespace are not sentence boundaries.\n",
    "> - Periods followed by whitespace and then an uppercase letter, but preceded by any of a short list of titles are not sentence boundaries. Sample titles include Mr., Mrs., Dr., and so on.\n",
    "> - Periods internal to a sequence of letters with no adjacent whitespace are not sentence boundaries, such as in www.aptex.com or e.g.\n",
    "> - Periods followed by certain kinds of punctuation (notably comma and more periods) are probably not sentence boundaries.\n",
    "\n",
    "You might want to check out string functions, like `.islower()` and `.isalpha()` in the official Python documentation online. Your task here is to write a function that given the name of a text file is able to write its content with each sentence on a separate line to a new file whose name is also passed as an argument to the function. The function itself should return a list of sentences. Test your program with the following short text: \"Mr. Smith bought cheapsite.com for 1.5 million dollars, i.e. he paid a lot for it. Did he mind? Adam Jones Jr. thinks he didn't. In any case, this isn't true... Well, with a probability of .9 it isn't. The result written to the new file should be:\n",
    "\n",
    "Mr. Smith bought cheapsite.com for 1.5 million dollars, i.e. he paid a lot for it.\n",
    "\n",
    "Did he mind?\n",
    "\n",
    "Adam Jones Jr. thinks he didn't.\n",
    "\n",
    "In any case, this isn't true...\n",
    "\n",
    "Well, with a probability of .9 it isn't.\n"
   ]
  },
  {
   "cell_type": "markdown",
   "metadata": {},
   "source": [
    "------------------------------\n",
    "\n",
    "You've reached the end of Chapter 5! You can safely ignore the code below, it's only there to make the page pretty:"
   ]
  },
  {
   "cell_type": "code",
   "execution_count": 1,
   "metadata": {
    "collapsed": false
   },
   "outputs": [
    {
     "data": {
      "text/html": [
       "<style>\n",
       "    @font-face {\n",
       "        font-family: \"Computer Modern\";\n",
       "        src: url('http://mirrors.ctan.org/fonts/cm-unicode/fonts/otf/cmunss.otf');\n",
       "    }\n",
       "    div.cell {\n",
       "        width:800px;\n",
       "        margin-left:auto;\n",
       "        margin-right:auto;\n",
       "    }\n",
       "    div.cell, .input.hbox {\n",
       "    display:block;\n",
       "}\n",
       "    h1 {\n",
       "        font-family: \"Charis SIL\", Palatino, serif;\n",
       "    }\n",
       "    h4{\n",
       "        margin-top:12px;\n",
       "        margin-bottom: 3px;\n",
       "       }\n",
       "    div.text_cell_render{\n",
       "        font-family: Computer Modern, \"Helvetica Neue\", Arial, Helvetica, Geneva, sans-serif;\n",
       "        line-height: 145%;\n",
       "        font-size: 120%;\n",
       "        width:800px;\n",
       "        margin-left:auto;\n",
       "        margin-right:auto;\n",
       "    }\n",
       "    .CodeMirror{\n",
       "            font-family: \"Source Code Pro\", source-code-pro,Consolas, monospace;\n",
       "    }\n",
       "    .prompt{\n",
       "        display: None;\n",
       "    }\n",
       "    .text_cell_render h5 {\n",
       "        font-weight: 300;\n",
       "        font-size: 16pt;\n",
       "        color: #4057A1;\n",
       "        font-style: italic;\n",
       "        margin-bottom: .5em;\n",
       "        margin-top: 0.5em;\n",
       "        display: block;\n",
       "    }\n",
       "    \n",
       "    .warning{\n",
       "        color: rgb( 240, 20, 20 )\n",
       "        }\n",
       "\n",
       "    blockquote {\n",
       "    border-left: 4px solid #DDDDDD;\n",
       "    color: #777777;\n",
       "        padding: 0 15px;\n",
       "        }\n",
       "\n",
       "</style>\n",
       "<script>\n",
       "    MathJax.Hub.Config({\n",
       "                        TeX: {\n",
       "                           extensions: [\"AMSmath.js\"]\n",
       "                           },\n",
       "                tex2jax: {\n",
       "                    inlineMath: [ ['$','$'], [\"\\\\(\",\"\\\\)\"] ],\n",
       "                    displayMath: [ ['$$','$$'], [\"\\\\[\",\"\\\\]\"] ]\n",
       "                },\n",
       "                displayAlign: 'center', // Change this to 'center' to center equations.\n",
       "                \"HTML-CSS\": {\n",
       "                    styles: {'.MathJax_Display': {\"margin\": 4}}\n",
       "                }\n",
       "        });\n",
       "</script>"
      ],
      "text/plain": [
       "<IPython.core.display.HTML at 0x1081787b8>"
      ]
     },
     "execution_count": 1,
     "metadata": {},
     "output_type": "execute_result"
    }
   ],
   "source": [
    "from IPython.core.display import HTML\n",
    "def css_styling():\n",
    "    styles = open(\"styles/custom.css\", \"r\").read()\n",
    "    return HTML(styles)\n",
    "css_styling()"
   ]
  }
 ],
 "metadata": {
  "kernelspec": {
   "display_name": "Python 2",
   "language": "python",
   "name": "python2"
  },
  "language_info": {
   "codemirror_mode": {
    "name": "ipython",
    "version": 2
   },
   "file_extension": ".py",
   "mimetype": "text/x-python",
   "name": "python",
   "nbconvert_exporter": "python",
   "pygments_lexer": "ipython2",
   "version": "2.7.9"
  }
 },
 "nbformat": 4,
 "nbformat_minor": 0
}
