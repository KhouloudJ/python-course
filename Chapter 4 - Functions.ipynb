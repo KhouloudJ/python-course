{
 "cells": [
  {
   "cell_type": "markdown",
   "metadata": {},
   "source": [
    "# Chapter 4: Functions"
   ]
  },
  {
   "cell_type": "markdown",
   "metadata": {},
   "source": [
    "*Data Processing with Python, a course for Communication and Information Sciences*\n",
    "\n",
    "<a href=mailto:s.wubben@tilburguniversity.edu>s.wubben@tilburguniversity.edu</a>\n",
    "\n",
    "-----------\n"
   ]
  },
  {
   "cell_type": "markdown",
   "metadata": {},
   "source": [
    "A function is an isolated chunk of code, that has a name, gets zero or more parameters, and may return a value.\n",
    "The advantage of using functions is that no knowledge is needed of the exact functioning of the code to use it\n",
    "A second advantage is that functions can be developed and tested in isolation\n",
    "We already encountered several functions: `print()`, `type()`,`input()`, etc."
   ]
  },
  {
   "cell_type": "markdown",
   "metadata": {},
   "source": [
    "## Importing external modules"
   ]
  },
  {
   "cell_type": "markdown",
   "metadata": {},
   "source": [
    "Most of the functionality we have used thus far, is simply built into the Python language itself. Often however you need to use external modules in your code. A lot of external modules are already available in the Python Standard Library, for a wide variety of tasks. There are also countless third-party providers of Python modules. \n",
    "\n",
    "To use an external module in your code you need to explicitly 'import' it. Consider for example the module `random` from the standard library, which contains functions for generating random numbers:"
   ]
  },
  {
   "cell_type": "code",
   "execution_count": 1,
   "metadata": {
    "collapsed": false
   },
   "outputs": [
    {
     "name": "stdout",
     "output_type": "stream",
     "text": [
      "4\n"
     ]
    }
   ],
   "source": [
    "import random\n",
    "print(random.randint(0, 100))"
   ]
  },
  {
   "cell_type": "markdown",
   "metadata": {},
   "source": [
    "Note the syntax used: using the dot, we indicate that our machine should look for the `randint()` function inside the `random` module we just imported. You can import an entire module or import only a specific function in the module. We could also have imported the (single) function we needed as follows:"
   ]
  },
  {
   "cell_type": "code",
   "execution_count": null,
   "metadata": {
    "collapsed": false
   },
   "outputs": [],
   "source": [
    "from random import randint\n",
    "print(randint(0, 100))"
   ]
  },
  {
   "cell_type": "markdown",
   "metadata": {},
   "source": [
    "In this case we wouldn't have to specify where or machine should find the `randint()` function. You can also (temporarily) change the names of the functions you import:"
   ]
  },
  {
   "cell_type": "code",
   "execution_count": 2,
   "metadata": {
    "collapsed": false
   },
   "outputs": [
    {
     "name": "stdout",
     "output_type": "stream",
     "text": [
      "28\n"
     ]
    }
   ],
   "source": [
    "from random import randint as random_number\n",
    "print(random_number(0, 100))"
   ]
  },
  {
   "cell_type": "markdown",
   "metadata": {},
   "source": [
    "---"
   ]
  },
  {
   "cell_type": "markdown",
   "metadata": {},
   "source": [
    "## Creating functions"
   ]
  },
  {
   "cell_type": "markdown",
   "metadata": {},
   "source": [
    "In general, a function will do something for you, based on a number of input parameters you pass it, and it will typically return a result. You are not limited to using functions available from in the standard library or the ones provided by external parties. You can also write your own functions!\n",
    "\n",
    "###Store and reuse\n",
    "In fact, writing your own functions is essential. Separating your problem into sub-problems and writing a function for each of those is an immensely important part of well-structured programming. In the rest of this chapter we will teach you how to write your own functions which you can then re-use as many times as you like! \n",
    "\n",
    "\n",
    "###Advantages of using functions\n",
    "- encapsulation: wrapping a piece of useful code into a function so that it can be used without knowledge of the specifics\n",
    "- generalization: making a piece of code useful in varied circumstances through parameters\n",
    "- manageability: Dividing a complex program up into easy-to-manage chunks\n",
    "- maintainability: using meaningful names to make the program better readable and understandable  \n",
    "- reusability: a good function may be useful in multiple programs\n",
    "- recursion!\n",
    "\n",
    "Let's start off with a trivial function. Functions are defined using the `def` keyword, followed by the name you want your function to have and (optionally!) the names of the parameters that your function takes. \n",
    "\n",
    "    def myFunction(optional_parameters):\n",
    "        statements\n",
    "   \n",
    "Statements must be indented, so dat Python knows what belongs in the function and what not. It is convention to start the function name with a lowercase letter, and start follow-up words with a capital (e.g. myFunction). Functions are only executed when you call them. It is good practise to define your functions at the top of your program."
   ]
  },
  {
   "cell_type": "code",
   "execution_count": 3,
   "metadata": {
    "collapsed": false
   },
   "outputs": [
    {
     "name": "stdout",
     "output_type": "stream",
     "text": [
      "Hello World!\n"
     ]
    }
   ],
   "source": [
    "def helloWorld():\n",
    "    print(\"Hello World!\")\n",
    "\n",
    "helloWorld()"
   ]
  },
  {
   "cell_type": "markdown",
   "metadata": {},
   "source": [
    "**Exercise:** In the example below, you see that Python does not execute the function! Can you make it print the rum line after both other lines by calling the function?"
   ]
  },
  {
   "cell_type": "code",
   "execution_count": 2,
   "metadata": {
    "collapsed": false
   },
   "outputs": [
    {
     "name": "stdout",
     "output_type": "stream",
     "text": [
      "Fifteen men on the dead man's chest\n",
      "Yo-ho-ho, and a bottle of rum!\n",
      "Drink and the devil had done for the rest\n",
      "Yo-ho-ho, and a bottle of rum!\n"
     ]
    }
   ],
   "source": [
    "print(\"Fifteen men on the dead man's chest\")\n",
    "\n",
    "def printRum():\n",
    "    print(\"Yo-ho-ho, and a bottle of rum!\")\n",
    "printRum()\n",
    "print(\"Drink and the devil had done for the rest\")\n",
    "printRum()"
   ]
  },
  {
   "cell_type": "markdown",
   "metadata": {},
   "source": [
    "###Arguments and parameters\n",
    "\n",
    "An **argument** is a value we pass into the function as its input when we call the function.\n",
    "We use arguments so we can direct the function to do different kinds of work when we call it at different times\n",
    "We put the arguments in parentheses after the name of the function.\n",
    "\n",
    "A **parameter** is a variable which we use in the function definition to access the argument given to the function.\n",
    "\n",
    "Let's have a look:\n"
   ]
  },
  {
   "cell_type": "code",
   "execution_count": 3,
   "metadata": {
    "collapsed": false
   },
   "outputs": [
    {
     "name": "stdout",
     "output_type": "stream",
     "text": [
      "Hallo!\n",
      "Hola!\n",
      "Hello!\n"
     ]
    }
   ],
   "source": [
    "#lang is the parameter\n",
    "def greet(lang):\n",
    "    if lang == \"spanish\":\n",
    "        print(\"Hola!\")\n",
    "    elif lang == \"dutch\":\n",
    "        print(\"Hallo!\")\n",
    "    else:\n",
    "        print(\"Hello!\")\n",
    "\n",
    "#'dutch' is the argument\n",
    "greet(\"dutch\")\n",
    "#'spanish' is the argument\n",
    "greet(\"spanish\")\n",
    "#'whatever' is the argument\n",
    "greet(\"whatever\")"
   ]
  },
  {
   "cell_type": "markdown",
   "metadata": {},
   "source": [
    "Functions can have multiple parameters. We can for example multiply two numbers in a function."
   ]
  },
  {
   "cell_type": "code",
   "execution_count": 5,
   "metadata": {
    "collapsed": false
   },
   "outputs": [
    {
     "name": "stdout",
     "output_type": "stream",
     "text": [
      "10662040760\n",
      "6\n"
     ]
    }
   ],
   "source": [
    "def multiply(x, y):\n",
    "    result = x * y\n",
    "    print(result)\n",
    "       \n",
    "multiply(2020,5278238)\n",
    "multiply(2,3)"
   ]
  },
  {
   "cell_type": "markdown",
   "metadata": {},
   "source": [
    "We can also define functions that call other functions:"
   ]
  },
  {
   "cell_type": "code",
   "execution_count": 3,
   "metadata": {
    "collapsed": false
   },
   "outputs": [
    {
     "name": "stdout",
     "output_type": "stream",
     "text": [
      "Hello\n",
      "\n",
      "Hello to you too\n",
      "\n",
      "\n",
      "How are you today?\n"
     ]
    }
   ],
   "source": [
    "def newLine():\n",
    "    print()\n",
    "\n",
    "def twoNewLines():\n",
    "    newLine()\n",
    "    newLine()\n",
    "\n",
    "print(\"Hello\")\n",
    "newLine()\n",
    "print(\"Hello to you too\")\n",
    "twoNewLines()\n",
    "print(\"How are you today?\")\n"
   ]
  },
  {
   "cell_type": "code",
   "execution_count": null,
   "metadata": {
    "collapsed": true
   },
   "outputs": [],
   "source": []
  },
  {
   "cell_type": "markdown",
   "metadata": {},
   "source": [
    "**Exercise**: write a function called `multipleNewlines` which takes as argument an integer and prints that many newlines by calling the function `newLine`.\n",
    "    "
   ]
  },
  {
   "cell_type": "code",
   "execution_count": 5,
   "metadata": {
    "collapsed": false
   },
   "outputs": [
    {
     "name": "stdout",
     "output_type": "stream",
     "text": [
      "Start\n",
      "\n",
      "\n",
      "\n",
      "\n",
      "\n",
      "\n",
      "\n",
      "\n",
      "\n",
      "\n",
      "End\n"
     ]
    }
   ],
   "source": [
    "def multipleNewlines(x):\n",
    "  for i in range(x):\n",
    "    newLine()\n",
    "\n",
    "print(\"Start\")\n",
    "multipleNewlines(10)\n",
    "print(\"End\")"
   ]
  },
  {
   "cell_type": "markdown",
   "metadata": {},
   "source": [
    "###`return`\n",
    "Functions can have a `return` statement. The `return` statement returns a value back to the caller and always ends the execution of the function. This also allows us to use the result of a function outside of that function."
   ]
  },
  {
   "cell_type": "code",
   "execution_count": 10,
   "metadata": {
    "collapsed": false
   },
   "outputs": [
    {
     "name": "stdout",
     "output_type": "stream",
     "text": [
      "10\n",
      "12\n"
     ]
    }
   ],
   "source": [
    "def multiply(x, y):\n",
    "    result = x * y\n",
    "    return result\n",
    "\n",
    "#here we assign the returned value to variable z\n",
    "z = multiply(2, 5)\n",
    "variable= (5 * 10)\n",
    "variable = multiply(3,4)\n",
    "\n",
    "print(z)\n",
    "print(variable)"
   ]
  },
  {
   "cell_type": "code",
   "execution_count": 7,
   "metadata": {
    "collapsed": false
   },
   "outputs": [
    {
     "name": "stdout",
     "output_type": "stream",
     "text": [
      "600\n"
     ]
    }
   ],
   "source": [
    "# or print directly\n",
    "print(multiply(30,20))"
   ]
  },
  {
   "cell_type": "markdown",
   "metadata": {},
   "source": [
    "**Exercise:** try to figure out what is going on in the following examples. How does Python deal with the order of calling functions?"
   ]
  },
  {
   "cell_type": "code",
   "execution_count": 8,
   "metadata": {
    "collapsed": false
   },
   "outputs": [
    {
     "name": "stdout",
     "output_type": "stream",
     "text": [
      "8\n"
     ]
    }
   ],
   "source": [
    "print(multiply(1+1,6-2))"
   ]
  },
  {
   "cell_type": "code",
   "execution_count": 11,
   "metadata": {
    "collapsed": false
   },
   "outputs": [
    {
     "name": "stdout",
     "output_type": "stream",
     "text": [
      "80\n"
     ]
    }
   ],
   "source": [
    "print(multiply(multiply(4,2),multiply(2,5)))"
   ]
  },
  {
   "cell_type": "code",
   "execution_count": 12,
   "metadata": {
    "collapsed": false
   },
   "outputs": [
    {
     "name": "stdout",
     "output_type": "stream",
     "text": [
      "4\n"
     ]
    }
   ],
   "source": [
    "print(len(str(multiply(10,100))))"
   ]
  },
  {
   "cell_type": "markdown",
   "metadata": {},
   "source": [
    "###Returning multiple variables\n",
    "Instead of returning just one value per function, sometimes we need a function to return multiple values. We call such a collection of values a tuple.\n"
   ]
  },
  {
   "cell_type": "code",
   "execution_count": 13,
   "metadata": {
    "collapsed": false
   },
   "outputs": [
    {
     "name": "stdout",
     "output_type": "stream",
     "text": [
      "product: 50 sum: 15\n"
     ]
    }
   ],
   "source": [
    "def calculate(x,y):\n",
    "    product = x * y\n",
    "    summed = x + y\n",
    "    \n",
    "    #we return a tuple of values\n",
    "    return product, summed\n",
    "\n",
    "# we assign the returned tuple to two variables at once\n",
    "var1, var2 = calculate(10,5)\n",
    "\n",
    "print(\"product:\",var1,\"sum:\",var2)\n",
    "    "
   ]
  },
  {
   "cell_type": "markdown",
   "metadata": {},
   "source": [
    "Make sure you actually save your 2 values into 2 variables, or else you end up with errors or unexpected behavior."
   ]
  },
  {
   "cell_type": "code",
   "execution_count": 14,
   "metadata": {
    "collapsed": false
   },
   "outputs": [
    {
     "ename": "ValueError",
     "evalue": "need more than 2 values to unpack",
     "output_type": "error",
     "traceback": [
      "\u001b[0;31m---------------------------------------------------------------------------\u001b[0m",
      "\u001b[0;31mValueError\u001b[0m                                Traceback (most recent call last)",
      "\u001b[0;32m<ipython-input-14-79d185d3f4c3>\u001b[0m in \u001b[0;36m<module>\u001b[0;34m()\u001b[0m\n\u001b[1;32m      1\u001b[0m \u001b[0;31m#this will generate an error\u001b[0m\u001b[0;34m\u001b[0m\u001b[0;34m\u001b[0m\u001b[0m\n\u001b[0;32m----> 2\u001b[0;31m \u001b[0mvar1\u001b[0m\u001b[0;34m,\u001b[0m\u001b[0mvar2\u001b[0m\u001b[0;34m,\u001b[0m\u001b[0mvar3\u001b[0m \u001b[0;34m=\u001b[0m \u001b[0mcalculate\u001b[0m\u001b[0;34m(\u001b[0m\u001b[0;36m10\u001b[0m\u001b[0;34m,\u001b[0m\u001b[0;36m5\u001b[0m\u001b[0;34m)\u001b[0m\u001b[0;34m\u001b[0m\u001b[0m\n\u001b[0m",
      "\u001b[0;31mValueError\u001b[0m: need more than 2 values to unpack"
     ]
    }
   ],
   "source": [
    "#this will generate an error\n",
    "var1,var2,var3 = calculate(10,5)\n"
   ]
  },
  {
   "cell_type": "markdown",
   "metadata": {},
   "source": [
    "**Exercise:** write a function that takes two parameters A and B and switches the values, so B will get the value of A and A will get the value of B"
   ]
  },
  {
   "cell_type": "code",
   "execution_count": 19,
   "metadata": {
    "collapsed": false
   },
   "outputs": [
    {
     "name": "stdout",
     "output_type": "stream",
     "text": [
      "apple orange\n"
     ]
    }
   ],
   "source": [
    "A='orange'\n",
    "B='apple'\n",
    "\n",
    "A,B = B,A\n",
    "\n",
    "print(A,B)"
   ]
  },
  {
   "cell_type": "markdown",
   "metadata": {},
   "source": [
    "### Variable scope"
   ]
  },
  {
   "cell_type": "markdown",
   "metadata": {},
   "source": [
    "Any variables you declare in a function, as well as the parameters that are passed to a function will only exist within the 'scope' of that function, i.e. inside the function itself. The following code will produce an error, because the variable `x` does not exist outside of the function:"
   ]
  },
  {
   "cell_type": "code",
   "execution_count": 21,
   "metadata": {
    "collapsed": false
   },
   "outputs": [
    {
     "name": "stdout",
     "output_type": "stream",
     "text": [
      "1\n"
     ]
    }
   ],
   "source": [
    "def setx():\n",
    "    x = 1\n",
    "    return x\n",
    "\n",
    "x = setx()\n",
    "print(x)"
   ]
  },
  {
   "cell_type": "markdown",
   "metadata": {},
   "source": [
    "Also consider this:\n",
    "    "
   ]
  },
  {
   "cell_type": "code",
   "execution_count": 22,
   "metadata": {
    "collapsed": false
   },
   "outputs": [
    {
     "name": "stdout",
     "output_type": "stream",
     "text": [
      "0\n"
     ]
    }
   ],
   "source": [
    "x = 0\n",
    "def setx():\n",
    "    x = 1\n",
    "setx()\n",
    "print(x)"
   ]
  },
  {
   "cell_type": "markdown",
   "metadata": {},
   "source": [
    "In fact, this code has produced two completely unrelated `x`'s!"
   ]
  },
  {
   "cell_type": "markdown",
   "metadata": {},
   "source": [
    "Nevertheless, it is possible to read a global variable from within a function, in a strictly read-only fashion. But as soon as you assign something, the variable will be a local copy:"
   ]
  },
  {
   "cell_type": "code",
   "execution_count": 23,
   "metadata": {
    "collapsed": false
   },
   "outputs": [
    {
     "name": "stdout",
     "output_type": "stream",
     "text": [
      "1\n"
     ]
    }
   ],
   "source": [
    "x = 1\n",
    "def getx():\n",
    "    print(x)\n",
    "    \n",
    "getx()"
   ]
  },
  {
   "cell_type": "markdown",
   "metadata": {},
   "source": [
    "####Scope in general\n",
    "The scope of a variable is the block of code in which it is created, and all blocks of code within that block of code (unless a new variable with the same name is created within such a block). The value of a variable is (in principle) undefined outside its scope\n"
   ]
  },
  {
   "cell_type": "markdown",
   "metadata": {},
   "source": [
    "###Boolean functions\n",
    "\n",
    "We can also define functions that create either `True` or `False`. We can directly plug such a function into an `if` statement. Let's consider the case where we want to check if a number is even or odd."
   ]
  },
  {
   "cell_type": "code",
   "execution_count": 25,
   "metadata": {
    "collapsed": false
   },
   "outputs": [
    {
     "name": "stdout",
     "output_type": "stream",
     "text": [
      "Please enter a number> 4\n",
      "4 is even\n"
     ]
    }
   ],
   "source": [
    "def isEven( p ):\n",
    "    if p%2 ==1:\n",
    "        return False\n",
    "    else:\n",
    "        return True\n",
    "\n",
    "num = int(input(\"Please enter a number> \"))\n",
    "if isEven(num):\n",
    "    print(num, \"is even\")\n",
    "else:\n",
    "    print(num, \"is odd\")"
   ]
  },
  {
   "cell_type": "markdown",
   "metadata": {},
   "source": [
    "###Recursion"
   ]
  },
  {
   "cell_type": "markdown",
   "metadata": {},
   "source": [
    "Recursion is a method of programming or coding a problem, in which a function calls itself one or more times in its body. Usually, it is returning the return value of this function call. If a function definition satisfies the condition of recursion, we call this function a recursive function. \n",
    "\n",
    "**Termination condition:** A recursive function has to fulfil an important condition to be used in a program: it has to terminate. A recursive function terminates, if with every recursive call the solution of the problem is downsized and moves towards a base case. A base case is a case, where the problem can be solved without further recursion. A recursion can end up in an infinite loop, if the base case is not met in the calls. \n",
    "\n",
    "Recursion should not be used indiscriminately\n",
    "- All local variables used in the function will be placed on the “stack”, which has only limited capacity\n",
    "- Only use recursion when it is the most elegant method (e.g., in tree search), and you have a good idea of the recursion depth\n",
    "\n",
    "A trivial example of recursion is implementing the countdown procedure we saw in Chapter 3 with a recursive function instead of a loop:\n",
    "\n",
    "\n"
   ]
  },
  {
   "cell_type": "code",
   "execution_count": 26,
   "metadata": {
    "collapsed": false
   },
   "outputs": [
    {
     "name": "stdout",
     "output_type": "stream",
     "text": [
      "5\n",
      "4\n",
      "3\n",
      "2\n",
      "1\n",
      "Blastoff!\n"
     ]
    }
   ],
   "source": [
    "def countDown(n):\n",
    "    #recursion\n",
    "    if n > 0:\n",
    "        print(n)\n",
    "        countDown(n-1)\n",
    "    #termination condition\n",
    "    else:\n",
    "        print(\"Blastoff!\")\n",
    "    \n",
    "countDown(5)"
   ]
  },
  {
   "cell_type": "markdown",
   "metadata": {
    "collapsed": false
   },
   "source": [
    "Now let's have a look at a more complex problem.\n",
    "Consider the task of finding the factorial of a number. The factorial of a number is the product of all positive integers less than or equal to that number.\n",
    "\n",
    "The factorial of 4 is:\n",
    "\n",
    "    4! = 4 * 3 * 2 * 1\n",
    "\n",
    "We can rewrite this as:\n",
    "\n",
    "    4! = 4 * 3!\n",
    "    3! = 3 * 2!\n",
    "    2! = 2 * 1 \n",
    "\n",
    "\n",
    "We can solve this problem recursively in Python by defining a function which takes as input an integer *n* higher than 0 and multiplies it with the result of calling the function itself with integer *n-1*. We terminate the function when *n* is 1. Did that melt your brain? Let's see it in action:\n"
   ]
  },
  {
   "cell_type": "code",
   "execution_count": 29,
   "metadata": {
    "collapsed": false
   },
   "outputs": [
    {
     "name": "stdout",
     "output_type": "stream",
     "text": [
      "720\n"
     ]
    }
   ],
   "source": [
    "def factorial(n):\n",
    "    #termination condition\n",
    "    if n == 1:\n",
    "        return n\n",
    "    #recursion\n",
    "    else:\n",
    "        return n*factorial(n-1)\n",
    "    \n",
    "print(factorial(6))"
   ]
  },
  {
   "cell_type": "markdown",
   "metadata": {},
   "source": [
    "We can make this a bit less magical by adding some print statements to see what's going on."
   ]
  },
  {
   "cell_type": "code",
   "execution_count": 30,
   "metadata": {
    "collapsed": false
   },
   "outputs": [
    {
     "name": "stdout",
     "output_type": "stream",
     "text": [
      "factorial has been called with n = 6\n",
      "factorial has been called with n = 5\n",
      "factorial has been called with n = 4\n",
      "factorial has been called with n = 3\n",
      "factorial has been called with n = 2\n",
      "factorial has been called with n = 1\n",
      "intermediate result for  2  * factorial( 1 ):  2\n",
      "intermediate result for  3  * factorial( 2 ):  6\n",
      "intermediate result for  4  * factorial( 3 ):  24\n",
      "intermediate result for  5  * factorial( 4 ):  120\n",
      "intermediate result for  6  * factorial( 5 ):  720\n",
      "final result is 720\n"
     ]
    }
   ],
   "source": [
    "def factorial(n):\n",
    "    print(\"factorial has been called with n = \" + str(n))\n",
    "    if n == 1:\n",
    "        return n\n",
    "    else:\n",
    "        res = n * factorial(n-1)\n",
    "        print(\"intermediate result for \", n, \" * factorial(\" ,n-1, \"): \",res)\n",
    "        return res\n",
    "\n",
    "print(\"final result is\",factorial(6))"
   ]
  },
  {
   "cell_type": "markdown",
   "metadata": {},
   "source": [
    "-------\n",
    "##What we have learnt\n",
    "\n",
    "\n",
    "To finish this section, here is an overview of the concepts you have learnt. Go through the list and make sure you understand all the concepts.\n",
    "\n",
    "-  built in functions\n",
    "-  importing methods\n",
    "-  defining your own functions with `def`\n",
    "-  arguments vs. parameters\n",
    "-  `return`\n",
    "-  returning values in a tuple\n",
    "-  recursion\n",
    "------"
   ]
  },
  {
   "cell_type": "markdown",
   "metadata": {},
   "source": [
    "# Exercises"
   ]
  },
  {
   "cell_type": "markdown",
   "metadata": {},
   "source": [
    "- **Exercise 1:** Write a function that rolls a dice everytime you call it by generating a random integer between 1 and 6! You can import functionality for doing this via `randint()`."
   ]
  },
  {
   "cell_type": "code",
   "execution_count": null,
   "metadata": {
    "collapsed": true
   },
   "outputs": [],
   "source": [
    "from random import randint\n",
    "\n",
    "#your code\n"
   ]
  },
  {
   "cell_type": "markdown",
   "metadata": {},
   "source": [
    "- **Exercise 2:** Write a program to calculate the total amount of money earned given an hourly wage and a number of hours. The program should indicate to give the employee 1.5 times the hourly rate for hours worked above 40 hours. Create a function called computePay which takes two parameters ( hours and  rate). Example output:\n",
    "\n",
    "        Enter Hours: 45\n",
    "        Enter Rate: 10 \n",
    "        Pay: 475.0"
   ]
  },
  {
   "cell_type": "code",
   "execution_count": null,
   "metadata": {
    "collapsed": true
   },
   "outputs": [],
   "source": [
    "# pay code"
   ]
  },
  {
   "cell_type": "markdown",
   "metadata": {},
   "source": [
    "- **Exercise 3:** Write a function that asks a user to enter either \"Y\" or \"N\". The program should keep asking until the right input is given. Use a recursive function.\n",
    "\n",
    "Example output:\n",
    "    \n",
    "\n",
    "    enter Y or N: E\n",
    "    wrong input!\n",
    "    enter Y or N: 3\n",
    "    wrong input!\n",
    "    enter Y or N: Y\n",
    "    User entered Y"
   ]
  },
  {
   "cell_type": "code",
   "execution_count": null,
   "metadata": {
    "collapsed": false
   },
   "outputs": [],
   "source": [
    "# check input code"
   ]
  },
  {
   "cell_type": "markdown",
   "metadata": {},
   "source": [
    "- **Exercise 4:** Rewrite the cashier code from Chapter 1, exercise 7 so that it uses one function. You should call this function for the dollar, quarter, dime and nickel calculation.\n",
    "    \n",
    "    \n",
    ">   Convert the amount (11.56) into cents (1156).\n",
    ">   Divide the cents by 100 to find the number of dollars, but first subtract the rest using the modulus operator!\n",
    ">   Divide the remaining cents by 25 to find the number of quarters, but, again, first subtract the rest using the modulus operator!\n",
    ">   Divide the remaining cents by 10 to find the number of dimes, etc.\n",
    ">   Divide the remaining cents by 5 to find the number of nickels, etc.\n",
    ">   The remaining cents are the pennies. Now display the result for your cashier!"
   ]
  },
  {
   "cell_type": "code",
   "execution_count": null,
   "metadata": {
    "collapsed": true
   },
   "outputs": [],
   "source": [
    "#cashier function code"
   ]
  },
  {
   "cell_type": "markdown",
   "metadata": {},
   "source": [
    "------------------------------\n",
    "\n",
    "You've reached the end of Chapter 4! "
   ]
  }
 ],
 "metadata": {
  "kernelspec": {
   "display_name": "Python 3",
   "language": "python",
   "name": "python3"
  },
  "language_info": {
   "codemirror_mode": {
    "name": "ipython",
    "version": 3
   },
   "file_extension": ".py",
   "mimetype": "text/x-python",
   "name": "python",
   "nbconvert_exporter": "python",
   "pygments_lexer": "ipython3",
   "version": "3.4.1"
  }
 },
 "nbformat": 4,
 "nbformat_minor": 0
}
